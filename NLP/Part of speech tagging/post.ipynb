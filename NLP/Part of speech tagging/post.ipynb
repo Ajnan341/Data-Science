{
 "cells": [
  {
   "cell_type": "markdown",
   "metadata": {},
   "source": [
    "# What is POS(Parts-Of-Speech) Tagging?\n",
    "Parts of Speech tagging is a linguistic activity in Natural Language Processing (NLP) wherein each word in a document is given a particular part of speech (adverb, adjective, verb, etc.) or grammatical category. Through the addition of a layer of syntactic and semantic information to the words, this procedure makes it easier to comprehend the sentence’s structure and meaning.\n",
    "\n",
    "In NLP applications, POS tagging is useful for machine translation, named entity recognition, and information extraction, among other things. It also works well for clearing out ambiguity in terms with numerous meanings and revealing a sentence’s grammatical structure."
   ]
  },
  {
   "cell_type": "markdown",
   "metadata": {},
   "source": [
    "# NLTK"
   ]
  },
  {
   "cell_type": "code",
   "execution_count": 2,
   "metadata": {},
   "outputs": [
    {
     "name": "stderr",
     "output_type": "stream",
     "text": [
      "[nltk_data] Downloading package punkt to\n",
      "[nltk_data]     C:\\Users\\hp\\AppData\\Roaming\\nltk_data...\n",
      "[nltk_data]   Package punkt is already up-to-date!\n",
      "[nltk_data] Downloading package averaged_perceptron_tagger to\n",
      "[nltk_data]     C:\\Users\\hp\\AppData\\Roaming\\nltk_data...\n",
      "[nltk_data]   Unzipping taggers\\averaged_perceptron_tagger.zip.\n"
     ]
    },
    {
     "data": {
      "text/plain": [
       "True"
      ]
     },
     "execution_count": 2,
     "metadata": {},
     "output_type": "execute_result"
    }
   ],
   "source": [
    "import nltk\n",
    "nltk.download('punkt')\n",
    "nltk.download('averaged_perceptron_tagger')"
   ]
  },
  {
   "cell_type": "code",
   "execution_count": 9,
   "metadata": {},
   "outputs": [
    {
     "name": "stdout",
     "output_type": "stream",
     "text": [
      "Original Text:\n",
      "NLTK is a powerful library for natural language processing.\n",
      "\n",
      "PoS Tagging Result:\n",
      "NLTK: NNP\n",
      "is: VBZ\n",
      "a: DT\n",
      "powerful: JJ\n",
      "library: NN\n",
      "for: IN\n",
      "natural: JJ\n",
      "language: NN\n",
      "processing: NN\n",
      ".: .\n"
     ]
    }
   ],
   "source": [
    "# Importing the NLTK library\n",
    "import nltk\n",
    "from nltk.tokenize import word_tokenize\n",
    "from nltk import pos_tag\n",
    "\n",
    "# Sample text\n",
    "text = \"NLTK is a powerful library for natural language processing.\"\n",
    "words=word_tokenize(text)\n",
    "# Performing PoS tagging\n",
    "pos_tags = pos_tag(words)\n",
    "\n",
    "# Displaying the PoS tagged result in separate lines\n",
    "print(\"Original Text:\")\n",
    "print(text)\n",
    "\n",
    "print(\"\\nPoS Tagging Result:\")\n",
    "for word, pos_tag in pos_tags:\n",
    "\tprint(f\"{word}: {pos_tag}\")\n",
    "\n"
   ]
  },
  {
   "cell_type": "markdown",
   "metadata": {},
   "source": [
    "# Parts-of-Speech tagging using Spacy"
   ]
  },
  {
   "cell_type": "code",
   "execution_count": 10,
   "metadata": {},
   "outputs": [
    {
     "name": "stdout",
     "output_type": "stream",
     "text": [
      "Original Text:  SpaCy is a popular natural language processing library.\n",
      "PoS Tagging Result:\n",
      "SpaCy: PROPN\n",
      "is: AUX\n",
      "a: DET\n",
      "popular: ADJ\n",
      "natural: ADJ\n",
      "language: NOUN\n",
      "processing: NOUN\n",
      "library: NOUN\n",
      ".: PUNCT\n"
     ]
    }
   ],
   "source": [
    "#importing libraries \n",
    "import spacy\n",
    "\n",
    "# Load the English language model\n",
    "nlp = spacy.load(\"en_core_web_sm\")\n",
    "\n",
    "# Sample text\n",
    "text = \"SpaCy is a popular natural language processing library.\"\n",
    "\n",
    "# Process the text with SpaCy\n",
    "doc = nlp(text)\n",
    "\n",
    "# Display the PoS tagged result\n",
    "print(\"Original Text: \", text)\n",
    "print(\"PoS Tagging Result:\")\n",
    "for token in doc:\n",
    "\tprint(f\"{token.text}: {token.pos_}\")\n"
   ]
  },
  {
   "cell_type": "code",
   "execution_count": null,
   "metadata": {},
   "outputs": [],
   "source": []
  }
 ],
 "metadata": {
  "kernelspec": {
   "display_name": "Python 3",
   "language": "python",
   "name": "python3"
  },
  "language_info": {
   "codemirror_mode": {
    "name": "ipython",
    "version": 3
   },
   "file_extension": ".py",
   "mimetype": "text/x-python",
   "name": "python",
   "nbconvert_exporter": "python",
   "pygments_lexer": "ipython3",
   "version": "3.11.5"
  }
 },
 "nbformat": 4,
 "nbformat_minor": 2
}
