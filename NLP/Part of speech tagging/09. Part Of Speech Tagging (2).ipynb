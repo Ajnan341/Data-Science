{
 "cells": [
  {
   "cell_type": "markdown",
   "id": "41fb27ce",
   "metadata": {},
   "source": [
    "# <span style = \"color:coral\"> Part of Speech Tagging </span>"
   ]
  },
  {
   "cell_type": "markdown",
   "id": "f4fb4883",
   "metadata": {},
   "source": [
    "***"
   ]
  },
  {
   "cell_type": "markdown",
   "id": "dce32b7d",
   "metadata": {},
   "source": [
    "### What is Part of Speech?"
   ]
  },
  {
   "cell_type": "markdown",
   "id": "98bab191",
   "metadata": {},
   "source": [
    "There are eight parts of speech in the English language: nouns, pronouns, verbs, adverbs, adjectives, prepositions, conjunctions, and interjections.\n",
    "\n",
    "* Nouns are the name of places, animals, persons or things and examples include Tokyo, Elephant, Mike, Vehicle, etc.\n",
    "* Pronouns are words that replaces a noun and examples include he,she,they, her,him,etc.\n",
    "* Verbs are action words and examples are go,eat,drive,write,sleep, etc.\n",
    "* Adverbs are words that further describes a verb, adjective or another and example include quickly, boldly, often, poorly,yearly ,etc.\n",
    "* Adjectives are words that further describes a noun or pronoun and example include quick, angry, new, cheerful, yellow, etc.\n",
    "* Propositions are words that relate nouns or pronouns with other words and examples include in, at, on, for, under, above, etc.\n",
    "* Conjuctions are words used to join words or phrases in a sentence and examples include and, while, but, nevetheless, because, etc.\n",
    "* Interjections are words used to convey emotions or surprises and examples include Wow, Really, Hurrah, Oh, Alas, etc.\n",
    "\n",
    "Now that you know what each part of speech are, let's discuss Part of Speech Tagging."
   ]
  },
  {
   "cell_type": "markdown",
   "id": "777abacd",
   "metadata": {},
   "source": [
    "### Part of Speech (POS) Tagging"
   ]
  },
  {
   "cell_type": "markdown",
   "id": "182cf564",
   "metadata": {},
   "source": [
    "A part of speech POS Tagging is a classification system in the English language that reveals the role a word plays in a context. POS Tagging in simple terms means allocating every word in a sentence to a part of speech. NLTK has a method called pos_tag that performs POS tagging on a sentence. The methods apply supervised learning approaches that utilize features such as context, the capitulation of words,punctuations, and so on to determine the part of speech."
   ]
  },
  {
   "cell_type": "markdown",
   "id": "356cf891",
   "metadata": {},
   "source": [
    "POS tagging is a critical procedure to understand the meaning of a sentence and know the relationship between words."
   ]
  },
  {
   "cell_type": "markdown",
   "id": "9883059d",
   "metadata": {},
   "source": [
    "There are 35 POS tags in NLTK's pos_tag methods. The tags are shown in the table below."
   ]
  },
  {
   "cell_type": "markdown",
   "id": "871e3899",
   "metadata": {},
   "source": [
    "| Tag | Abbreviation | Words | \n",
    "| --- | --- | --- | \n",
    "| Coordinating Conjunction | CC | But, Yet, Although |\n",
    "| Determiner | DT | A,An, The, This, My, Most |\n",
    "| Cardinal Digit | CD | One, Two, Three, Forty |\n",
    "| Existential There | EX | There |\n",
    "| Foreign Word | FW | En masse, bona fide, et cetera, et al |\n",
    "| Subordinating Conjuction or preposition | IN | Over, Behind, Into |\n",
    "| Adjective | JJ | Beautiful, Slow,New |\n",
    "| Adjective, Comparative | JJR | Greater, Better, Older |\n",
    "| Adjective, Superlative | JJS | Greatest, Best, Oldest |\n",
    "| List Marker | LS | i,ii,iii,iv,.. | \n",
    "| Modal | MD | Have, Can, Shall |\n",
    "| Noun,Singular | NN | School, Table, Pen |\n",
    "| Noun, Plural | NNS | Schools, Tables, Pens |\n",
    "| Proper Noun, Plural | NNPS | Koreans, Universities, Americans |\n",
    "| Proper Noun, Singular | NNP | Monday, Chicago, Mark |\n",
    "| Predeterminer | PDT | Both, All, The |\n",
    "| Possesive Endings | POS | David's, Dan's, Francis' |\n",
    "| Personal Pronoun | PRP | I, They, She |\n",
    "| Possessive Pronoun | PRP | His, Her, Their | \n",
    "| Adverb | RB | Later, Very, Already |\n",
    "| Adverb, Comaparative | RBR | Better, More, Worse |\n",
    "| Adverb, Superlative | RBS | Best, Most, Worst |\n",
    "| Particle | RP | At, Across, About | \n",
    "| To | TO | To |\n",
    "| Verb, Base form | VB | Jump,Eat, Play |\n",
    "| Verb, Present Participle | VBG | Jumping, Eating, Playing |\n",
    "| Verb, Past Participle | VBN | Taken, Given, Gone |\n",
    "| Verb, Present Tense but not Third Person | VBP | End, Go, Endure |\n",
    "| Verb, Present Tense, Third Person Singular | VBZ | Jumps, Eats, Plays |\n",
    "| Wh-Determiner | WDT | Which, What, Whichever |\n",
    "| Wh- Pronouns | WP | Which, Whom, What | \n",
    "| Possessive Wh-Pronoun | WP$ | Whose |\n",
    "| Wh-Adverb | WRB | Where, Why, When | "
   ]
  },
  {
   "cell_type": "markdown",
   "id": "0deb5f17",
   "metadata": {},
   "source": [
    "### Implementing POS Tagging in Python"
   ]
  },
  {
   "cell_type": "code",
   "execution_count": 1,
   "id": "ca070a04",
   "metadata": {},
   "outputs": [
    {
     "data": {
      "text/plain": [
       "[('Edure', 'NN'),\n",
       " ('is', 'VBZ'),\n",
       " ('a', 'DT'),\n",
       " ('technology-oriented', 'JJ'),\n",
       " ('educational', 'JJ'),\n",
       " ('institute', 'NN'),\n",
       " ('carrying', 'VBG'),\n",
       " ('several', 'JJ'),\n",
       " ('years', 'NNS'),\n",
       " ('of', 'IN'),\n",
       " ('expertise', 'NN'),\n",
       " ('in', 'IN'),\n",
       " ('transforming', 'VBG'),\n",
       " ('careers', 'NNS'),\n",
       " ('of', 'IN'),\n",
       " ('fresh', 'JJ'),\n",
       " ('graduates', 'NNS'),\n",
       " ('and', 'CC'),\n",
       " ('corporates', 'NNS'),\n",
       " ('alike', 'RB'),\n",
       " ('.', '.')]"
      ]
     },
     "execution_count": 1,
     "metadata": {},
     "output_type": "execute_result"
    }
   ],
   "source": [
    "# Import nltk library\n",
    "import nltk\n",
    "\n",
    "# Define a text\n",
    "sentence = \"Edure is a technology-oriented educational institute carrying several years of expertise in transforming careers of fresh graduates and corporates alike.\"\n",
    "\n",
    "# Tokenize the text\n",
    "tokens = nltk.word_tokenize(sentence)\n",
    "\n",
    "# Perform POS tagging\n",
    "nltk.pos_tag(tokens)"
   ]
  },
  {
   "cell_type": "markdown",
   "id": "cd72fb8d",
   "metadata": {},
   "source": [
    "You can also check for more information about a tag using the help.upenn_tagset() method. Say you forgot what JJ means, You can find out by typing this line of code"
   ]
  },
  {
   "cell_type": "code",
   "execution_count": 4,
   "id": "d18d0d95",
   "metadata": {},
   "outputs": [
    {
     "name": "stdout",
     "output_type": "stream",
     "text": [
      "JJS: adjective, superlative\n",
      "    calmest cheapest choicest classiest cleanest clearest closest commonest\n",
      "    corniest costliest crassest creepiest crudest cutest darkest deadliest\n",
      "    dearest deepest densest dinkiest ...\n"
     ]
    }
   ],
   "source": [
    "nltk.help.upenn_tagset('JJS')"
   ]
  }
 ],
 "metadata": {
  "kernelspec": {
   "display_name": "Python 3 (ipykernel)",
   "language": "python",
   "name": "python3"
  },
  "language_info": {
   "codemirror_mode": {
    "name": "ipython",
    "version": 3
   },
   "file_extension": ".py",
   "mimetype": "text/x-python",
   "name": "python",
   "nbconvert_exporter": "python",
   "pygments_lexer": "ipython3",
   "version": "3.9.12"
  }
 },
 "nbformat": 4,
 "nbformat_minor": 5
}
