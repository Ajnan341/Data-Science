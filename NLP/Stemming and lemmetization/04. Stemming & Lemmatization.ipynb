{
 "cells": [
  {
   "cell_type": "markdown",
   "id": "8fc0f8cf",
   "metadata": {},
   "source": [
    "# <span style = \"color:green\">Stemming & Lemmatization</span>"
   ]
  },
  {
   "cell_type": "markdown",
   "id": "d5a4a6f8",
   "metadata": {},
   "source": [
    "***"
   ]
  },
  {
   "cell_type": "markdown",
   "id": "572b8f8d",
   "metadata": {},
   "source": [
    "Usually, a word has multiple meanings based on its usage in text, similarly, different forms of words convey related meaning, like \"toy\" and \"toys\", indicate identical meaning.\n",
    "\n",
    "You would probably find no different objective between a search for \"toy\" and a search for \"toys\". This kind of contrast between various forms of words termed as an \"inflection\", however, this makes various problems in understanding queries. \n",
    "\n",
    "Suppose another word \"came\" and \"camel\", thier search intent gives a different meaning, instead of having root-word. Similarly, if you search for the word \"Love\" in google, it shows results in stems of words like \"Loves\", \"Loved\", \"Loving\".\n",
    "\n",
    "For the simplification of various search queries, Stemming and Lemmatization are the strategies used for the same.\n",
    "\n",
    "Stemming and Lemmatization have been developed in the 1960s. These are the text normalizing and Text mining procedures in the field of Natural Language processing. These are a widely used system for tagging, SEO, Web search Result, and Information Retrieval.\n",
    "\n",
    "While implementing NLP, you will always face an issue of similar root-forms but different representations, for example, the word \"caring\" can be stripped out to \"car\" and \"care\" using the method Stemming and Lemmatization respectively."
   ]
  },
  {
   "cell_type": "markdown",
   "id": "d8abcd0c",
   "metadata": {},
   "source": [
    "| Stemming |  | Lemmatization | \n",
    "| --- |  | --- |\n",
    "| history, historical - histori |  | history, historical - history | \n",
    "| finally,final,finalized - fina |  | finally, final, finalized - final |"
   ]
  },
  {
   "cell_type": "markdown",
   "id": "fcdb44b1",
   "metadata": {},
   "source": [
    "## <span style = \"color:coral\">What is Stemming?</span>"
   ]
  },
  {
   "cell_type": "markdown",
   "id": "42120de1",
   "metadata": {},
   "source": [
    "We already know that a word has a root-base form but having different variations, for example, \"play\" is a root-base word and playing, played, plays are different forms of a single word. So, these words get stripped out, they might get the incorrect meanings or some other sort of errors."
   ]
  },
  {
   "cell_type": "markdown",
   "id": "df1d4a2b",
   "metadata": {},
   "source": [
    "The process of reducing inflection towards their root forms are called stemming, this occurs in such a way that depicting a group of relatable words under the same stem, even if the root has no appropriate  meaning."
   ]
  },
  {
   "cell_type": "markdown",
   "id": "77c97703",
   "metadata": {},
   "source": [
    "Moreover;\n",
    "* Stemming is a rule-based approach because it slices the inflected words from prefix or suffix as per the need using a set of commonly underused prefix and suffix, like \"-ing\",\"-ed\",\"-es\",\"-pre\",etc. It results in a word that is actually not a word.\n",
    "* There are mainly two errors that occur while performing stemming, Over-stemming, and under-stemming. Over-steaming occurs when two words are stemmed from the same root of different stems. Under-stemming occurs when two words are stemmed from the same root of not a different stems."
   ]
  },
  {
   "cell_type": "markdown",
   "id": "3463f926",
   "metadata": {},
   "source": [
    "#### Stemming words with NLTK"
   ]
  },
  {
   "cell_type": "code",
   "execution_count": 1,
   "id": "6c477623",
   "metadata": {},
   "outputs": [
    {
     "name": "stdout",
     "output_type": "stream",
     "text": [
      "programs : program\n",
      "program : program\n",
      "programmer : programm\n",
      "programming : program\n",
      "programmers : programm\n"
     ]
    }
   ],
   "source": [
    "from nltk.stem import PorterStemmer\n",
    "\n",
    "\n",
    "ps = PorterStemmer()\n",
    "\n",
    "# Choose some words to be stemmed\n",
    "words = [\"programs\", \"program\",\"programmer\", \"programming\",\"programmers\"]\n",
    "\n",
    "for i in words:\n",
    "    print(i,\":\", ps.stem(i))\n"
   ]
  },
  {
   "cell_type": "code",
   "execution_count": 2,
   "id": "5b7bfcd6",
   "metadata": {},
   "outputs": [
    {
     "name": "stdout",
     "output_type": "stream",
     "text": [
      "Programmers : programm\n",
      "program : program\n",
      "with : with\n",
      "programming : program\n",
      "languages : languag\n"
     ]
    }
   ],
   "source": [
    "# From a sentence\n",
    "from nltk.tokenize import word_tokenize\n",
    "from nltk.stem import PorterStemmer\n",
    "\n",
    "ps = PorterStemmer()\n",
    "\n",
    "sentence = \"Programmers program with programming languages\"\n",
    "words = word_tokenize(sentence)\n",
    "\n",
    "for i in words:\n",
    "    print(i,\":\",ps.stem(i))"
   ]
  },
  {
   "cell_type": "markdown",
   "id": "ce0167cc",
   "metadata": {},
   "source": [
    "### Applications of Stemming\n",
    "1. Stemming is used in information retrieval systems like search engines.\n",
    "2. It is used to determine domain vocabularies in domain analysis."
   ]
  },
  {
   "cell_type": "markdown",
   "id": "197dba6e",
   "metadata": {},
   "source": [
    "## <span style = \"color:coral\">What is Lemmatization?</span>"
   ]
  },
  {
   "cell_type": "markdown",
   "id": "07389346",
   "metadata": {},
   "source": [
    "In simpler forms, a method that switches any kind of a word to its base root mode is called Lemmatization."
   ]
  },
  {
   "cell_type": "markdown",
   "id": "84779b8c",
   "metadata": {},
   "source": [
    "In other words, Lemmatization is a method responsible for grouping different inflected forms of words into the root form, having the same meaning. It is similar to stemming, in turn, it gives the stripped word that has some dictionary meaning. The Morphological analysis would require the extraction of the correct lemma of each word.\n",
    "\n",
    "For example, Lemmatization clearly identifies the base form of 'troubled' to 'trouble' denoting some meaning whereas, Stemming will cut out 'ed' part and convert it into 'troubl' which has the wrong meaning and spelling errors."
   ]
  },
  {
   "cell_type": "markdown",
   "id": "36994af4",
   "metadata": {},
   "source": [
    "#### Lemmatization with NLTK"
   ]
  },
  {
   "cell_type": "code",
   "execution_count": 3,
   "id": "87783968",
   "metadata": {},
   "outputs": [
    {
     "name": "stdout",
     "output_type": "stream",
     "text": [
      "rocks : rock\n",
      "corpora : corpus\n",
      "better : good\n"
     ]
    }
   ],
   "source": [
    "from nltk.stem import WordNetLemmatizer\n",
    "\n",
    "lemmatizer = WordNetLemmatizer()\n",
    "\n",
    "print(\"rocks :\", lemmatizer.lemmatize('rocks'))\n",
    "print(\"corpora :\", lemmatizer.lemmatize('corpora'))\n",
    "\n",
    "# a denotes adjective in 'pos'\n",
    "print('better :', lemmatizer.lemmatize('better', pos = 'a'))"
   ]
  },
  {
   "cell_type": "markdown",
   "id": "d2fdd754",
   "metadata": {},
   "source": [
    "## What is the difference amid Stemming and Lemmatization?"
   ]
  },
  {
   "cell_type": "markdown",
   "id": "3858c17c",
   "metadata": {},
   "source": [
    "| S.No | Stemming | Lemmatization |\n",
    "| --- | --- | --- |\n",
    "| 1 | Stemming is faster because it chops words without knowing the context of the word in given sentences. | Lemmatization is slower as compared to stemming but it knows the context of the word before proceeding. |\n",
    "| 2 | It is a rule-based approach | It is a dictionary-based approach |\n",
    "| 3 | Accuracy is less | Accuracy is more as compared to Stemming |\n",
    "| 4 | When we convert any words into root-form then stemming may create the non-existence meaning of a word. | Lemmatization always gives the dictionary meaning word while converting into root-form. |\n",
    "| 5 | Stemming is preferred when the meaning of the word is not important for analysis. Example: Spam Detection | Lemmatization would be recommended when the meaning of the word is important in analysis. Example: Question Answer |\n",
    "| 6 | \"Studies\" => \"Studi\" | \"Studies\" => \"Study\" |"
   ]
  },
  {
   "cell_type": "markdown",
   "id": "2bc98853",
   "metadata": {},
   "source": [
    "***"
   ]
  }
 ],
 "metadata": {
  "kernelspec": {
   "display_name": "Python 3 (ipykernel)",
   "language": "python",
   "name": "python3"
  },
  "language_info": {
   "codemirror_mode": {
    "name": "ipython",
    "version": 3
   },
   "file_extension": ".py",
   "mimetype": "text/x-python",
   "name": "python",
   "nbconvert_exporter": "python",
   "pygments_lexer": "ipython3",
   "version": "3.9.7"
  }
 },
 "nbformat": 4,
 "nbformat_minor": 5
}
