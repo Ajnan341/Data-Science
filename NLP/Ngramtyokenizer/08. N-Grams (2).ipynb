{
 "cells": [
  {
   "cell_type": "markdown",
   "id": "cd507d09",
   "metadata": {},
   "source": [
    "# <span style = \"color:green\"> What are n-grams?<span>"
   ]
  },
  {
   "cell_type": "markdown",
   "id": "e7399cc3",
   "metadata": {},
   "source": [
    "***"
   ]
  },
  {
   "cell_type": "markdown",
   "id": "7e85a38e",
   "metadata": {},
   "source": [
    "N-grams are continious sequences of words or symbols or tokens in a document. In technical terms, they can be defined as the neighbouring sequences of items in a document. They come into play when we deal with text data in NLP tasks.\n",
    "\n",
    "n-grams are classified into the following types, depending on the value of 'n' takes."
   ]
  },
  {
   "cell_type": "markdown",
   "id": "2ddd4387",
   "metadata": {},
   "source": [
    "| n | Term | \n",
    "| --- | --- | \n",
    "| 1 | Unigram |\n",
    "| 2 | Bigram |\n",
    "| 3 | Trigram |\n",
    "| 4 | n-gram | "
   ]
  },
  {
   "cell_type": "markdown",
   "id": "6b9b0312",
   "metadata": {},
   "source": [
    "As clearly depicted in the table above, when n=1, it is said to be a unigram. When n=2, it is said to be a bigram and so on."
   ]
  },
  {
   "cell_type": "markdown",
   "id": "eb464733",
   "metadata": {},
   "source": [
    "Now, you must be wondering why we need many different types of n-grams?! This is because different types of n-grams are suitable for different types of applications. You should try different n-grams on your data in order to confidently conclude which one works the best among all your text analysis. For instance, research has substantiated that trigrams and 4 grams work the best in the case of spam filtering."
   ]
  },
  {
   "cell_type": "markdown",
   "id": "a7e1391b",
   "metadata": {},
   "source": [
    "### Example of n-grams"
   ]
  },
  {
   "cell_type": "markdown",
   "id": "0b6f35ae",
   "metadata": {},
   "source": [
    "Let's understand n-grams practically with the help of the following sentence:\n",
    " \"I study at Edure\"\n",
    " \n",
    " | SL.No. | Type of n-gram | Generated n-grams |\n",
    " | --- | --- | --- | \n",
    " | 1 | Unigram | [\"I\" ,\"study\", \"at\", \"Edure\"] |\n",
    " | 2 | Bigram | [\"I study\", \"study at\", \"at Edure\"] |\n",
    " | 3 | Trigram | [\"I study at\", \"study at Edure\"] |"
   ]
  },
  {
   "cell_type": "markdown",
   "id": "6e2793e6",
   "metadata": {},
   "source": [
    "From the table above, it's clear that unigram means taking only one word at a time, bigram means taking two words at a time and trigram means taking three words at a time."
   ]
  },
  {
   "cell_type": "markdown",
   "id": "6b4076a4",
   "metadata": {},
   "source": [
    "### Appications of n-grams"
   ]
  },
  {
   "cell_type": "markdown",
   "id": "983d3adc",
   "metadata": {},
   "source": [
    "N-grams have a variety of uses. Some applications of n-grams in NLP inlcude auto-completion of sentences, auto spell-check, and semantic analysis. They are also used in DNA sequencing and other computational linguistic applications."
   ]
  },
  {
   "cell_type": "markdown",
   "id": "1678b627",
   "metadata": {},
   "source": [
    "## Implementation of n-grams in Python"
   ]
  },
  {
   "cell_type": "code",
   "execution_count": 1,
   "id": "f506bef1",
   "metadata": {},
   "outputs": [
    {
     "name": "stdout",
     "output_type": "stream",
     "text": [
      "1-gram:  ['A', 'class', 'is', 'a', 'blueprint', 'for', 'the', 'object', '.']\n",
      "2-gram:  ['A class', 'class is', 'is a', 'a blueprint', 'blueprint for', 'for the', 'the object', 'object .']\n",
      "3-gram:  ['A class is', 'class is a', 'is a blueprint', 'a blueprint for', 'blueprint for the', 'for the object', 'the object .']\n",
      "4-gram:  ['A class is a', 'class is a blueprint', 'is a blueprint for', 'a blueprint for the', 'blueprint for the object', 'for the object .']\n"
     ]
    }
   ],
   "source": [
    "import nltk\n",
    "from nltk.util import ngrams\n",
    " \n",
    "# Function to generate n-grams from sentences.\n",
    "def extract_ngrams(data, num):\n",
    "    n_grams = ngrams(nltk.word_tokenize(data), num)\n",
    "    return [ ' '.join(grams) for grams in n_grams]\n",
    " \n",
    "data = 'A class is a blueprint for the object.'\n",
    " \n",
    "print(\"1-gram: \", extract_ngrams(data, 1))\n",
    "print(\"2-gram: \", extract_ngrams(data, 2))\n",
    "print(\"3-gram: \", extract_ngrams(data, 3))\n",
    "print(\"4-gram: \", extract_ngrams(data, 4))"
   ]
  },
  {
   "cell_type": "code",
   "execution_count": 7,
   "id": "ff8f5165",
   "metadata": {},
   "outputs": [
    {
     "name": "stdout",
     "output_type": "stream",
     "text": [
      "['hi how', 'how are', 'are you', 'you i', 'i am', 'am glad', 'glad that', 'that ur', 'ur here']\n"
     ]
    }
   ],
   "source": [
    "import nltk\n",
    "from nltk.util import ngrams\n",
    "data='hi how are you i am glad that ur here'\n",
    "\n",
    "n_grams=ngrams(nltk.word_tokenize(data),2)\n",
    "print([ ' '.join(grams) for grams in n_grams])"
   ]
  },
  {
   "cell_type": "code",
   "execution_count": 6,
   "id": "85cbd54c",
   "metadata": {},
   "outputs": [
    {
     "name": "stdout",
     "output_type": "stream",
     "text": [
      "['hi how are you', 'how are you i', 'are you i am', 'you i am glad', 'i am glad that', 'am glad that ur', 'glad that ur here']\n"
     ]
    }
   ],
   "source": [
    "import nltk\n",
    "from nltk.util import ngrams\n",
    "data='hi how are you i am glad that ur here'\n",
    "\n",
    "n_grams=ngrams(nltk.word_tokenize(data),4)\n",
    "print([ ' '.join(grams) for grams in n_grams])"
   ]
  },
  {
   "cell_type": "markdown",
   "id": "c6919889",
   "metadata": {},
   "source": [
    "### n-gram with CountVectorizer"
   ]
  },
  {
   "cell_type": "code",
   "execution_count": 22,
   "id": "0811957b",
   "metadata": {},
   "outputs": [],
   "source": [
    "from sklearn.feature_extraction.text import CountVectorizer"
   ]
  },
  {
   "cell_type": "code",
   "execution_count": 30,
   "id": "21ee6c9d",
   "metadata": {},
   "outputs": [],
   "source": [
    "cv = CountVectorizer(ngram_range=(2,2)) # (2,2)implies a n-gram of 2"
   ]
  },
  {
   "cell_type": "code",
   "execution_count": 40,
   "id": "3dbecd56",
   "metadata": {},
   "outputs": [
    {
     "data": {
      "text/plain": [
       "array([[1, 1, 1, 1, 1]], dtype=int64)"
      ]
     },
     "execution_count": 40,
     "metadata": {},
     "output_type": "execute_result"
    }
   ],
   "source": [
    "cv.fit_transform([data]).toarray()"
   ]
  },
  {
   "cell_type": "markdown",
   "id": "12ab9088",
   "metadata": {},
   "source": [
    "### n-gram with Tfidf"
   ]
  },
  {
   "cell_type": "code",
   "execution_count": 33,
   "id": "abb88f03",
   "metadata": {},
   "outputs": [],
   "source": [
    "from sklearn.feature_extraction.text import TfidfVectorizer"
   ]
  },
  {
   "cell_type": "code",
   "execution_count": 43,
   "id": "8e68f784",
   "metadata": {},
   "outputs": [],
   "source": [
    "tf = TfidfVectorizer(ngram_range=(3,3)) # implies a n-gram of 3 or Trigram"
   ]
  },
  {
   "cell_type": "code",
   "execution_count": 44,
   "id": "0dfb2a4f",
   "metadata": {},
   "outputs": [
    {
     "data": {
      "text/plain": [
       "array([[0.5, 0.5, 0.5, 0.5]])"
      ]
     },
     "execution_count": 44,
     "metadata": {},
     "output_type": "execute_result"
    }
   ],
   "source": [
    "tf.fit_transform([data]).toarray()"
   ]
  }
 ],
 "metadata": {
  "kernelspec": {
   "display_name": "Python 3 (ipykernel)",
   "language": "python",
   "name": "python3"
  },
  "language_info": {
   "codemirror_mode": {
    "name": "ipython",
    "version": 3
   },
   "file_extension": ".py",
   "mimetype": "text/x-python",
   "name": "python",
   "nbconvert_exporter": "python",
   "pygments_lexer": "ipython3",
   "version": "3.11.5"
  }
 },
 "nbformat": 4,
 "nbformat_minor": 5
}
