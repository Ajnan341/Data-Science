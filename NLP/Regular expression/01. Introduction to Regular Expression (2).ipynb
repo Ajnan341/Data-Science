{
 "cells": [
  {
   "cell_type": "markdown",
   "id": "cbd6abf1",
   "metadata": {},
   "source": [
    "# <span style = \"color:#471BA5;font-size:40px\"> Regular Expression </span>"
   ]
  },
  {
   "cell_type": "markdown",
   "id": "29fed66a",
   "metadata": {},
   "source": [
    "***"
   ]
  },
  {
   "cell_type": "markdown",
   "id": "0b5cc5ee",
   "metadata": {},
   "source": [
    "Regular Expression are special sequence of Characters that specifies a search pattern in text.\n"
   ]
  },
  {
   "cell_type": "markdown",
   "id": "5a4c6817",
   "metadata": {},
   "source": [
    "We can use the following websites to test out or practice using Regular Expression."
   ]
  },
  {
   "cell_type": "markdown",
   "id": "d7ce600d",
   "metadata": {},
   "source": [
    "* <a href = 'https://regexr.com/' style = \"color:blue\"> Regexr </span>\n",
    "* <a href = 'https://regex101.com/' style = \"color:blue\"> Regex101 </span>"
   ]
  },
  {
   "cell_type": "markdown",
   "id": "acf54e24",
   "metadata": {},
   "source": [
    "***"
   ]
  },
  {
   "cell_type": "markdown",
   "id": "63941f6f",
   "metadata": {},
   "source": [
    "## Literal Characters"
   ]
  },
  {
   "cell_type": "markdown",
   "id": "8bde20a0",
   "metadata": {},
   "source": [
    " A literal character or matching something literally refers to specifying an actual character in the text.\n",
    "(Type the same Charcter that you want to match)"
   ]
  },
  {
   "cell_type": "markdown",
   "id": "7bbafaf0",
   "metadata": {},
   "source": [
    "***"
   ]
  },
  {
   "cell_type": "markdown",
   "id": "ec09365f",
   "metadata": {},
   "source": [
    "## Character Classes"
   ]
  },
  {
   "cell_type": "markdown",
   "id": "364e5407",
   "metadata": {},
   "source": [
    "A \"character class\", or a \"character set\", is a set of characters put in square brackets. The regex engine matches only one out of several characters in the character class or character set. We place the characters we want to match between square brackets. If you want to match any vowel, we use the character set [aeiou]."
   ]
  },
  {
   "cell_type": "markdown",
   "id": "3a0a9af4",
   "metadata": {},
   "source": [
    "<div class=\"alert alert-block alert-info\"><b>Expression:</b> [pP]ython </div>"
   ]
  },
  {
   "cell_type": "markdown",
   "id": "3d34790a",
   "metadata": {},
   "source": [
    "<div class=\"alert alert-block alert-success\"><b>Text: </b> <span style = \"color:red\">Python</span> or <span style = \"color:red\">python</span> is an amazing language</div>"
   ]
  },
  {
   "cell_type": "markdown",
   "id": "5dc667a9",
   "metadata": {},
   "source": [
    "Here, The text colored in Red are the ones that are matched with our Expression"
   ]
  },
  {
   "cell_type": "markdown",
   "id": "17eb83bf",
   "metadata": {},
   "source": [
    "#### To Match all numbers"
   ]
  },
  {
   "cell_type": "markdown",
   "id": "854ad915",
   "metadata": {},
   "source": [
    "<div class=\"alert alert-block alert-info\"><b>Expression:</b> [0-9] </div>"
   ]
  },
  {
   "cell_type": "markdown",
   "id": "a618b674",
   "metadata": {},
   "source": [
    "#### To match Alphabets"
   ]
  },
  {
   "cell_type": "markdown",
   "id": "8b741fde",
   "metadata": {},
   "source": [
    "LOWERCASE\n",
    "<div class=\"alert alert-block alert-info\"><b>Expression:</b> [a-z] </div>"
   ]
  },
  {
   "cell_type": "markdown",
   "id": "af0a8fbb",
   "metadata": {},
   "source": [
    "UPPERCASE\n",
    "<div class=\"alert alert-block alert-info\"><b>Expression:</b> [A-Z] </div>"
   ]
  },
  {
   "cell_type": "markdown",
   "id": "71f39000",
   "metadata": {},
   "source": [
    "BOTH ALPHABETS(UPPER & LOWER) AND NUMBERS\n",
    "<div class=\"alert alert-block alert-info\"><b>Expression:</b> [0-9a-zA-Z] </div>"
   ]
  },
  {
   "cell_type": "markdown",
   "id": "ce6a1a0c",
   "metadata": {},
   "source": [
    "#### What if we want to match everything except what our expression matches?"
   ]
  },
  {
   "cell_type": "markdown",
   "id": "79add11b",
   "metadata": {},
   "source": [
    "In that case we can use ^ Symbol before our expression"
   ]
  },
  {
   "cell_type": "markdown",
   "id": "d551a276",
   "metadata": {},
   "source": [
    "<div class=\"alert alert-block alert-info\"><b>Expression:</b> [^0-9] </div>"
   ]
  },
  {
   "cell_type": "markdown",
   "id": "21ae58b8",
   "metadata": {},
   "source": [
    "This expression matches everything except the numbers"
   ]
  },
  {
   "cell_type": "markdown",
   "id": "b9e8e3bf",
   "metadata": {},
   "source": [
    "## Special Character Classes"
   ]
  },
  {
   "cell_type": "markdown",
   "id": "4565452d",
   "metadata": {},
   "source": [
    "* \\d  - Matches any Numbers\n",
    "* \\D  - Matches everything except numbers\n",
    "* \\s  - Matches spaces\n",
    "* \\S  - Matches everything except spaces\n",
    "* \\w  - Matches single word characters (Won't match spaces or special Symbols)\n",
    "* \\w  - Matches every non single word characters\n",
    "* .   - Matches any character except newline character"
   ]
  },
  {
   "cell_type": "markdown",
   "id": "4acc7fe7",
   "metadata": {},
   "source": [
    "Note: We can specify how much number of items we want to match with the use of {}\n",
    "    \n",
    "For example:\n",
    "\n",
    "for <b style = \"color:red\">\\d{2,3}</b> -- We can match digits more than 2 and less than 4\n",
    "\n",
    "or  <b style = \"color:red\">\\d{9, }</b> -- We can match digits greater than 8"
   ]
  },
  {
   "cell_type": "markdown",
   "id": "d0e36f7b",
   "metadata": {},
   "source": [
    "### Repetition Cases"
   ]
  },
  {
   "cell_type": "markdown",
   "id": "9c0c8f93",
   "metadata": {},
   "source": [
    "Things become more interesting when you use + and * to specify repetition in the pattern\n",
    "\n",
    "• <b style = \"color:red\">+</b>  -- 1 or more occurrences of the pattern to its left, e.g. 'i+' = one or more i's\n",
    "\n",
    "• <b style = \"color:red\">*</b>  --  0 or more occurrences of the pattern to its left\n",
    "\n",
    "• <b style = \"color:red\">?</b>  -- match 0 or 1 occurrences of the pattern to its left"
   ]
  },
  {
   "cell_type": "markdown",
   "id": "6c005750",
   "metadata": {},
   "source": [
    "***"
   ]
  },
  {
   "cell_type": "markdown",
   "id": "31233918",
   "metadata": {},
   "source": [
    "# Regular Expression in Python"
   ]
  },
  {
   "cell_type": "markdown",
   "id": "7a078b94",
   "metadata": {},
   "source": [
    "Python provides a re module that supports the use of regex in Python. Its primary function is to offer a search, where it takes a regular expression and a string. Here, it either returns the first match or else none."
   ]
  },
  {
   "cell_type": "markdown",
   "id": "c4ae1cd0",
   "metadata": {},
   "source": [
    "import re in python with the following code"
   ]
  },
  {
   "cell_type": "code",
   "execution_count": 1,
   "id": "55a8f302",
   "metadata": {},
   "outputs": [],
   "source": [
    "import re"
   ]
  },
  {
   "cell_type": "markdown",
   "id": "9f2f99ca",
   "metadata": {},
   "source": [
    "### Match function"
   ]
  },
  {
   "cell_type": "code",
   "execution_count": 2,
   "id": "545ea8e2",
   "metadata": {},
   "outputs": [
    {
     "name": "stdout",
     "output_type": "stream",
     "text": [
      "Pattern Found and the pattern is Python\n"
     ]
    }
   ],
   "source": [
    "sentence = \"Python is awesome\"\n",
    "\n",
    "a = re.match(r\"[Pp]ython\", sentence)\n",
    "\n",
    "if a:\n",
    "    print(f'Pattern Found and the pattern is {a.group()}')\n",
    "else:\n",
    "    print(\"Pattern not Found\")"
   ]
  },
  {
   "cell_type": "markdown",
   "id": "fd173620",
   "metadata": {},
   "source": [
    "<span style = \"color:red\">Note: Match only search begining of the line</span>"
   ]
  },
  {
   "cell_type": "markdown",
   "id": "225960ce",
   "metadata": {},
   "source": [
    "### Search Function"
   ]
  },
  {
   "cell_type": "code",
   "execution_count": 3,
   "id": "301b5690",
   "metadata": {},
   "outputs": [
    {
     "name": "stdout",
     "output_type": "stream",
     "text": [
      "Pattern found and the pattern is awesome\n"
     ]
    }
   ],
   "source": [
    "sentence = 'Python is awesome'\n",
    "\n",
    "a = re.search(r\"[Aa]wesome\", sentence)\n",
    "\n",
    "if a:\n",
    "    print(f\"Pattern found and the pattern is {a.group()}\")\n",
    "else:\n",
    "    print('Pattern not found')"
   ]
  },
  {
   "cell_type": "markdown",
   "id": "106a2a92",
   "metadata": {},
   "source": [
    "### sub Function"
   ]
  },
  {
   "cell_type": "markdown",
   "id": "1ea584a9",
   "metadata": {},
   "source": [
    "The sub() function searches for the pattern in the string and replaces the matched strings with the replacement (repl)."
   ]
  },
  {
   "cell_type": "code",
   "execution_count": 4,
   "id": "ff48ea69",
   "metadata": {},
   "outputs": [],
   "source": [
    "sentence = \"Python is an $@ awesome language\"\n",
    "\n",
    "test = re.sub(r\"[^0-9a-zA-Z]\", ' ', sentence)"
   ]
  },
  {
   "cell_type": "code",
   "execution_count": 5,
   "id": "83067e83",
   "metadata": {},
   "outputs": [
    {
     "data": {
      "text/plain": [
       "'Python is an    awesome language'"
      ]
     },
     "execution_count": 5,
     "metadata": {},
     "output_type": "execute_result"
    }
   ],
   "source": [
    "test"
   ]
  },
  {
   "cell_type": "markdown",
   "id": "a4b5592e",
   "metadata": {},
   "source": [
    "### Findall function"
   ]
  },
  {
   "cell_type": "markdown",
   "id": "7db84fec",
   "metadata": {},
   "source": [
    "findall() finds *all* the matches and returns them as a list of strings, with each string representing one match"
   ]
  },
  {
   "cell_type": "code",
   "execution_count": 22,
   "id": "9862f163",
   "metadata": {},
   "outputs": [],
   "source": [
    "sentence = \"Python is an Amazing Language\""
   ]
  },
  {
   "cell_type": "code",
   "execution_count": 26,
   "id": "02d7afc0",
   "metadata": {},
   "outputs": [],
   "source": [
    "test = re.findall(\"[A-Z]\", sentence)"
   ]
  },
  {
   "cell_type": "code",
   "execution_count": 27,
   "id": "81b1853b",
   "metadata": {},
   "outputs": [
    {
     "data": {
      "text/plain": [
       "['P', 'A', 'L']"
      ]
     },
     "execution_count": 27,
     "metadata": {},
     "output_type": "execute_result"
    }
   ],
   "source": [
    "test"
   ]
  },
  {
   "cell_type": "markdown",
   "id": "3950a653",
   "metadata": {},
   "source": [
    "### Compile function"
   ]
  },
  {
   "cell_type": "markdown",
   "id": "b7869502",
   "metadata": {},
   "source": [
    "We can combine a regular expression pattern into pattern objects, which can be used for pattern matching. It also helps to search a pattern again without rewriting it."
   ]
  },
  {
   "cell_type": "code",
   "execution_count": 28,
   "id": "992518b4",
   "metadata": {},
   "outputs": [],
   "source": [
    "comp = re.compile(\"[0-9]\")"
   ]
  },
  {
   "cell_type": "code",
   "execution_count": 29,
   "id": "ecb8065a",
   "metadata": {},
   "outputs": [],
   "source": [
    "string = 'Python is an amazing language 3215323'"
   ]
  },
  {
   "cell_type": "code",
   "execution_count": 30,
   "id": "bddfabde",
   "metadata": {},
   "outputs": [],
   "source": [
    "re_obj = comp.findall(string)"
   ]
  },
  {
   "cell_type": "code",
   "execution_count": 31,
   "id": "b2fa93ce",
   "metadata": {},
   "outputs": [
    {
     "data": {
      "text/plain": [
       "['3', '2', '1', '5', '3', '2', '3']"
      ]
     },
     "execution_count": 31,
     "metadata": {},
     "output_type": "execute_result"
    }
   ],
   "source": [
    "re_obj"
   ]
  }
 ],
 "metadata": {
  "kernelspec": {
   "display_name": "Python 3 (ipykernel)",
   "language": "python",
   "name": "python3"
  },
  "language_info": {
   "codemirror_mode": {
    "name": "ipython",
    "version": 3
   },
   "file_extension": ".py",
   "mimetype": "text/x-python",
   "name": "python",
   "nbconvert_exporter": "python",
   "pygments_lexer": "ipython3",
   "version": "3.9.7"
  }
 },
 "nbformat": 4,
 "nbformat_minor": 5
}
