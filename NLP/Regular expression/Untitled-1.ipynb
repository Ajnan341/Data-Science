{
 "cells": [
  {
   "cell_type": "code",
   "execution_count": 1,
   "metadata": {},
   "outputs": [],
   "source": [
    "import re"
   ]
  },
  {
   "cell_type": "markdown",
   "metadata": {},
   "source": [
    "A RegEx, or Regular Expression, is a sequence of characters that forms a search pattern.\n",
    "\n",
    "RegEx can be used to check if a string contains the specified search pattern.\n",
    "\n",
    "# RegEx Functions\n",
    "The re module offers a set of functions that allows us to search a string for a match:\n",
    "\n",
    "Function\tDescription\n",
    "\n",
    "1. findall: Returns a list containing all matches\n",
    "\n",
    "2. search:\tReturns a Match object if there is a match anywhere in the string\n",
    "\n",
    "3. split: Returns a list where the string has been split at each match\n",
    "\n",
    "4. sub: Replaces one or many matches with a string"
   ]
  },
  {
   "cell_type": "code",
   "execution_count": 2,
   "metadata": {},
   "outputs": [
    {
     "name": "stdout",
     "output_type": "stream",
     "text": [
      "['ai', 'ai']\n"
     ]
    }
   ],
   "source": [
    "#findall: Returns a list containing all matches\n",
    "txt = \"The rain in Spain\"\n",
    "x=re.findall('ai',txt)\n",
    "print(x)"
   ]
  },
  {
   "cell_type": "markdown",
   "metadata": {},
   "source": [
    "# Metacharacters\n",
    "Metacharacters are characters with a special meaning:"
   ]
  },
  {
   "cell_type": "code",
   "execution_count": 3,
   "metadata": {},
   "outputs": [
    {
     "name": "stdout",
     "output_type": "stream",
     "text": [
      "['h', 'e', 'a', 'i', 'i', 'a', 'i']\n",
      "['1', '3', '4', '5', '1']\n"
     ]
    }
   ],
   "source": [
    "#1. []\tA set of characters\n",
    "x = re.findall(\"[a-m]\", txt)# EMLEMENTS BETWEEN a and m\n",
    "print(x)\n",
    "txt = \"The rain in Spain 10673451\"\n",
    "x = re.findall(\"[1-5]\", txt)# EMLEMENTS BETWEEN 1 and 5\n",
    "print(x)\n"
   ]
  },
  {
   "cell_type": "code",
   "execution_count": 9,
   "metadata": {},
   "outputs": [
    {
     "name": "stdout",
     "output_type": "stream",
     "text": [
      "['1', '0', '6', '7', '3', '4', '5', '1']\n",
      "[' ', ' ', ' ', ' ']\n",
      "['T', 'h', 'e', 'r', 'a', 'i', 'n', 'i', 'n', 'S', 'p', 'a', 'i', 'n', '1', '0', '6', '7', '3', '4', '5', '@', '!', '#', '1']\n",
      "['@']\n"
     ]
    }
   ],
   "source": [
    "# \\\tSignals a special sequence (can also be used to escape special characters) eg.\t\"\\d\"\n",
    "txt = \"The rain in Spain 10673451\"\n",
    "x = re.findall(\"\\d\", txt) #find all digit characters\n",
    "print(x)\n",
    "txt = \"The rain in Spain 1067345@!#1\"\n",
    "x = re.findall(\"\\s\", txt) #find all spaces\n",
    "print(x)\n",
    "x = re.findall(\"\\S\", txt) #find all elements other tthan space\n",
    "print(x)\n",
    "x = re.findall(\"\\@\", txt) #find all @\n",
    "print(x)"
   ]
  },
  {
   "cell_type": "code",
   "execution_count": 13,
   "metadata": {},
   "outputs": [
    {
     "name": "stdout",
     "output_type": "stream",
     "text": [
      "['hello']\n",
      "['hel']\n",
      "[]\n",
      "['hell']\n",
      "['hello ']\n"
     ]
    }
   ],
   "source": [
    "# .\tAny character (except newline character)\n",
    "txt = \"hello planet\"\n",
    "#Search for a sequence that starts with \"he\", followed by two (any) characters, and an \"o\":\n",
    "x = re.findall(\"he..o\", txt)\n",
    "print(x)\n",
    "x = re.findall(\"he.\", txt)\n",
    "print(x)\n",
    "x = re.findall(\"he. \", txt)\n",
    "print(x)\n",
    "x = re.findall(\"he..\", txt)\n",
    "print(x)\n",
    "x = re.findall(\"he....\", txt)\n",
    "print(x)"
   ]
  },
  {
   "cell_type": "code",
   "execution_count": 25,
   "metadata": {},
   "outputs": [
    {
     "name": "stdout",
     "output_type": "stream",
     "text": [
      "['hello']\n",
      "Yes, the string starts with 'hello'\n",
      "['hello']\n"
     ]
    }
   ],
   "source": [
    "# ^\tStarts with\n",
    "txt = \"hello planet olleh\"\n",
    "#Check if the string starts with 'hello':\n",
    "x = re.findall(\"^hello\", txt)\n",
    "print(x)\n",
    "if x:\n",
    "  print(\"Yes, the string starts with 'hello'\")\n",
    "else:\n",
    "  print(\"No match\")\n",
    "x = re.findall(\"^hello\", txt)\n",
    "print(x)\n"
   ]
  },
  {
   "cell_type": "code",
   "execution_count": 26,
   "metadata": {},
   "outputs": [
    {
     "name": "stdout",
     "output_type": "stream",
     "text": [
      "Yes, the string ends with 'planet'\n"
     ]
    }
   ],
   "source": [
    "# $\tEnds with\n",
    "txt = \"hello planet\"\n",
    "#Check if the string ends with 'planet':\n",
    "x = re.findall(\"planet$\", txt)\n",
    "if x:\n",
    "  print(\"Yes, the string ends with 'planet'\")\n",
    "else:\n",
    "  print(\"No match\")\n"
   ]
  },
  {
   "cell_type": "code",
   "execution_count": 32,
   "metadata": {},
   "outputs": [
    {
     "name": "stdout",
     "output_type": "stream",
     "text": [
      "['hello']\n",
      "['he']\n",
      "['hello planet']\n",
      "['hel']\n",
      "['he']\n"
     ]
    }
   ],
   "source": [
    "# * Zero or more occurrences\n",
    "txt = \"hello planet\"\n",
    "#Search for a sequence that starts with \"he\", followed by 0 or more  (any) characters, and an \"o\":\n",
    "x = re.findall(\"he.*o\", txt)\n",
    "print(x)\n",
    "x = re.findall(\"he*\", txt)\n",
    "print(x)\n",
    "x = re.findall(\"he.*\", txt)\n",
    "print(x)\n",
    "x = re.findall(\"he. *\", txt)\n",
    "print(x)\n",
    "x = re.findall(\"he *\", txt)\n",
    "print(x)"
   ]
  },
  {
   "cell_type": "code",
   "execution_count": 37,
   "metadata": {},
   "outputs": [
    {
     "name": "stdout",
     "output_type": "stream",
     "text": [
      "['hello']\n",
      "[]\n",
      "['hello']\n",
      "['hello planet']\n",
      "['he']\n"
     ]
    }
   ],
   "source": [
    "# +\tOne or more occurrences\n",
    "txt = \"hello planet\"\n",
    "#Search for a sequence that starts with \"he\", followed by 1 or more  (any) characters, and an \"o\":\n",
    "x = re.findall(\"he.+o\", txt)\n",
    "print(x)\n",
    "\n",
    "x = re.findall(\"he. +o\", txt)\n",
    "print(x)\n",
    "x = re.findall(\"he.l+o\", txt)\n",
    "print(x)\n",
    "x = re.findall(\"he.+\", txt)\n",
    "print(x)\n",
    "x = re.findall(\"he+\", txt)\n",
    "print(x)"
   ]
  },
  {
   "cell_type": "code",
   "execution_count": 41,
   "metadata": {},
   "outputs": [
    {
     "name": "stdout",
     "output_type": "stream",
     "text": [
      "[]\n",
      "['hello']\n",
      "['hell']\n",
      "['hello']\n"
     ]
    }
   ],
   "source": [
    "# ?\tZero or one occurrences\n",
    "txt = \"hello planet\"\n",
    "#Search for a sequence that starts with \"he\", followed by 0 or 1  (any) character, and an \"o\":\n",
    "x = re.findall(\"he.?o\", txt)\n",
    "print(x)\n",
    "#This time we got no match, because there were not zero, not one, but two characters between \"he\" and the \"o\"\n",
    "x = re.findall(\"he.l?o\", txt)\n",
    "print(x)\n",
    "x = re.findall(\"he.ll?\", txt)\n",
    "print(x)\n",
    "x = re.findall(\"he.ll?o\", txt)\n",
    "print(x)"
   ]
  },
  {
   "cell_type": "code",
   "execution_count": 42,
   "metadata": {},
   "outputs": [
    {
     "name": "stdout",
     "output_type": "stream",
     "text": [
      "['hello']\n",
      "['hell']\n",
      "['hello p']\n"
     ]
    }
   ],
   "source": [
    "# {}\tExactly the specified number of occurrences\n",
    "txt = \"hello planet\"\n",
    "#Search for a sequence that starts with \"he\", followed excactly 2 (any) characters, and an \"o\":\n",
    "x = re.findall(\"he.{2}o\", txt)\n",
    "print(x)\n",
    "x = re.findall(\"he.{2}\", txt)\n",
    "print(x)\n",
    "x = re.findall(\"he.{5}\", txt)\n",
    "print(x)"
   ]
  },
  {
   "cell_type": "code",
   "execution_count": 43,
   "metadata": {},
   "outputs": [
    {
     "name": "stdout",
     "output_type": "stream",
     "text": [
      "[]\n"
     ]
    }
   ],
   "source": [
    "x = re.findall(\"he.{5}o\", txt)\n",
    "print(x)"
   ]
  },
  {
   "cell_type": "code",
   "execution_count": 44,
   "metadata": {},
   "outputs": [
    {
     "name": "stdout",
     "output_type": "stream",
     "text": [
      "['falls']\n",
      "Yes, there is at least one match!\n"
     ]
    }
   ],
   "source": [
    "# |\tEither or\n",
    "txt = \"The rain in Spain falls mainly in the plain!\"\n",
    "\n",
    "#Check if the string contains either \"falls\" or \"stays\":\n",
    "x = re.findall(\"falls|stays\", txt)\n",
    "print(x)\n",
    "\n",
    "if x:\n",
    "  print(\"Yes, there is at least one match!\")\n",
    "else:\n",
    "  print(\"No match\")\n"
   ]
  },
  {
   "cell_type": "code",
   "execution_count": 47,
   "metadata": {},
   "outputs": [
    {
     "name": "stdout",
     "output_type": "stream",
     "text": [
      "['falls']\n",
      "Yes, there is at least one match!\n"
     ]
    }
   ],
   "source": [
    "# |\tEither or\n",
    "txt = \"The rain in Spain falls mainly in the plain!\"\n",
    "\n",
    "#Check if the string contains either \"falls\" or \"stays\":\n",
    "x = re.findall(\"falls|stays\", txt)\n",
    "print(x)\n",
    "\n",
    "if x:\n",
    "  print(\"Yes, there is at least one match!\")\n",
    "else:\n",
    "  print(\"No match\")\n"
   ]
  },
  {
   "cell_type": "markdown",
   "metadata": {},
   "source": [
    "# Special Sequences\n",
    "A special sequence is a \\ followed by one of the characters in the list below, and has a special meaning:\n",
    "\n",
    "1. \\A:\tReturns a match if the specified characters are at the beginning of the string\t\"\\AThe\"\t\n",
    "\n",
    "2. \\b:\tReturns a match where the specified characters are at the beginning or at the end of a word\n",
    "(the \"r\" in the beginning is making sure that the string is being treated as a \"raw string\")\tr\"\\bain\"\n",
    "\n",
    "r\"ain\\b\"\t\n",
    "\n",
    "3. \\B\tReturns a match where the specified characters are present, but NOT at the beginning r\"\\Bain\"\n",
    "(or at the end) of a word (the \"r\" in the beginning is making sure that the string is being treated as a \"raw string\") r\"ain\\B\"\t\n",
    "\n",
    "3. \\d\tReturns a match where the string contains digits (numbers from 0-9)\t\"\\d\"\t\n",
    "4. \\D\tReturns a match where the string DOES NOT contain digits\t\"\\D\"\t\n",
    "5. \\s\tReturns a match where the string contains a white space character\t\"\\s\"\t\n",
    "6. \\S\tReturns a match where the string DOES NOT contain a white space character\t\"\\S\"\t\n",
    "7. \\w\tReturns a match where the string contains any word characters (characters from a to Z, digits from 0-9, and the underscore _ character)\t\"\\w\"\t\n",
    "8. \\W\tReturns a match where the string DOES NOT contain any word characters\t\"\\W\"\t\n",
    "9. \\Z\tReturns a match if the specified characters are at the end of the string\t\"Spain\\Z\""
   ]
  },
  {
   "cell_type": "code",
   "execution_count": 48,
   "metadata": {},
   "outputs": [
    {
     "name": "stdout",
     "output_type": "stream",
     "text": [
      "['Spain']\n",
      "Yes, there is a match!\n"
     ]
    }
   ],
   "source": [
    "txt = \"The rain in Spain\"\n",
    "\n",
    "#Check if the string ends with \"Spain\":\n",
    "\n",
    "x = re.findall(\"Spain\\Z\", txt)\n",
    "\n",
    "print(x)\n",
    "\n",
    "if x:\n",
    "  print(\"Yes, there is a match!\")\n",
    "else:\n",
    "  print(\"No match\")\n"
   ]
  },
  {
   "cell_type": "markdown",
   "metadata": {},
   "source": [
    "# sets\n",
    "A set is a set of characters inside a pair of square brackets [] with a special meaning:\n",
    "\n",
    "1. [arn]\tReturns a match where one of the specified characters (a, r, or n) is present\t\n",
    "2. [a-n]\tReturns a match for any lower case character, alphabetically between a and n\t\n",
    "3. [^arn]\tReturns a match for any character EXCEPT a, r, and n\t\n",
    "4. [0123]\tReturns a match where any of the specified digits (0, 1, 2, or 3) are present\t\n",
    "5. [0-9]\tReturns a match for any digit between 0 and 9\t\n",
    "6. [0-5][0-9]\tReturns a match for any two-digit numbers from 00 and 59\t\n",
    "7. [a-zA-Z]\tReturns a match for any character alphabetically between a and z, lower case OR upper case\t\n",
    "8. [+]\tIn sets, +, *, ., |, (), $,{} has no special meaning, so [+] means: return a match for any + character in the string\t\n"
   ]
  },
  {
   "cell_type": "markdown",
   "metadata": {},
   "source": [
    "# The findall() Function\n",
    "The findall() function returns a list containing all matches."
   ]
  },
  {
   "cell_type": "code",
   "execution_count": 49,
   "metadata": {},
   "outputs": [
    {
     "name": "stdout",
     "output_type": "stream",
     "text": [
      "['ai', 'ai']\n"
     ]
    }
   ],
   "source": [
    "txt = \"The rain in Spain\"\n",
    "x = re.findall(\"ai\", txt)\n",
    "print(x)"
   ]
  },
  {
   "cell_type": "code",
   "execution_count": 50,
   "metadata": {},
   "outputs": [
    {
     "name": "stdout",
     "output_type": "stream",
     "text": [
      "[]\n"
     ]
    }
   ],
   "source": [
    "txt = \"The rain in Spain\"\n",
    "x = re.findall(\"Portugal\", txt)\n",
    "print(x)"
   ]
  },
  {
   "cell_type": "markdown",
   "metadata": {},
   "source": [
    "# search() Function\n",
    "The search() function searches the string for a match, and returns a Match object if there is a match.\n",
    "\n",
    "If there is more than one match, only the first occurrence of the match will be returned:"
   ]
  },
  {
   "cell_type": "code",
   "execution_count": 60,
   "metadata": {},
   "outputs": [
    {
     "name": "stdout",
     "output_type": "stream",
     "text": [
      "The first white-space character is located in position: 3\n",
      "<re.Match object; span=(3, 4), match=' '>\n",
      "<built-in method group of re.Match object at 0x000001D3CEAB8A40>\n",
      "4\n",
      "()\n",
      "0\n"
     ]
    }
   ],
   "source": [
    "txt = \"The rain in Spain\"\n",
    "x = re.search(\"\\s\", txt)\n",
    "\n",
    "print(\"The first white-space character is located in position:\", x.start())\n",
    "print(x)\n",
    "print(x.group)\n",
    "\n",
    "print(x.end())\n",
    "print(x.groups())\n",
    "print(x.pos)"
   ]
  },
  {
   "cell_type": "markdown",
   "metadata": {},
   "source": [
    "## The split() Function\n",
    "The split() function returns a list where the string has been split at each match:"
   ]
  },
  {
   "cell_type": "code",
   "execution_count": 61,
   "metadata": {},
   "outputs": [
    {
     "name": "stdout",
     "output_type": "stream",
     "text": [
      "['The', 'rain', 'in', 'Spain']\n"
     ]
    }
   ],
   "source": [
    "txt = \"The rain in Spain\"\n",
    "x = re.split(\"\\s\", txt)\n",
    "print(x)"
   ]
  },
  {
   "cell_type": "code",
   "execution_count": 62,
   "metadata": {},
   "outputs": [
    {
     "name": "stdout",
     "output_type": "stream",
     "text": [
      "['', '', '', ' ', '', '', '', ' ', '', ' ', '', '', '', '', '']\n"
     ]
    }
   ],
   "source": [
    "txt = \"The rain in Spain\"\n",
    "x = re.split(\"\\S\", txt)\n",
    "print(x)"
   ]
  },
  {
   "cell_type": "code",
   "execution_count": 65,
   "metadata": {},
   "outputs": [
    {
     "name": "stdout",
     "output_type": "stream",
     "text": [
      "['The ra', '', ' ', '', ' Spa', '', '']\n"
     ]
    }
   ],
   "source": [
    "txt = \"The rain in Spain\"\n",
    "x = re.split(\"[in]\", txt)\n",
    "print(x)"
   ]
  },
  {
   "cell_type": "code",
   "execution_count": 66,
   "metadata": {},
   "outputs": [
    {
     "name": "stdout",
     "output_type": "stream",
     "text": [
      "['The rai', ' i', ' Spai', '']\n"
     ]
    }
   ],
   "source": [
    "txt = \"The rain in Spain\"\n",
    "x = re.split(\"[n]\", txt)\n",
    "print(x)"
   ]
  },
  {
   "cell_type": "markdown",
   "metadata": {},
   "source": [
    "You can control the number of occurrences by specifying the maxsplit parameter:"
   ]
  },
  {
   "cell_type": "code",
   "execution_count": 67,
   "metadata": {},
   "outputs": [
    {
     "name": "stdout",
     "output_type": "stream",
     "text": [
      "['The', 'rain in Spain']\n"
     ]
    }
   ],
   "source": [
    "txt = \"The rain in Spain\"\n",
    "x = re.split(\"\\s\", txt, 1)\n",
    "print(x)"
   ]
  },
  {
   "cell_type": "code",
   "execution_count": 68,
   "metadata": {},
   "outputs": [
    {
     "name": "stdout",
     "output_type": "stream",
     "text": [
      "['The', 'rain', 'in Spain']\n"
     ]
    }
   ],
   "source": [
    "txt = \"The rain in Spain\"\n",
    "x = re.split(\"\\s\", txt, 2)\n",
    "print(x)"
   ]
  },
  {
   "cell_type": "code",
   "execution_count": 69,
   "metadata": {},
   "outputs": [
    {
     "name": "stdout",
     "output_type": "stream",
     "text": [
      "['The', 'rain', 'in', 'Spain']\n"
     ]
    }
   ],
   "source": [
    "txt = \"The rain in Spain\"\n",
    "x = re.split(\"\\s\", txt, 3)\n",
    "print(x)"
   ]
  },
  {
   "cell_type": "markdown",
   "metadata": {},
   "source": [
    "# The sub() Function\n",
    "The sub() function replaces the matches with the text of your choice:"
   ]
  },
  {
   "cell_type": "code",
   "execution_count": 70,
   "metadata": {},
   "outputs": [
    {
     "name": "stdout",
     "output_type": "stream",
     "text": [
      "The9rain9in9Spain\n"
     ]
    }
   ],
   "source": [
    "txt = \"The rain in Spain\"\n",
    "x = re.sub(\"\\s\", \"9\", txt)#Replace every white-space character with the number 9:\n",
    "print(x)"
   ]
  },
  {
   "cell_type": "markdown",
   "metadata": {},
   "source": [
    "You can control the number of replacements by specifying the count parameter:"
   ]
  },
  {
   "cell_type": "code",
   "execution_count": 71,
   "metadata": {},
   "outputs": [
    {
     "name": "stdout",
     "output_type": "stream",
     "text": [
      "The9rain9in Spain\n"
     ]
    }
   ],
   "source": [
    "txt = \"The rain in Spain\"\n",
    "x = re.sub(\"\\s\", \"9\", txt, 2)#Replace the first 2 occurrences\n",
    "print(x)"
   ]
  },
  {
   "cell_type": "markdown",
   "metadata": {},
   "source": [
    "# Match Object\n",
    "A Match Object is an object containing information about the search and the result.\n",
    "\n",
    "Note: If there is no match, the value None will be returned, instead of the Match Object."
   ]
  },
  {
   "cell_type": "code",
   "execution_count": null,
   "metadata": {},
   "outputs": [],
   "source": [
    "txt = \"The rain in Spain\"#Do a search that will return a Match Object\n",
    "x = re.search(\"ai\", txt)\n",
    "print(x) #this will print an object"
   ]
  },
  {
   "cell_type": "markdown",
   "metadata": {},
   "source": [
    "The Match object has properties and methods used to retrieve information about the search, and the result:\n",
    "\n",
    ".span() returns a tuple containing the start-, and end positions of the match.\n",
    "\n",
    ".string returns the string passed into the function\n",
    "\n",
    ".group() returns the part of the string where there was a match"
   ]
  },
  {
   "cell_type": "code",
   "execution_count": 72,
   "metadata": {},
   "outputs": [
    {
     "name": "stdout",
     "output_type": "stream",
     "text": [
      "(12, 17)\n"
     ]
    }
   ],
   "source": [
    "txt = \"The rain in Spain\"\n",
    "x = re.search(r\"\\bS\\w+\", txt)#Print the position (start- and end-position) of the first match occurrence.The regular expression looks for any words that starts with an upper case \"S\":\n",
    "print(x.span())"
   ]
  },
  {
   "cell_type": "code",
   "execution_count": 73,
   "metadata": {},
   "outputs": [
    {
     "name": "stdout",
     "output_type": "stream",
     "text": [
      "The rain in Spain\n"
     ]
    }
   ],
   "source": [
    "txt = \"The rain in Spain\"\n",
    "x = re.search(r\"\\bS\\w+\", txt)#Print the string passed into the function\n",
    "print(x.string)"
   ]
  },
  {
   "cell_type": "code",
   "execution_count": 74,
   "metadata": {},
   "outputs": [
    {
     "name": "stdout",
     "output_type": "stream",
     "text": [
      "Spain\n"
     ]
    }
   ],
   "source": [
    "txt = \"The rain in Spain\"\n",
    "x = re.search(r\"\\bS\\w+\", txt)# Print the part of the string where there was a match.The regular expression looks for any words that starts with an upper case \"S\"\n",
    "print(x.group())"
   ]
  },
  {
   "cell_type": "markdown",
   "metadata": {},
   "source": [
    "Note: If there is no match, the value None will be returned, instead of the Match Object."
   ]
  },
  {
   "cell_type": "code",
   "execution_count": 76,
   "metadata": {},
   "outputs": [
    {
     "name": "stdout",
     "output_type": "stream",
     "text": [
      "Pattern Found and the pattern is Python\n"
     ]
    }
   ],
   "source": [
    "sentence = \"Python is awesome\"\n",
    "\n",
    "a = re.match(r\"[Pp]ython\", sentence)# identify the pattern at starting position\n",
    "\n",
    "if a:\n",
    "    print(f'Pattern Found and the pattern is {a.group()}')\n",
    "else:\n",
    "    print(\"Pattern not Found\")"
   ]
  }
 ],
 "metadata": {
  "kernelspec": {
   "display_name": "Python 3",
   "language": "python",
   "name": "python3"
  },
  "language_info": {
   "codemirror_mode": {
    "name": "ipython",
    "version": 3
   },
   "file_extension": ".py",
   "mimetype": "text/x-python",
   "name": "python",
   "nbconvert_exporter": "python",
   "pygments_lexer": "ipython3",
   "version": "3.11.5"
  }
 },
 "nbformat": 4,
 "nbformat_minor": 2
}
