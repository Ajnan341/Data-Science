{
 "cells": [
  {
   "cell_type": "markdown",
   "id": "b632a98a",
   "metadata": {},
   "source": [
    "# <span style = \"color:green;font-size:40px\"> TF-IDF </span>"
   ]
  },
  {
   "cell_type": "markdown",
   "id": "14c68ac1",
   "metadata": {},
   "source": [
    "***"
   ]
  },
  {
   "cell_type": "markdown",
   "id": "d8400281",
   "metadata": {},
   "source": [
    "<span style = \"color:coral\"> TF-IDF stands for Term Frequency - Inverse Document Frequency </span>"
   ]
  },
  {
   "cell_type": "markdown",
   "id": "7ccb0402",
   "metadata": {},
   "source": [
    "TF-IDF is a technique which is used to find the meaning of sentences consisting of words and cancels out the incapabilities of Bag of Words technique which is good for text classification or for helping a machine read words in numbers."
   ]
  },
  {
   "cell_type": "markdown",
   "id": "33929210",
   "metadata": {},
   "source": [
    "### So what is it? Let's understand it using an example"
   ]
  },
  {
   "cell_type": "markdown",
   "id": "f7a4b2f0",
   "metadata": {},
   "source": [
    "Let's say machine is trying to understand meaning of this- \"Today is a beautiful day\"\n",
    "\n",
    "What do you focus on here?\n",
    "\n",
    "This sentence talks about <b>today</b>, it also tells us that today is a <b>beautiful day</b>. The mood is <b>happy/positive</b>,anything else?"
   ]
  },
  {
   "cell_type": "markdown",
   "id": "53a4732d",
   "metadata": {},
   "source": [
    "Beauty is clearly the adjective word used here. From a BoW(Bag of Words) approach all words are broken into count and frequency with no preference to a word in particular, all words have same frequency here (1 in this case) and obviously there is no emphasis on beauty or positive mood by the machine.\n",
    "\n",
    "The words are just broken down and if we were talking about importance, 'a' is as important as 'day' or 'beauty'.\n",
    "\n",
    "But is it really that 'a' tells you more about context of a sentence compared to 'beauty'?\n",
    "\n",
    "No, that's why Bag of words needed an upgrade.\n",
    "\n",
    "Also, another major drawback is say a document has 200 words, out of which 'a' comes 20 times, 'the' comes 15 times etc.\n",
    "\n",
    "Many words which are repeated again and again are given more importance in final feature building and we miss out on context of less repeated words like Rain, Beauty, subway, names.\n",
    "\n",
    "So it's easy to miss on what was meant by the writer if read by a machine and it presents a problem that TF-IDF solves, so now we know why do we use TF-IDF."
   ]
  },
  {
   "cell_type": "markdown",
   "id": "933db7b7",
   "metadata": {},
   "source": [
    "### Let's see how it works"
   ]
  },
  {
   "cell_type": "markdown",
   "id": "0920584c",
   "metadata": {},
   "source": [
    "TF-IDF is useful in solving the major drawbacks of Bag of Words by introducing an important concept called inverse document frequency."
   ]
  },
  {
   "cell_type": "markdown",
   "id": "c22180a4",
   "metadata": {},
   "source": [
    "It's a score which the machine keeps where it is evaluates the words used in a sentence and measures it's usage compared to words used in the entire document. In other words, it's a score to highlight each word's relevance in the entire document. It is calculated as:"
   ]
  },
  {
   "cell_type": "markdown",
   "id": "e75ed30f",
   "metadata": {},
   "source": [
    "<center><b><i>IDF = Log[(Number of Documents)/(Number of Documents containing the word)] </i></b></center>"
   ]
  },
  {
   "cell_type": "markdown",
   "id": "c1a07675",
   "metadata": {},
   "source": [
    "<center><b><i> TF = (Number of repetitions of word in a document)/( Number of words in a document </i></b></center>"
   ]
  },
  {
   "cell_type": "markdown",
   "id": "07c0c8bf",
   "metadata": {},
   "source": [
    "okay, for now let's just say that TF answers questions like - how many times is beauty used in that entire document, give me a probability and IDF answers questions like how important is the word beauty in the entire list of documents, is it common theme in all the documents."
   ]
  },
  {
   "cell_type": "markdown",
   "id": "c5a83e56",
   "metadata": {},
   "source": [
    "So using TF and IDF machine makes sense of important words in a document and important words throughtout all documents."
   ]
  },
  {
   "cell_type": "markdown",
   "id": "d2f17fdc",
   "metadata": {},
   "source": [
    "### What's the way of finding TF-IDF of a document?"
   ]
  },
  {
   "cell_type": "markdown",
   "id": "b647802b",
   "metadata": {},
   "source": [
    "The process to find meaning of documents using TF-IDF is very similar to Bag of Words,\n",
    "\n",
    "1. Clean data/Preprocessing - Clean data(Standardise data), Normalise data(All lower case), lemmatize data (all words to root words)\n",
    "2. Tokenize words with frequency\n",
    "3. Find TF for words\n",
    "4. Find IDF for words\n",
    "5. Vectorize vocab"
   ]
  },
  {
   "cell_type": "markdown",
   "id": "35666515",
   "metadata": {},
   "source": [
    "## <span style = \"color:coral\"> Lets cover an example of 3 documents</span>"
   ]
  },
  {
   "cell_type": "markdown",
   "id": "468fda0c",
   "metadata": {},
   "source": [
    "<b>Document 1:</b> It is going to rain today\n",
    "<b>Document 2:</b> Today I am not going outside\n",
    "<b>Document 3:</b> I am going to watch the season premiere\n",
    "\n",
    "To find TF-IDF we need to perform the steps we laid out above, let's get to it."
   ]
  },
  {
   "cell_type": "markdown",
   "id": "5b7c998b",
   "metadata": {},
   "source": [
    "### Step 1: Clean data and Tokenize"
   ]
  },
  {
   "cell_type": "code",
   "execution_count": null,
   "id": "7561de94",
   "metadata": {},
   "outputs": [],
   "source": [
    "document1 = \"It is going to rain today\"\n",
    "document2 = \"Today i am not going outside\"\n",
    "document3 = \"I am going to watch the season premiere\""
   ]
  },
  {
   "cell_type": "markdown",
   "id": "b0e165e0",
   "metadata": {},
   "source": [
    "| Word | count |\n",
    "| --- | --- | \n",
    "| going | 3 |\n",
    "| to | 2 |\n",
    "| today | 2 |\n",
    "| i | 2 |\n",
    "| am | 2 |\n",
    "| it | 1 |\n",
    "| is | 1 |\n",
    "| rain | 1 |"
   ]
  },
  {
   "cell_type": "markdown",
   "id": "9025d8fe",
   "metadata": {},
   "source": [
    "### Step 2: Find TF"
   ]
  },
  {
   "cell_type": "markdown",
   "id": "f200a259",
   "metadata": {},
   "source": [
    "#####  Document 1 - It is going to rain today\n",
    "\n",
    "Find it's TF = (Number of repetitions of word in a document)/(Number of words in a document)"
   ]
  },
  {
   "cell_type": "markdown",
   "id": "c087d476",
   "metadata": {},
   "source": [
    "document1 = \"It is going to rain today\"\n",
    "document2 = \"Today i am not going outside\"\n",
    "document3 = \"I am going to watch the season premiere\""
   ]
  },
  {
   "cell_type": "markdown",
   "id": "22b6e21b",
   "metadata": {},
   "source": [
    "| Words/Documents | Document 1 |\n",
    "| --- | --- | \n",
    "| going | 0.16 |\n",
    "| to | 0.16 |\n",
    "| today | 0.16 | \n",
    "| i | 0 |\n",
    "| am | 0 |\n",
    "| it | 0.16 |\n",
    "| is | 0.16 |\n",
    "| rain | 0.16 |"
   ]
  },
  {
   "cell_type": "markdown",
   "id": "ed743cd1",
   "metadata": {},
   "source": [
    "Continue for rest of the sentences-"
   ]
  },
  {
   "cell_type": "markdown",
   "id": "d61ad446",
   "metadata": {},
   "source": [
    "| Words/Documents | Document 1 | Document 2 | Document 3 |\n",
    "| --- | --- | --- | --- |\n",
    "| going | 0.16 | 0.16 | 0.12 |\n",
    "| to | 0.16 | 0 | 0.12 |\n",
    "| today | 0.16 | 0.16 | 0 |\n",
    "| i | 0 | 0.16 | 0.12 |\n",
    "| am | 0 | 0.16 | 0.12 |\n",
    "| it | 0.16 | 0 | 0 |\n",
    "| is | 0.16 | 0 | 0 |\n",
    "| rain | 0.16 | 0 | 0 |"
   ]
  },
  {
   "cell_type": "markdown",
   "id": "da95c97c",
   "metadata": {},
   "source": [
    "###  Step 3: Find IDF"
   ]
  },
  {
   "cell_type": "markdown",
   "id": "080485a2",
   "metadata": {},
   "source": [
    "Find IDF for documents (we do this for feature name only/vocab words which have no stop words)\n",
    "\n",
    "IDF = Log[(number of documents) / ( Number of documents containing the word)]"
   ]
  },
  {
   "cell_type": "markdown",
   "id": "07d850de",
   "metadata": {},
   "source": [
    "| Words | IDF Value |\n",
    "| --- | --- | \n",
    "| going | log(3/3) |\n",
    "| to | log(3/2) | \n",
    "| today | log(3/2) |\n",
    "| i | log(3/2) |\n",
    "| am | log(3/2) |\n",
    "| It | log(3/1) |\n",
    "| is | log(3/1) | \n",
    "| rain | log(3/1) | "
   ]
  },
  {
   "cell_type": "markdown",
   "id": "1199c22f",
   "metadata": {},
   "source": [
    "### Step 4: Build model, ie. Stack all words next to each other-"
   ]
  },
  {
   "cell_type": "markdown",
   "id": "aae1c5a3",
   "metadata": {},
   "source": [
    "| Words | IDF Value | <span style = \"background-color:black\"> i </span> |Words/Documents | Document 1 | Document 2 | Document 3 |\n",
    "| --- | --- | --- | --- | --- | --- | --- |\n",
    "| going | log(3/3) | <span style = \"background-color:black\"> i </span> | going | 0.16 | 0.16 | 0.12 \n",
    "| to | log(3/2) | <span style = \"background-color:black\"> i </span> | to | 0.16 | 0 | 0.12 |\n",
    "| today | log(3/2) | <span style = \"background-color:black\"> i </span> | today | 0.16 | 0.16 | 0 |\n",
    "| i | log(3/2) | <span style = \"background-color:black\"> i </span> | i | 0 | 0.16 | 0.12 |\n",
    "| am | log(3/2) | <span style = \"background-color:black\"> i </span> | am | 0 | 0.16 | 0.12 |\n",
    "| It | log(3/1) | <span style = \"background-color:black\"> i </span> | it | 0.16 | 0 | 0 |\n",
    "| is | log(3/1) | <span style = \"background-color:black\"> i </span> | is | 0.16 | 0 | 0 |\n",
    "| rain | log(3/1) | <span style = \"background-color:black\"> i </span> | rain | 0.16 | 0 | 0 |"
   ]
  },
  {
   "cell_type": "markdown",
   "id": "0c2cbf3f",
   "metadata": {},
   "source": [
    "### Step 5: Compare results and use table to ask questions"
   ]
  },
  {
   "cell_type": "markdown",
   "id": "e355a837",
   "metadata": {},
   "source": [
    "| Words/Documents | going | to | today | i | am | it | is | rain | \n",
    "| --- | --- | --- | --- | --- | --- | --- | --- | --- |\n",
    "| Document 1 | 0 | 0.07 | 0.07 | 0 | 0 | 0.17 | 0.17 | 0.17 |\n",
    "| Document 2 | 0 | 0 | 0.07 | 0.07 | O.07 | 0 | 0 | 0 |\n",
    "| Document 3 | 0 | 0.05 | 0 | 0.05 | 0.05 | 0 | 0 | 0 | "
   ]
  },
  {
   "cell_type": "markdown",
   "id": "ac66805a",
   "metadata": {},
   "source": [
    "You can easily see using this table that words like 'it','is','rain' are important for document 1 but not for document 2 and document 3 which means Document 1 and 2&3 are different w.r.t talking about rain."
   ]
  },
  {
   "cell_type": "markdown",
   "id": "2ac4bbf6",
   "metadata": {},
   "source": [
    "You can also say that Document 1 and 2 talk about something 'today', and document 2 and 3 discuss something about the writer because of the word 'I'."
   ]
  },
  {
   "cell_type": "markdown",
   "id": "aa260fff",
   "metadata": {},
   "source": [
    "This table helps us find similarities and non similarities btw documents, words and more much better than BoW."
   ]
  },
  {
   "cell_type": "markdown",
   "id": "f33bedd3",
   "metadata": {},
   "source": [
    "## Code TF-IDF with Python"
   ]
  },
  {
   "cell_type": "markdown",
   "id": "2ebf63f6",
   "metadata": {},
   "source": [
    "### Step 1: Declaring all documents and assigning to a vocab document"
   ]
  },
  {
   "cell_type": "code",
   "execution_count": 1,
   "id": "f8bbe9f7",
   "metadata": {},
   "outputs": [
    {
     "name": "stdout",
     "output_type": "stream",
     "text": [
      "['It is going to rain today', 'Today i am not going outside', 'I am going to watch the season premiere']\n"
     ]
    }
   ],
   "source": [
    "document1 = \"It is going to rain today\"\n",
    "document2 = \"Today i am not going outside\"\n",
    "document3 = \"I am going to watch the season premiere\"\n",
    "doc = [document1, document2,document3]\n",
    "print(doc)"
   ]
  },
  {
   "cell_type": "markdown",
   "id": "c015c356",
   "metadata": {},
   "source": [
    "### Step 2: Initializing TFIDF Vectorizer"
   ]
  },
  {
   "cell_type": "code",
   "execution_count": 2,
   "id": "4bdfe169",
   "metadata": {},
   "outputs": [],
   "source": [
    "from sklearn.feature_extraction.text import TfidfVectorizer"
   ]
  },
  {
   "cell_type": "code",
   "execution_count": 3,
   "id": "e27a2a39",
   "metadata": {},
   "outputs": [],
   "source": [
    "vectorizer = TfidfVectorizer()"
   ]
  },
  {
   "cell_type": "code",
   "execution_count": 10,
   "id": "ffce8087",
   "metadata": {},
   "outputs": [],
   "source": [
    "X = vectorizer.fit_transform(doc)"
   ]
  },
  {
   "cell_type": "markdown",
   "id": "59120003",
   "metadata": {},
   "source": [
    "### Step 3: Getting feature names of final words that we will use to tag documents"
   ]
  },
  {
   "cell_type": "code",
   "execution_count": 11,
   "id": "5aaa37d7",
   "metadata": {},
   "outputs": [
    {
     "name": "stdout",
     "output_type": "stream",
     "text": [
      "Document 1 ['it', 'is', 'going', 'to', 'rain', 'today']\n",
      "Document 2 ['today', 'am', 'not', 'going', 'outside']\n",
      "Document 3 ['am', 'going', 'to', 'watch', 'the', 'season', 'premiere']\n",
      "Document Transform [[0.         0.27824521 0.4711101  0.4711101  0.         0.\n",
      "  0.         0.4711101  0.         0.         0.35829137 0.35829137\n",
      "  0.        ]\n",
      " [0.40619178 0.31544415 0.         0.         0.53409337 0.53409337\n",
      "  0.         0.         0.         0.         0.         0.40619178\n",
      "  0.        ]\n",
      " [0.32412354 0.25171084 0.         0.         0.         0.\n",
      "  0.4261835  0.         0.4261835  0.4261835  0.32412354 0.\n",
      "  0.4261835 ]]\n"
     ]
    }
   ],
   "source": [
    "analyze = vectorizer.build_analyzer()\n",
    "\n",
    "print('Document 1', analyze(document1))\n",
    "print('Document 2', analyze(document2))\n",
    "print('Document 3', analyze(document3))\n",
    "print('Document Transform', X.toarray())"
   ]
  },
  {
   "cell_type": "markdown",
   "id": "9ddaedb1",
   "metadata": {},
   "source": [
    "See how each sentence is broken in words and each word is represented as a number for the machine."
   ]
  },
  {
   "cell_type": "markdown",
   "id": "06b5ba24",
   "metadata": {},
   "source": [
    "##### To get the feature names:"
   ]
  },
  {
   "cell_type": "code",
   "execution_count": 12,
   "id": "cee8eb9e",
   "metadata": {},
   "outputs": [
    {
     "name": "stdout",
     "output_type": "stream",
     "text": [
      "['am', 'going', 'is', 'it', 'not', 'outside', 'premiere', 'rain', 'season', 'the', 'to', 'today', 'watch']\n"
     ]
    }
   ],
   "source": [
    "print(vectorizer.get_feature_names())"
   ]
  },
  {
   "cell_type": "markdown",
   "id": "4daffb6a",
   "metadata": {},
   "source": [
    "The output signifies the important words which add context to 3 sentences. These are the words that are important in all 3 sentences and now you can ask questions of whatever nature you like to the machine, stuff like:"
   ]
  },
  {
   "cell_type": "markdown",
   "id": "0c7fa7c0",
   "metadata": {},
   "source": [
    "* What are similar documents?\n",
    "* When will it rain?\n",
    "* I am done, what to read next?"
   ]
  },
  {
   "cell_type": "markdown",
   "id": "8bca2ef2",
   "metadata": {},
   "source": [
    "Because the machine has a score to help aid with these questions, TF-IDF proves a great tool to train machine to answer back in case of chatbots as well."
   ]
  },
  {
   "cell_type": "markdown",
   "id": "7ff75c99",
   "metadata": {},
   "source": [
    "***"
   ]
  }
 ],
 "metadata": {
  "kernelspec": {
   "display_name": "Python 3 (ipykernel)",
   "language": "python",
   "name": "python3"
  },
  "language_info": {
   "codemirror_mode": {
    "name": "ipython",
    "version": 3
   },
   "file_extension": ".py",
   "mimetype": "text/x-python",
   "name": "python",
   "nbconvert_exporter": "python",
   "pygments_lexer": "ipython3",
   "version": "3.9.7"
  }
 },
 "nbformat": 4,
 "nbformat_minor": 5
}
