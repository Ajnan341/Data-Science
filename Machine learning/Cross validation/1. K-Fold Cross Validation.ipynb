{
 "cells": [
  {
   "cell_type": "markdown",
   "id": "d1805d6a",
   "metadata": {},
   "source": [
    "# <span style = \"color:coral\">K-Fold Cross Validation</span>"
   ]
  },
  {
   "cell_type": "markdown",
   "id": "e9d09517",
   "metadata": {},
   "source": [
    "***"
   ]
  },
  {
   "cell_type": "markdown",
   "id": "3fba3013",
   "metadata": {},
   "source": [
    "Cross-validation is a resampling procedure used to evaluate machine learning models on a limited data sample."
   ]
  },
  {
   "cell_type": "markdown",
   "id": "be9cd8d2",
   "metadata": {},
   "source": [
    "The general procedure is as follows:\n",
    "\n",
    "1. Shuffle the dataset randomly.\n",
    "2. Split the dataset into k groups\n",
    "3. For each unique group:\n",
    "    1. Take the group as a hold out or test data set\n",
    "    2. Take the remaining groups as a training data set\n",
    "    3. Fit a model on the training set and evaluate it on the test set\n",
    "    4. Retain the evaluation score and discard the model\n",
    "4. Summarize the skill of the model using the sample of model evaluation scores"
   ]
  },
  {
   "cell_type": "markdown",
   "id": "3d5659a7",
   "metadata": {},
   "source": [
    "#### Simple implementation of K-Fold Cross-Validation in Python"
   ]
  },
  {
   "cell_type": "code",
   "execution_count": 1,
   "id": "889f2fc4",
   "metadata": {},
   "outputs": [
    {
     "name": "stdout",
     "output_type": "stream",
     "text": [
      "Train data [2 3 4 5] Test data [0 1]\n",
      "Train data [0 1 4 5] Test data [2 3]\n",
      "Train data [0 1 2 3] Test data [4 5]\n"
     ]
    }
   ],
   "source": [
    "from sklearn.model_selection import KFold\n",
    "X = [\"a\",'b','c','d','e','f']\n",
    "\n",
    "kf = KFold(n_splits=3)\n",
    "\n",
    "for train, test in kf.split(X):\n",
    "\n",
    "    print(\"Train data\",train,\"Test data\",test)"
   ]
  },
  {
   "cell_type": "markdown",
   "id": "f145aee5",
   "metadata": {},
   "source": [
    "<b> OUTPUT: </b>\n",
    "\n",
    "Train: [2 3 4 5] Test: [0 1]\n",
    "\n",
    "Train: [0 1 4 5] Test: [2 3]\n",
    "\n",
    "Train: [0 1 2 3] Test: [4 5]"
   ]
  },
  {
   "cell_type": "markdown",
   "id": "4f72cc4c",
   "metadata": {},
   "source": [
    "### Example with real data"
   ]
  },
  {
   "cell_type": "code",
   "execution_count": 2,
   "id": "3fe0e47a",
   "metadata": {},
   "outputs": [],
   "source": [
    "from sklearn.linear_model import LogisticRegression\n",
    "from sklearn.svm import SVC\n",
    "from sklearn.ensemble import RandomForestClassifier\n",
    "import numpy as np\n",
    "from sklearn.datasets import load_digits\n",
    "import matplotlib.pyplot as plt"
   ]
  },
  {
   "cell_type": "code",
   "execution_count": 3,
   "id": "d571600e",
   "metadata": {},
   "outputs": [],
   "source": [
    "digits = load_digits()"
   ]
  },
  {
   "cell_type": "code",
   "execution_count": 4,
   "id": "ea12deba",
   "metadata": {},
   "outputs": [],
   "source": [
    "def get_score(model, X_train, X_test, y_train, y_test):\n",
    "    model.fit(X_train, y_train)\n",
    "    return model.score(X_test, y_test)"
   ]
  },
  {
   "cell_type": "code",
   "execution_count": 6,
   "id": "031809d5",
   "metadata": {},
   "outputs": [],
   "source": [
    "from sklearn.model_selection import KFold,StratifiedKFold\n",
    "folds = StratifiedKFold(n_splits=3)\n",
    "\n",
    "scores_logistic = []\n",
    "scores_svm = []\n",
    "scores_rf = []\n",
    "\n",
    "for train_index, test_index in folds.split(digits.data,digits.target):#applying cross vaidation\n",
    "    X_train, X_test, y_train, y_test = digits.data[train_index], digits.data[test_index], digits.target[train_index], digits.target[test_index]\n",
    "    scores_logistic.append(get_score(LogisticRegression(solver='liblinear',multi_class='ovr'), X_train, X_test, y_train, y_test))  \n",
    "    scores_svm.append(get_score(SVC(gamma='auto'), X_train, X_test, y_train, y_test))\n",
    "    scores_rf.append(get_score(RandomForestClassifier(n_estimators=40), X_train, X_test, y_train, y_test))"
   ]
  },
  {
   "cell_type": "code",
   "execution_count": 7,
   "id": "50feda4a",
   "metadata": {},
   "outputs": [
    {
     "name": "stdout",
     "output_type": "stream",
     "text": [
      "Logistic Regression scores are:  [0.8948247078464107, 0.9532554257095158, 0.9098497495826378]\n",
      "SVM scores are:  [0.3806343906510851, 0.41068447412353926, 0.5125208681135225]\n",
      "Random Forest scores are:  [0.9232053422370617, 0.9348914858096828, 0.9315525876460768]\n"
     ]
    }
   ],
   "source": [
    "print ('Logistic Regression scores are: ', scores_logistic)\n",
    "print ('SVM scores are: ', scores_svm)\n",
    "print ('Random Forest scores are: ', scores_rf)"
   ]
  },
  {
   "cell_type": "markdown",
   "id": "452578e2",
   "metadata": {},
   "source": [
    "### <span style = \"color: blue\"> In real life cases we do not need to use these codes. There is a function in sklearn which does these for us </span>"
   ]
  },
  {
   "cell_type": "markdown",
   "id": "34540455",
   "metadata": {},
   "source": [
    "#### cross_val_score"
   ]
  },
  {
   "cell_type": "code",
   "execution_count": 8,
   "id": "90c86129",
   "metadata": {},
   "outputs": [],
   "source": [
    "from sklearn.model_selection import cross_val_score"
   ]
  },
  {
   "cell_type": "markdown",
   "id": "454f8794",
   "metadata": {},
   "source": [
    "#### For Logistic Regression"
   ]
  },
  {
   "cell_type": "code",
   "execution_count": 9,
   "id": "066bd198",
   "metadata": {},
   "outputs": [
    {
     "data": {
      "text/plain": [
       "array([0.89482471, 0.95325543, 0.90984975])"
      ]
     },
     "execution_count": 9,
     "metadata": {},
     "output_type": "execute_result"
    }
   ],
   "source": [
    "cross_val_score(LogisticRegression(solver='liblinear',multi_class='ovr'), digits.data, digits.target,cv=3)"
   ]
  },
  {
   "cell_type": "markdown",
   "id": "cc209a57",
   "metadata": {},
   "source": [
    "#### For SVM"
   ]
  },
  {
   "cell_type": "code",
   "execution_count": 10,
   "id": "02fb5288",
   "metadata": {},
   "outputs": [
    {
     "data": {
      "text/plain": [
       "array([0.96494157, 0.97996661, 0.96494157])"
      ]
     },
     "execution_count": 10,
     "metadata": {},
     "output_type": "execute_result"
    }
   ],
   "source": [
    "cross_val_score(SVC(), digits.data, digits.target,cv=3)"
   ]
  },
  {
   "cell_type": "markdown",
   "id": "e457a93d",
   "metadata": {},
   "source": [
    "#### For Random Forest Classifier"
   ]
  },
  {
   "cell_type": "code",
   "execution_count": 11,
   "id": "18f38da1",
   "metadata": {},
   "outputs": [
    {
     "data": {
      "text/plain": [
       "array([0.93989983, 0.94657763, 0.93155259])"
      ]
     },
     "execution_count": 11,
     "metadata": {},
     "output_type": "execute_result"
    }
   ],
   "source": [
    "cross_val_score(RandomForestClassifier(n_estimators=40), digits.data, digits.target,cv=3)"
   ]
  },
  {
   "cell_type": "markdown",
   "id": "39daf80a",
   "metadata": {},
   "source": [
    "***"
   ]
  },
  {
   "cell_type": "markdown",
   "id": "5f34426a",
   "metadata": {},
   "source": [
    "# <center><span style = \"color:CornflowerBlue; font-family:Courier New;font-size:40px\">EDURE LEARNING</span></center>"
   ]
  }
 ],
 "metadata": {
  "kernelspec": {
   "display_name": "Python 3 (ipykernel)",
   "language": "python",
   "name": "python3"
  },
  "language_info": {
   "codemirror_mode": {
    "name": "ipython",
    "version": 3
   },
   "file_extension": ".py",
   "mimetype": "text/x-python",
   "name": "python",
   "nbconvert_exporter": "python",
   "pygments_lexer": "ipython3",
   "version": "3.11.5"
  }
 },
 "nbformat": 4,
 "nbformat_minor": 5
}
