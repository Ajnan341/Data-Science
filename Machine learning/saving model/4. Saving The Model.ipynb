{
 "cells": [
  {
   "cell_type": "markdown",
   "id": "20c63fb2",
   "metadata": {},
   "source": [
    "# <span style = \"color:green\">Saving The Model</span>"
   ]
  },
  {
   "cell_type": "markdown",
   "id": "ca097cf2",
   "metadata": {},
   "source": [
    "***"
   ]
  },
  {
   "cell_type": "markdown",
   "id": "001d8996",
   "metadata": {},
   "source": [
    "In machine learning, while working with scikit learn library, we need to save the trained models in a file and restore them in order to reuse it to compare the model with other models, to test the model on a new data. The saving of data is called Serialization, while restoring the data is called Deserialization.\n",
    "Also, we deal with different types and sizes of data. Some datasets are easily trained i.e- they take less time to train but the datasets whose size is large (more than 1GB) can take very large time to train on a local machine even with GPU. When we need the same trained data in some different project or later sometime, to avoid the wastage of the training time, store trained model so that it can be used anytime in the future. "
   ]
  },
  {
   "cell_type": "markdown",
   "id": "924eb976",
   "metadata": {},
   "source": [
    "There are two ways we can save a model in scikit learn:"
   ]
  },
  {
   "cell_type": "markdown",
   "id": "a88a6ace",
   "metadata": {},
   "source": [
    "* Pickle\n",
    "* Joblib"
   ]
  },
  {
   "cell_type": "markdown",
   "id": "68c7c3e9",
   "metadata": {},
   "source": [
    "#### Pickle string: \n",
    "The pickle module implements a fundamental, but powerful algorithm for serializing and de-serializing a Python object structure. "
   ]
  },
  {
   "cell_type": "markdown",
   "id": "6d036eb1",
   "metadata": {},
   "source": [
    "Pickle model provides the following functions –\n",
    "\n",
    "1. pickle.dump to serialize an object hierarchy, you simply use dump(). \n",
    "\n",
    "2. pickle.load to deserialize a data stream, you call the loads() function."
   ]
  },
  {
   "cell_type": "code",
   "execution_count": 1,
   "id": "72576f27",
   "metadata": {},
   "outputs": [
    {
     "ename": "NameError",
     "evalue": "name 'model' is not defined",
     "output_type": "error",
     "traceback": [
      "\u001b[1;31m---------------------------------------------------------------------------\u001b[0m",
      "\u001b[1;31mNameError\u001b[0m                                 Traceback (most recent call last)",
      "Cell \u001b[1;32mIn[1], line 4\u001b[0m\n\u001b[0;32m      1\u001b[0m \u001b[38;5;28;01mimport\u001b[39;00m \u001b[38;5;21;01mpickle\u001b[39;00m\n\u001b[0;32m      3\u001b[0m \u001b[38;5;66;03m# Save the trained model as a pickle string.\u001b[39;00m\n\u001b[1;32m----> 4\u001b[0m saved_model \u001b[38;5;241m=\u001b[39m pickle\u001b[38;5;241m.\u001b[39mdumps(\u001b[43mmodel\u001b[49m)\n\u001b[0;32m      6\u001b[0m \u001b[38;5;66;03m# Load the pickled model\u001b[39;00m\n\u001b[0;32m      7\u001b[0m model \u001b[38;5;241m=\u001b[39m pickle\u001b[38;5;241m.\u001b[39mloads(saved_model)\n",
      "\u001b[1;31mNameError\u001b[0m: name 'model' is not defined"
     ]
    }
   ],
   "source": [
    "import pickle\n",
    " \n",
    "# Save the trained model as a pickle string.\n",
    "saved_model = pickle.dumps(model)\n",
    " \n",
    "# Load the pickled model\n",
    "model = pickle.loads(saved_model)\n",
    " \n",
    "# Use the loaded pickled model to make predictions\n",
    "model.predict(X_test)"
   ]
  },
  {
   "cell_type": "markdown",
   "id": "3562c28b",
   "metadata": {},
   "source": [
    "#### Joblib\n",
    "Joblib is the replacement of pickle as it is more efficient on objects that carry large numpy arrays. These functions also accept file-like object instead of filenames."
   ]
  },
  {
   "cell_type": "markdown",
   "id": "e0f5d24b",
   "metadata": {},
   "source": [
    "1. joblib.dump to serialize an object hierarchy \n",
    "2. joblib.load to deserialize a data stream"
   ]
  },
  {
   "cell_type": "code",
   "execution_count": null,
   "id": "37f98651",
   "metadata": {},
   "outputs": [],
   "source": [
    "from sklearn.externals import joblib\n",
    "# If the above import doesn't work, Try\n",
    "import joblib\n",
    " \n",
    "# Save the model as a pickle in a file\n",
    "joblib.dump(model, 'filename')\n",
    " \n",
    "# Load the model from the file\n",
    "loaded_model = joblib.load('filename')\n",
    " \n",
    "# Use the loaded model to make predictions\n",
    "loaded_model.predict(X_test)"
   ]
  },
  {
   "cell_type": "markdown",
   "id": "0486358b",
   "metadata": {},
   "source": [
    "***"
   ]
  },
  {
   "cell_type": "markdown",
   "id": "850c29b9",
   "metadata": {},
   "source": [
    "# <center><a href = \"http://edure.in/\"><span style = \"color:CornflowerBlue; font-family:Courier New;font-size:40px\">EDURE LEARNING</span></a></center>"
   ]
  }
 ],
 "metadata": {
  "kernelspec": {
   "display_name": "Python 3",
   "language": "python",
   "name": "python3"
  },
  "language_info": {
   "codemirror_mode": {
    "name": "ipython",
    "version": 3
   },
   "file_extension": ".py",
   "mimetype": "text/x-python",
   "name": "python",
   "nbconvert_exporter": "python",
   "pygments_lexer": "ipython3",
   "version": "3.11.5"
  }
 },
 "nbformat": 4,
 "nbformat_minor": 5
}
