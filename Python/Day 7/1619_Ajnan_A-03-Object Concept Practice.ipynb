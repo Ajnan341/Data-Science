{
 "cells": [
  {
   "cell_type": "markdown",
   "metadata": {},
   "source": [
    "## Object Concept Practice Exercise"
   ]
  },
  {
   "cell_type": "markdown",
   "metadata": {},
   "source": [
    "***"
   ]
  },
  {
   "cell_type": "markdown",
   "metadata": {},
   "source": [
    "**1.Create a class named person and return how many objects are created for that class**"
   ]
  },
  {
   "cell_type": "code",
   "execution_count": 4,
   "metadata": {},
   "outputs": [
    {
     "name": "stdout",
     "output_type": "stream",
     "text": [
      "name: Arun\n",
      "age: 15\n",
      "place: Kollam\n",
      "name: Vimal\n",
      "age: 16\n",
      "place: Kollam\n",
      "name: Athul\n",
      "age: 19\n",
      "place: Kollam\n",
      "3\n"
     ]
    }
   ],
   "source": [
    "class Person():\n",
    "    objcount=0\n",
    "    def __init__(self,name,age,place):\n",
    "        self.name=name\n",
    "        self.age=age\n",
    "        self.place=place\n",
    "        print('name:',self.name)\n",
    "        print('age:',self.age)\n",
    "        print('place:',self.place)\n",
    "        Person.objcount+=1\n",
    "        \n",
    "p1=Person('Arun',15,'Kollam')\n",
    "p2=Person('Vimal',16,'Kollam')\n",
    "p3=Person('Athul',19,'Kollam')\n",
    "\n",
    "print(Person.objcount)"
   ]
  },
  {
   "cell_type": "markdown",
   "metadata": {},
   "source": [
    "**2.Create a class student with attributes names and marks**\n",
    " \n",
    " a. Create a method to display name and mark of a student\n",
    " \n",
    " b. Create a method to show the grades of a student in the following manner\n",
    " * marks>=60: First Class\n",
    " * marks>=50: Second Class\n",
    " * Else Failed"
   ]
  },
  {
   "cell_type": "code",
   "execution_count": 6,
   "metadata": {},
   "outputs": [
    {
     "name": "stdout",
     "output_type": "stream",
     "text": [
      "name: Arjun\n",
      "mark: 65\n"
     ]
    },
    {
     "data": {
      "text/plain": [
       "<bound method Student.grading of <__main__.Student object at 0x00000225A0247510>>"
      ]
     },
     "execution_count": 6,
     "metadata": {},
     "output_type": "execute_result"
    }
   ],
   "source": [
    "class Student():\n",
    "    def __init__(self,name,mark):\n",
    "        self.name=name\n",
    "        self.mark=mark\n",
    "    def displaydetails(self):\n",
    "        print('name:',self.name)\n",
    "        print('mark:',self.mark)\n",
    "    def grading(self):\n",
    "        if self.mark>=60:\n",
    "            print('first class')\n",
    "        elif self.mark>=50:\n",
    "            print('second class')\n",
    "        else:                                                                                                                             \n",
    "            print('failed')\n",
    "s=Student('Arjun',65)\n",
    "s.displaydetails()\n",
    "s.grading"
   ]
  },
  {
   "cell_type": "markdown",
   "metadata": {},
   "source": [
    "#### Encapsulation\n",
    "**3. Create a rectangle class with a private variables height and widht and find the area using the area method**"
   ]
  },
  {
   "cell_type": "code",
   "execution_count": 8,
   "metadata": {},
   "outputs": [
    {
     "data": {
      "text/plain": [
       "330"
      ]
     },
     "execution_count": 8,
     "metadata": {},
     "output_type": "execute_result"
    }
   ],
   "source": [
    "class Triangle():\n",
    "    def __init__(self,h,w):\n",
    "        self.h=h\n",
    "        self.w=w\n",
    "    def area(self):\n",
    "        area=self.h*self.w\n",
    "        return area\n",
    "t=Triangle(15,22)\n",
    "t.area()"
   ]
  },
  {
   "cell_type": "markdown",
   "metadata": {},
   "source": [
    "##### 4.Inheritance Problem and Encapsulation\n",
    "1. Create a  parent class called \"shape\" which has attributes color and filled, color takes default value as black and filled take default boolean value. Use get_color, get_filled to set the value of color and filled and set_color,get_filled to get the value of color and filled\n",
    "\n",
    "2. Create child class called Rectangle for the class \"shape\" and which takes the argument length,breadth \n",
    " * Set the value of both length and breadth using set method and get method\n",
    " * Find the area and perimeter of rectangle using get_area and get_perimeter methods\n",
    "\n",
    "3. Create another child class called Circle for the class \"shape\" which takes the argument radius\n",
    " * Set the value of radius using set method\n",
    " * Get the value of radius using get method\n",
    " * Use get_area and get_perimeter to find the area and perimeter of the circle"
   ]
  },
  {
   "cell_type": "code",
   "execution_count": 6,
   "metadata": {},
   "outputs": [],
   "source": [
    "import math\n",
    "\n",
    "class Shape():\n",
    "    def __init__(self,color,filled):\n",
    "        self.color=color\n",
    "        self.filled=filled\n",
    "    def get_color(self):\n",
    "        return self.color\n",
    "\n",
    "    def set_color(self, color):\n",
    "        self.color = color\n",
    "\n",
    "    def is_filled(self):\n",
    "        return self.filled\n",
    "\n",
    "    def set_filled(self, filled):\n",
    "        self.__filled = filled\n",
    "\n",
    "class Rectangle(Shape):\n",
    "    def __init__(self, length, breadth, color=\"black\", filled=True):\n",
    "        super().__init__(color, filled)  \n",
    "        self.length = length\n",
    "        self.breadth = breadth\n",
    "\n",
    "    def get_length(self):\n",
    "        return self.length\n",
    "\n",
    "    def set_length(self, length):\n",
    "        self.length = length\n",
    "\n",
    "    def get_breadth(self):\n",
    "        return self.breadth\n",
    "\n",
    "    def set_breadth(self, breadth):\n",
    "        self.breadth = breadth\n",
    "\n",
    "    def get_area(self):\n",
    "        return self.length * self.breadth\n",
    "\n",
    "    def get_perimeter(self):\n",
    "        return 2 * (self.length + self.breadth)\n",
    "\n",
    "\n",
    "class Circle(Shape):\n",
    "    def __init__(self, radius, color=\"black\", filled=True):\n",
    "        super().__init__(color, filled) \n",
    "        self.radius = radius\n",
    "\n",
    "    def get_radius(self):\n",
    "        return self.radius\n",
    "\n",
    "    def set_radius(self, radius):\n",
    "        self.radius = radius\n",
    "\n",
    "    def get_area(self):\n",
    "        return math.pi * self.radius ** 2\n",
    "\n",
    "    def get_perimeter(self):\n",
    "        return 2 * math.pi * self.radius"
   ]
  },
  {
   "cell_type": "code",
   "execution_count": 7,
   "metadata": {},
   "outputs": [
    {
     "name": "stdout",
     "output_type": "stream",
     "text": [
      "Rectangle area: 50\n",
      "Rectangle perimeter: 30\n",
      "Rectangle color: black\n",
      "Rectangle filled: True\n",
      "\n",
      "Circle area: 153.93804002589985\n",
      "Circle perimeter: 43.982297150257104\n",
      "Circle color: black\n",
      "Circle filled: True\n"
     ]
    }
   ],
   "source": [
    "rect = Rectangle(10, 5)\n",
    "print(\"Rectangle area:\", rect.get_area())\n",
    "print(\"Rectangle perimeter:\", rect.get_perimeter())\n",
    "print(\"Rectangle color:\", rect.get_color())\n",
    "print(\"Rectangle filled:\", rect.is_filled())\n",
    "\n",
    "circle = Circle(7)\n",
    "print(\"\\nCircle area:\", circle.get_area())\n",
    "print(\"Circle perimeter:\", circle.get_perimeter())\n",
    "print(\"Circle color:\", circle.get_color())\n",
    "print(\"Circle filled:\", circle.is_filled())"
   ]
  },
  {
   "cell_type": "markdown",
   "metadata": {},
   "source": [
    "##### 5.ABSTRACT METHOD"
   ]
  },
  {
   "cell_type": "markdown",
   "metadata": {},
   "source": [
    "1. Create a abstract class named Shape with abstract methods area and perimeter\n",
    "\n",
    "2. Create two class named Square and Rectangle which inherit the shape class and define area and perimeter methods"
   ]
  },
  {
   "cell_type": "code",
   "execution_count": 8,
   "metadata": {},
   "outputs": [],
   "source": [
    "from abc import ABC, abstractmethod\n",
    "\n",
    "class Shape(ABC):\n",
    "    @abstractmethod\n",
    "    def area(self):\n",
    "        pass\n",
    "\n",
    "    @abstractmethod\n",
    "    def perimeter(self):\n",
    "        pass\n",
    "class Square(Shape):\n",
    "    def __init__(self, side):\n",
    "        self.side = side\n",
    "\n",
    "    def area(self):\n",
    "        return self.side * self.side\n",
    "\n",
    "    def perimeter(self):\n",
    "        return 4 * self.side\n",
    "    \n",
    "class Rectangle(Shape):\n",
    "    def __init__(self, length, breadth):\n",
    "        self.length = length\n",
    "        self.breadth = breadth\n",
    "\n",
    "    def area(self):\n",
    "        return self.length * self.breadth\n",
    "\n",
    "    def perimeter(self):\n",
    "        return 2 * (self.length + self.breadth)\n",
    "\n"
   ]
  },
  {
   "cell_type": "code",
   "execution_count": 9,
   "metadata": {},
   "outputs": [
    {
     "name": "stdout",
     "output_type": "stream",
     "text": [
      "Square area: 16\n",
      "Square perimeter: 16\n",
      "\n",
      "Rectangle area: 50\n",
      "Rectangle perimeter: 30\n"
     ]
    }
   ],
   "source": [
    "sq= Square(4)\n",
    "print(\"Square area:\", sq.area())\n",
    "print(\"Square perimeter:\", sq.perimeter())\n",
    "\n",
    "rec= Rectangle(10, 5)\n",
    "print(\"\\nRectangle area:\", rec.area())\n",
    "print(\"Rectangle perimeter:\", rec.perimeter())"
   ]
  },
  {
   "cell_type": "markdown",
   "metadata": {},
   "source": [
    "##### 6.Determine if a triangle is equilateral, isosceles, or scalene.\n",
    "\n",
    "    * An equilateral triangle has all three sides the same length.\n",
    "\n",
    "    * An isosceles triangle has at least two sides the same length. (It is sometimes specified as having exactly two sides the same length, but for the purposes of this exercise we'll say at least two.)\n",
    "\n",
    "    * A scalene triangle has all sides of different lengths"
   ]
  },
  {
   "cell_type": "code",
   "execution_count": 1,
   "metadata": {},
   "outputs": [],
   "source": [
    "class Triangle:\n",
    "    def __init__(self, s1, s2, s3):\n",
    "        self.s1 = s1\n",
    "        self.s2 = s2\n",
    "        self.s3 = s3\n",
    "\n",
    "    def is_equilateral(self):\n",
    "        return self.s1 == self.s2 == self.s3\n",
    "\n",
    "    def is_isosceles(self):\n",
    "        return self.s1 == self.s2 or self.s2 == self.s3 or self.s1 == self.s3\n",
    "\n",
    "    def is_scalene(self):\n",
    "        return self.s1 != self.s2 and self.s2 != self.s3 and self.s1 != self.s3\n",
    "\n",
    "    def determine_type(self):\n",
    "        if self.is_equilateral():\n",
    "            return \"Equilateral\"\n",
    "        elif self.is_isosceles():\n",
    "            return \"Isosceles\"\n",
    "        else:\n",
    "            return \"Scalene\"\n",
    "\n"
   ]
  },
  {
   "cell_type": "code",
   "execution_count": 2,
   "metadata": {},
   "outputs": [
    {
     "name": "stdout",
     "output_type": "stream",
     "text": [
      "Triangle with sides (5, 5, 5) is: Equilateral\n",
      "Triangle with sides (5, 5, 3) is: Isosceles\n",
      "Triangle with sides (4, 5, 6) is: Scalene\n"
     ]
    }
   ],
   "source": [
    "triangle1 = Triangle(5, 5, 5)\n",
    "print(f\"Triangle with sides (5, 5, 5) is: {triangle1.determine_type()}\")\n",
    "\n",
    "triangle2 = Triangle(5, 5, 3)\n",
    "print(f\"Triangle with sides (5, 5, 3) is: {triangle2.determine_type()}\")\n",
    "\n",
    "triangle3 = Triangle(4, 5, 6)\n",
    "print(f\"Triangle with sides (4, 5, 6) is: {triangle3.determine_type()}\")\n"
   ]
  }
 ],
 "metadata": {
  "kernelspec": {
   "display_name": "Python 3 (ipykernel)",
   "language": "python",
   "name": "python3"
  },
  "language_info": {
   "codemirror_mode": {
    "name": "ipython",
    "version": 3
   },
   "file_extension": ".py",
   "mimetype": "text/x-python",
   "name": "python",
   "nbconvert_exporter": "python",
   "pygments_lexer": "ipython3",
   "version": "3.11.5"
  }
 },
 "nbformat": 4,
 "nbformat_minor": 4
}
