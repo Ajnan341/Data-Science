{
 "cells": [
  {
   "cell_type": "markdown",
   "metadata": {},
   "source": [
    "# Milestone Project 2 - Walkthrough Steps Workbook\n",
    "Below is a set of steps for you to follow to try to create the Blackjack Milestone Project game!"
   ]
  },
  {
   "cell_type": "markdown",
   "metadata": {},
   "source": [
    "## Game Play\n",
    "To play a hand of Blackjack the following steps must be followed:\n",
    "1. Create a deck of 52 cards\n",
    "2. Shuffle the deck\n",
    "3. Ask the Player for their bet\n",
    "4. Make sure that the Player's bet does not exceed their available chips\n",
    "5. Deal two cards to the Dealer and two cards to the Player\n",
    "6. Show only one of the Dealer's cards, the other remains hidden\n",
    "7. Show both of the Player's cards\n",
    "8. Ask the Player if they wish to Hit, and take another card\n",
    "9. If the Player's hand doesn't Bust (go over 21), ask if they'd like to Hit again.\n",
    "10. If a Player Stands, play the Dealer's hand. The dealer will always Hit until the Dealer's value meets or exceeds 17\n",
    "11. Determine the winner and adjust the Player's chips accordingly\n",
    "12. Ask the Player if they'd like to play again"
   ]
  },
  {
   "cell_type": "markdown",
   "metadata": {},
   "source": [
    "## Playing Cards\n",
    "A standard deck of playing cards has four suits (Hearts, Diamonds, Spades and Clubs) and thirteen ranks (2 through 10, then the face cards Jack, Queen, King and Ace) for a total of 52 cards per deck. Jacks, Queens and Kings all have a rank of 10. Aces have a rank of either 11 or 1 as needed to reach 21 without busting. As a starting point in your program, you may want to assign variables to store a list of suits, ranks, and then use a dictionary to map ranks to values."
   ]
  },
  {
   "cell_type": "markdown",
   "metadata": {},
   "source": [
    "## The Game\n",
    "### Imports and Global Variables\n",
    "** Step 1: Import the random module. This will be used to shuffle the deck prior to dealing. Then, declare variables to store suits, ranks and values. You can develop your own system, or copy ours below. Finally, declare a Boolean value to be used to control <code>while</code> loops. This is a common practice used to control the flow of the game.**\n",
    "\n",
    "    suits = ('Hearts', 'Diamonds', 'Spades', 'Clubs')\n",
    "    ranks = ('Two', 'Three', 'Four', 'Five', 'Six', 'Seven', 'Eight', 'Nine', 'Ten', 'Jack', 'Queen', 'King', 'Ace')\n",
    "    values = {'Two':2, 'Three':3, 'Four':4, 'Five':5, 'Six':6, 'Seven':7, 'Eight':8, 'Nine':9, 'Ten':10, 'Jack':10,\n",
    "             'Queen':10, 'King':10, 'Ace':11}"
   ]
  },
  {
   "cell_type": "code",
   "execution_count": 1,
   "metadata": {},
   "outputs": [],
   "source": [
    "\n",
    "import random\n",
    "\n",
    "suits = ('Hearts', 'Diamonds', 'Spades', 'Clubs')\n",
    "ranks = ('Two', 'Three', 'Four', 'Five', 'Six', 'Seven', 'Eight', 'Nine', 'Ten', 'Jack', 'Queen', 'King', 'Ace')\n",
    "values = {'Two':2, 'Three':3, 'Four':4, 'Five':5, 'Six':6, 'Seven':7, 'Eight':8, 'Nine':9, 'Ten':10, 'Jack':10,'Queen':10, 'King':10, 'Ace':11}\n",
    "\n",
    "playing = True"
   ]
  },
  {
   "cell_type": "markdown",
   "metadata": {},
   "source": [
    "### Class Definitions\n",
    "Consider making a Card class where each Card object has a suit and a rank, then a Deck class to hold all 52 Card objects, and can be shuffled, and finally a Hand class that holds those Cards that have been dealt to each player from the Deck."
   ]
  },
  {
   "cell_type": "markdown",
   "metadata": {},
   "source": [
    "**Step 2: Create a Card Class**<br>\n",
    "A Card object really only needs two attributes: suit and rank. You might add an attribute for \"value\" - we chose to handle value later when developing our Hand class.<br>In addition to the Card's \\_\\_init\\_\\_ method, consider adding a \\_\\_str\\_\\_ method that, when asked to print a Card, returns a string in the form \"Two of Hearts\""
   ]
  },
  {
   "cell_type": "code",
   "execution_count": 2,
   "metadata": {},
   "outputs": [],
   "source": [
    "class Card:\n",
    "    \n",
    "    def __init__(self,suit,rank):\n",
    "        self.suit=suit\n",
    "        self.rank=rank\n",
    "    \n",
    "    def strng1(self):\n",
    "        return self.rank+ \" in \"+ self.suit"
   ]
  },
  {
   "cell_type": "markdown",
   "metadata": {},
   "source": [
    "**Step 3: Create a Deck Class**<br>\n",
    "Here we might store 52 card objects in a list that can later be shuffled. First, though, we need to *instantiate* all 52 unique card objects and add them to our list. So long as the Card class definition appears in our code, we can build Card objects inside our Deck \\_\\_init\\_\\_ method. Consider iterating over sequences of suits and ranks to build out each card. This might appear inside a Deck class \\_\\_init\\_\\_ method:\n",
    "\n",
    "    for suit in suits:\n",
    "        for rank in ranks:\n",
    "\n",
    "In addition to an \\_\\_init\\_\\_ method we'll want to add methods to shuffle our deck, and to deal out cards during gameplay.<br><br>\n",
    "OPTIONAL: We may never need to print the contents of the deck during gameplay, but having the ability to see the cards inside it may help troubleshoot any problems that occur during development. With this in mind, consider adding a \\_\\_str\\_\\_ method to the class definition."
   ]
  },
  {
   "cell_type": "code",
   "execution_count": 4,
   "metadata": {},
   "outputs": [],
   "source": [
    "# Deck Class\n",
    "class Deck:\n",
    "    def __init__(self):\n",
    "        self.deck = [Card(suit, rank) for suit in suits for rank in ranks]\n",
    "        self.shuffle()\n",
    "\n",
    "    def __str__(self):\n",
    "        return ', '.join(card.strng1() for card in self.deck)\n",
    "\n",
    "    def shuffle(self):\n",
    "        random.shuffle(self.deck)\n",
    "\n",
    "    def deal(self):\n",
    "        return self.deck.pop()\n"
   ]
  },
  {
   "cell_type": "markdown",
   "metadata": {},
   "source": [
    "TESTING: Just to see that everything works so far, let's see what our Deck looks like!"
   ]
  },
  {
   "cell_type": "code",
   "execution_count": 5,
   "metadata": {},
   "outputs": [
    {
     "name": "stdout",
     "output_type": "stream",
     "text": [
      "Nine in Spades, Queen in Diamonds, Ten in Clubs, Queen in Hearts, Jack in Spades, Ace in Diamonds, Two in Spades, Two in Clubs, Four in Clubs, Seven in Clubs, Three in Hearts, Three in Clubs, Ace in Spades, Four in Hearts, Ten in Spades, Jack in Diamonds, Seven in Spades, Five in Diamonds, Eight in Hearts, Six in Diamonds, Six in Clubs, Ten in Diamonds, Two in Hearts, Jack in Clubs, King in Diamonds, Jack in Hearts, Nine in Clubs, Nine in Diamonds, Three in Diamonds, Queen in Spades, Eight in Spades, King in Spades, King in Clubs, Five in Clubs, Eight in Clubs, Five in Spades, Six in Spades, Queen in Clubs, Seven in Diamonds, Three in Spades, Six in Hearts, Two in Diamonds, Nine in Hearts, King in Hearts, Ace in Clubs, Eight in Diamonds, Four in Diamonds, Ten in Hearts, Five in Hearts, Four in Spades, Ace in Hearts, Seven in Hearts\n"
     ]
    }
   ],
   "source": [
    "test_deck = Deck()\n",
    "print(test_deck)"
   ]
  },
  {
   "cell_type": "markdown",
   "metadata": {},
   "source": [
    "Great! Now let's move on to our Hand class."
   ]
  },
  {
   "cell_type": "markdown",
   "metadata": {},
   "source": [
    "**Step 4: Create a Hand Class**<br>\n",
    "In addition to holding Card objects dealt from the Deck, the Hand class may be used to calculate the value of those cards using the values dictionary defined above. It may also need to adjust for the value of Aces when appropriate."
   ]
  },
  {
   "cell_type": "code",
   "execution_count": 7,
   "metadata": {},
   "outputs": [
    {
     "name": "stdout",
     "output_type": "stream",
     "text": [
      "Player's hand:\n",
      "King in Clubs, Two in Spades (Value: 12)\n",
      "Dealer's hand:\n",
      "King in Hearts, Queen in Diamonds (Value: 20)\n"
     ]
    }
   ],
   "source": [
    "class Hand:\n",
    "    def __init__(self):\n",
    "        self.cards = []  # Start with an empty list of cards\n",
    "        self.value = 0   # Start with zero value\n",
    "        self.aces = 0    # Track the number of Aces\n",
    "    \n",
    "    def add_card(self, card):\n",
    "        self.cards.append(card)\n",
    "        self.value += values[card.rank]\n",
    "        if card.rank == 'Ace':\n",
    "            self.aces += 1\n",
    "        self.adjust_for_ace()\n",
    "    \n",
    "    def adjust_for_ace(self):\n",
    "        while self.value > 21 and self.aces:\n",
    "            self.value -= 10\n",
    "            self.aces -= 1\n",
    "\n",
    "    def __str__(self):\n",
    "        return ', '.join(card.strng1() for card in self.cards) + f\" (Value: {self.value})\"\n",
    "\n",
    "# Example usage\n",
    "deck = Deck()\n",
    "player_hand = Hand()\n",
    "dealer_hand = Hand()\n",
    "\n",
    "# Deal cards to player and dealer\n",
    "player_hand.add_card(deck.deal())\n",
    "player_hand.add_card(deck.deal())\n",
    "dealer_hand.add_card(deck.deal())\n",
    "dealer_hand.add_card(deck.deal())\n",
    "\n",
    "print(\"Player's hand:\")\n",
    "print(player_hand)\n",
    "\n",
    "print(\"Dealer's hand:\")\n",
    "print(dealer_hand)\n"
   ]
  },
  {
   "cell_type": "markdown",
   "metadata": {},
   "source": [
    "**Step 5: Create a Chips Class**<br>\n",
    "In addition to decks of cards and hands, we need to keep track of a Player's starting chips, bets, and ongoing winnings. This could be done using global variables, but in the spirit of object oriented programming, let's make a Chips class instead!"
   ]
  },
  {
   "cell_type": "code",
   "execution_count": 8,
   "metadata": {},
   "outputs": [
    {
     "name": "stdout",
     "output_type": "stream",
     "text": [
      "Total chips: 100, Current bet: 0\n",
      "Bet placed successfully.\n",
      "Total chips: 100, Current bet: 25\n",
      "After winning the bet:\n",
      "Total chips: 125, Current bet: 25\n",
      "After losing the bet:\n",
      "Total chips: 100, Current bet: 25\n"
     ]
    }
   ],
   "source": [
    "class Chips:\n",
    "    def __init__(self, starting_amount=100):\n",
    "        self.total = starting_amount  # Starting amount of chips\n",
    "        self.bet = 0\n",
    "    \n",
    "    def win_bet(self):\n",
    "        self.total += self.bet\n",
    "    \n",
    "    def lose_bet(self):\n",
    "        self.total -= self.bet\n",
    "    \n",
    "    def place_bet(self, amount):\n",
    "        if amount > self.total:\n",
    "            print(\"Insufficient chips to place the bet. Try again.\")\n",
    "            return False\n",
    "        self.bet = amount\n",
    "        return True\n",
    "    \n",
    "    def __str__(self):\n",
    "        return f\"Total chips: {self.total}, Current bet: {self.bet}\"\n",
    "\n",
    "# Example usage\n",
    "player_chips = Chips()\n",
    "\n",
    "# Display starting chips\n",
    "print(player_chips)\n",
    "\n",
    "# Player places a bet\n",
    "if player_chips.place_bet(25):\n",
    "    print(\"Bet placed successfully.\")\n",
    "else:\n",
    "    print(\"Bet was not placed.\")\n",
    "\n",
    "# Display updated chips\n",
    "print(player_chips)\n",
    "\n",
    "# Simulate winning and losing\n",
    "player_chips.win_bet()\n",
    "print(\"After winning the bet:\")\n",
    "print(player_chips)\n",
    "\n",
    "player_chips.lose_bet()\n",
    "print(\"After losing the bet:\")\n",
    "print(player_chips)\n",
    "\n"
   ]
  },
  {
   "cell_type": "markdown",
   "metadata": {},
   "source": [
    "### Function Defintions\n",
    "A lot of steps are going to be repetitive. That's where functions come in! The following steps are guidelines - add or remove functions as needed in your own program."
   ]
  },
  {
   "cell_type": "markdown",
   "metadata": {},
   "source": []
  },
  {
   "cell_type": "markdown",
   "metadata": {},
   "source": [
    "**Step 6: Write a function for taking bets**<br>\n",
    "Since we're asking the user for an integer value, this would be a good place to use <code>try</code>/<code>except</code>. Remember to check that a Player's bet can be covered by their available chips."
   ]
  },
  {
   "cell_type": "markdown",
   "metadata": {},
   "source": [
    "**Step 7: Write a function for taking hits**<br>\n",
    "Either player can take hits until they bust. This function will be called during gameplay anytime a Player requests a hit, or a Dealer's hand is less than 17. It should take in Deck and Hand objects as arguments, and deal one card off the deck and add it to the Hand. You may want it to check for aces in the event that a player's hand exceeds 21."
   ]
  },
  {
   "cell_type": "code",
   "execution_count": 10,
   "metadata": {},
   "outputs": [
    {
     "name": "stdout",
     "output_type": "stream",
     "text": [
      "Player's hand before hit:\n",
      "Four in Spades, Four in Diamonds (Value: 8)\n",
      "Dealer's hand before hit:\n",
      "Six in Hearts, Four in Hearts (Value: 10)\n",
      "Card drawn: King in Hearts\n",
      "Updated hand: Four in Spades, Four in Diamonds, King in Hearts (Value: 18)\n",
      "Card drawn: King in Diamonds\n",
      "Updated hand: Six in Hearts, Four in Hearts, King in Diamonds (Value: 20)\n"
     ]
    }
   ],
   "source": [
    "def hit(deck, hand):\n",
    "    # Deal a card from the deck and add it to the hand\n",
    "    card = deck.deal()\n",
    "    hand.add_card(card)\n",
    "    \n",
    "    # Display the card that was drawn (for debugging or gameplay feedback)\n",
    "    print(f\"Card drawn: {card.strng1()}\")\n",
    "    \n",
    "    # Display the updated hand (for debugging or gameplay feedback)\n",
    "    print(f\"Updated hand: {hand}\")\n",
    "\n",
    "# Example usage\n",
    "deck = Deck()\n",
    "player_hand = Hand()\n",
    "dealer_hand = Hand()\n",
    "\n",
    "# Initial hands\n",
    "player_hand.add_card(deck.deal())\n",
    "player_hand.add_card(deck.deal())\n",
    "dealer_hand.add_card(deck.deal())\n",
    "dealer_hand.add_card(deck.deal())\n",
    "\n",
    "print(\"Player's hand before hit:\")\n",
    "print(player_hand)\n",
    "\n",
    "print(\"Dealer's hand before hit:\")\n",
    "print(dealer_hand)\n",
    "\n",
    "# Player takes a hit\n",
    "hit(deck, player_hand)\n",
    "\n",
    "# Dealer takes a hit (if needed, typically when dealer's hand is less than 17)\n",
    "if dealer_hand.value < 17:\n",
    "    hit(deck, dealer_hand)\n"
   ]
  },
  {
   "cell_type": "markdown",
   "metadata": {},
   "source": [
    "**Step 8: Write a function prompting the Player to Hit or Stand**<br>\n",
    "This function should accept the deck and the player's hand as arguments, and assign playing as a global variable.<br>\n",
    "If the Player Hits, employ the hit() function above. If the Player Stands, set the playing variable to False - this will control the behavior of a <code>while</code> loop later on in our code."
   ]
  },
  {
   "cell_type": "code",
   "execution_count": 11,
   "metadata": {},
   "outputs": [
    {
     "name": "stdout",
     "output_type": "stream",
     "text": [
      "Player's hand:\n",
      "Two in Spades, Jack in Hearts (Value: 12)\n",
      "Invalid choice. Please enter 'h' for Hit or 's' for Stand.\n",
      "Card drawn: Nine in Spades\n",
      "Updated hand: Two in Spades, Jack in Hearts, Nine in Spades (Value: 21)\n",
      "Player's hand after decision:\n",
      "Two in Spades, Jack in Hearts, Nine in Spades (Value: 21)\n"
     ]
    }
   ],
   "source": [
    "def hit_or_stand(deck, hand):\n",
    "    global playing  # To control the while loop\n",
    "    \n",
    "    while True:\n",
    "        choice = input(\"Would you like to Hit or Stand? Enter 'h' for Hit or 's' for Stand: \").lower()\n",
    "        \n",
    "        if choice == 'h':\n",
    "            hit(deck, hand)\n",
    "            if hand.value > 21:\n",
    "                print(\"Bust! Your hand value is over 21.\")\n",
    "                playing = False\n",
    "            break\n",
    "        elif choice == 's':\n",
    "            playing = False\n",
    "            break\n",
    "        else:\n",
    "            print(\"Invalid choice. Please enter 'h' for Hit or 's' for Stand.\")\n",
    "\n",
    "# Example usage\n",
    "deck = Deck()\n",
    "player_hand = Hand()\n",
    "player_hand.add_card(deck.deal())\n",
    "player_hand.add_card(deck.deal())\n",
    "\n",
    "playing = True\n",
    "\n",
    "print(\"Player's hand:\")\n",
    "print(player_hand)\n",
    "\n",
    "# Prompt player to Hit or Stand\n",
    "hit_or_stand(deck, player_hand)\n",
    "\n",
    "print(\"Player's hand after decision:\")\n",
    "print(player_hand)\n"
   ]
  },
  {
   "cell_type": "markdown",
   "metadata": {},
   "source": [
    "**Step 9: Write functions to display cards**<br>\n",
    "When the game starts, and after each time Player takes a card, the dealer's first card is hidden and all of Player's cards are visible. At the end of the hand all cards are shown, and you may want to show each hand's total value. Write a function for each of these scenarios."
   ]
  },
  {
   "cell_type": "code",
   "execution_count": 12,
   "metadata": {},
   "outputs": [
    {
     "name": "stdout",
     "output_type": "stream",
     "text": [
      "\n",
      "Dealer's hand:\n",
      " <card hidden>\n",
      " Nine in Clubs\n",
      "\n",
      "Player's hand:\n",
      " Six in Spades\n",
      " Ace in Diamonds\n",
      "Player's hand value: 17\n",
      "\n",
      "Card drawn: Ace in Hearts\n",
      "Updated hand: Six in Spades, Ace in Diamonds, Ace in Hearts (Value: 18)\n",
      "\n",
      "Dealer's hand:\n",
      " Six in Hearts\n",
      " Nine in Clubs\n",
      "Dealer's hand value: 15\n",
      "\n",
      "Player's hand:\n",
      " Six in Spades\n",
      " Ace in Diamonds\n",
      " Ace in Hearts\n",
      "Player's hand value: 18\n",
      "\n"
     ]
    }
   ],
   "source": [
    "def show_some(player, dealer):\n",
    "    print(\"\\nDealer's hand:\")\n",
    "    print(\" <card hidden>\")  # Dealer's first card is hidden\n",
    "    print(f\" {dealer.cards[1].strng1()}\")  # Show the second card\n",
    "    print(\"\\nPlayer's hand:\")\n",
    "    for card in player.cards:\n",
    "        print(f\" {card.strng1()}\")\n",
    "    print(f\"Player's hand value: {player.value}\\n\")\n",
    "\n",
    "def show_all(player, dealer):\n",
    "    print(\"\\nDealer's hand:\")\n",
    "    for card in dealer.cards:\n",
    "        print(f\" {card.strng1()}\")\n",
    "    print(f\"Dealer's hand value: {dealer.value}\")\n",
    "    print(\"\\nPlayer's hand:\")\n",
    "    for card in player.cards:\n",
    "        print(f\" {card.strng1()}\")\n",
    "    print(f\"Player's hand value: {player.value}\\n\")\n",
    "\n",
    "# Example usage\n",
    "deck = Deck()\n",
    "player_hand = Hand()\n",
    "dealer_hand = Hand()\n",
    "\n",
    "# Deal initial hands\n",
    "player_hand.add_card(deck.deal())\n",
    "player_hand.add_card(deck.deal())\n",
    "dealer_hand.add_card(deck.deal())\n",
    "dealer_hand.add_card(deck.deal())\n",
    "\n",
    "# Show hands\n",
    "show_some(player_hand, dealer_hand)\n",
    "# Simulate player taking a hit\n",
    "hit(deck, player_hand)\n",
    "# Show all hands after player takes a hit\n",
    "show_all(player_hand, dealer_hand)\n"
   ]
  },
  {
   "cell_type": "markdown",
   "metadata": {},
   "source": [
    "**Step 10: Write functions to handle end of game scenarios**<br>\n",
    "Remember to pass player's hand, dealer's hand and chips as needed."
   ]
  },
  {
   "cell_type": "code",
   "execution_count": 13,
   "metadata": {},
   "outputs": [],
   "source": [
    "def player_busts(player, dealer, chips):\n",
    "    print(\"Player busts! Dealer wins.\")\n",
    "    chips.lose_bet()\n",
    "\n",
    "def player_wins(player, dealer, chips):\n",
    "    print(\"Player wins!\")\n",
    "    chips.win_bet()\n",
    "\n",
    "def dealer_busts(player, dealer, chips):\n",
    "    print(\"Dealer busts! Player wins.\")\n",
    "    chips.win_bet()\n",
    "\n",
    "def dealer_wins(player, dealer, chips):\n",
    "    print(\"Dealer wins!\")\n",
    "    chips.lose_bet()\n",
    "\n",
    "def push():\n",
    "    print(\"It's a tie!\")\n"
   ]
  },
  {
   "cell_type": "markdown",
   "metadata": {},
   "source": [
    "### And now on to the game!!"
   ]
  },
  {
   "cell_type": "code",
   "execution_count": 14,
   "metadata": {},
   "outputs": [
    {
     "name": "stdout",
     "output_type": "stream",
     "text": [
      "Welcome to Blackjack!\n",
      "Bet of 50 accepted.\n",
      "\n",
      "Dealer's hand:\n",
      " <card hidden>\n",
      " Four in Spades\n",
      "\n",
      "Player's hand:\n",
      " King in Diamonds\n",
      " Eight in Hearts\n",
      "Player's hand value: 18\n",
      "\n",
      "\n",
      "Dealer's hand:\n",
      " <card hidden>\n",
      " Four in Spades\n",
      "\n",
      "Player's hand:\n",
      " King in Diamonds\n",
      " Eight in Hearts\n",
      "Player's hand value: 18\n",
      "\n",
      "Card drawn: Jack in Clubs\n",
      "Updated hand: Nine in Diamonds, Four in Spades, Jack in Clubs (Value: 23)\n",
      "\n",
      "Dealer's hand:\n",
      " Nine in Diamonds\n",
      " Four in Spades\n",
      " Jack in Clubs\n",
      "Dealer's hand value: 23\n",
      "\n",
      "Player's hand:\n",
      " King in Diamonds\n",
      " Eight in Hearts\n",
      "Player's hand value: 18\n",
      "\n",
      "Dealer busts! Player wins.\n",
      "Player's chips: 150\n",
      "Welcome to Blackjack!\n",
      "Bet of 20 accepted.\n",
      "\n",
      "Dealer's hand:\n",
      " <card hidden>\n",
      " Nine in Diamonds\n",
      "\n",
      "Player's hand:\n",
      " Nine in Spades\n",
      " Seven in Clubs\n",
      "Player's hand value: 16\n",
      "\n",
      "Card drawn: Four in Spades\n",
      "Updated hand: Nine in Spades, Seven in Clubs, Four in Spades (Value: 20)\n",
      "\n",
      "Dealer's hand:\n",
      " <card hidden>\n",
      " Nine in Diamonds\n",
      "\n",
      "Player's hand:\n",
      " Nine in Spades\n",
      " Seven in Clubs\n",
      " Four in Spades\n",
      "Player's hand value: 20\n",
      "\n",
      "Card drawn: Ace in Hearts\n",
      "Updated hand: Nine in Spades, Seven in Clubs, Four in Spades, Ace in Hearts (Value: 21)\n",
      "\n",
      "Dealer's hand:\n",
      " <card hidden>\n",
      " Nine in Diamonds\n",
      "\n",
      "Player's hand:\n",
      " Nine in Spades\n",
      " Seven in Clubs\n",
      " Four in Spades\n",
      " Ace in Hearts\n",
      "Player's hand value: 21\n",
      "\n",
      "\n",
      "Dealer's hand:\n",
      " <card hidden>\n",
      " Nine in Diamonds\n",
      "\n",
      "Player's hand:\n",
      " Nine in Spades\n",
      " Seven in Clubs\n",
      " Four in Spades\n",
      " Ace in Hearts\n",
      "Player's hand value: 21\n",
      "\n",
      "\n",
      "Dealer's hand:\n",
      " Eight in Spades\n",
      " Nine in Diamonds\n",
      "Dealer's hand value: 17\n",
      "\n",
      "Player's hand:\n",
      " Nine in Spades\n",
      " Seven in Clubs\n",
      " Four in Spades\n",
      " Ace in Hearts\n",
      "Player's hand value: 21\n",
      "\n",
      "Player wins!\n",
      "Player's chips: 120\n",
      "Thanks for playing! Goodbye.\n"
     ]
    }
   ],
   "source": [
    "import random\n",
    "\n",
    "# Assuming the classes and functions provided earlier are already defined\n",
    "\n",
    "# Main game loop\n",
    "while True:\n",
    "    # Print an opening statement\n",
    "    print(\"Welcome to Blackjack!\")\n",
    "\n",
    "    # Create & shuffle the deck, deal two cards to each player\n",
    "    deck = Deck()\n",
    "    deck.shuffle()\n",
    "\n",
    "    player_hand = Hand()\n",
    "    dealer_hand = Hand()\n",
    "\n",
    "    # Deal two cards to each player\n",
    "    player_hand.add_card(deck.deal())\n",
    "    player_hand.add_card(deck.deal())\n",
    "    dealer_hand.add_card(deck.deal())\n",
    "    dealer_hand.add_card(deck.deal())\n",
    "\n",
    "    # Set up the Player's chips\n",
    "    player_chips = Chips()\n",
    "\n",
    "    # Prompt the Player for their bet\n",
    "    take_bet(player_chips)\n",
    "\n",
    "    # Show cards (but keep one dealer card hidden)\n",
    "    show_some(player_hand, dealer_hand)\n",
    "\n",
    "    # Set the playing variable to True\n",
    "    playing = True\n",
    "\n",
    "    while playing:  # recall this variable from our hit_or_stand function\n",
    "        # Prompt for Player to Hit or Stand\n",
    "        hit_or_stand(deck, player_hand)\n",
    "\n",
    "        # Show cards (but keep one dealer card hidden)\n",
    "        show_some(player_hand, dealer_hand)\n",
    "\n",
    "        # If player's hand exceeds 21, run player_busts() and break out of loop\n",
    "        if player_hand.value > 21:\n",
    "            player_busts(player_hand, dealer_hand, player_chips)\n",
    "            break\n",
    "\n",
    "    # If Player hasn't busted, play Dealer's hand until Dealer reaches 17\n",
    "    if player_hand.value <= 21:\n",
    "        while dealer_hand.value < 17:\n",
    "            hit(deck, dealer_hand)\n",
    "\n",
    "        # Show all cards\n",
    "        show_all(player_hand, dealer_hand)\n",
    "\n",
    "        # Run different winning scenarios\n",
    "        if dealer_hand.value > 21:\n",
    "            dealer_busts(player_hand, dealer_hand, player_chips)\n",
    "        elif player_hand.value > dealer_hand.value:\n",
    "            player_wins(player_hand, dealer_hand, player_chips)\n",
    "        elif player_hand.value < dealer_hand.value:\n",
    "            dealer_wins(player_hand, dealer_hand, player_chips)\n",
    "        else:\n",
    "            push()\n",
    "\n",
    "    # Inform Player of their chips total\n",
    "    print(f\"Player's chips: {player_chips.total}\")\n",
    "\n",
    "    # Ask to play again\n",
    "    play_again = input(\"Would you like to play again? Enter 'y' for Yes or 'n' for No: \").lower()\n",
    "    if play_again != 'y':\n",
    "        print(\"Thanks for playing! Goodbye.\")\n",
    "        break\n"
   ]
  },
  {
   "cell_type": "markdown",
   "metadata": {},
   "source": [
    "And that's it! Remember, these steps may differ significantly from your own solution. That's OK! Keep working on different sections of your program until you get the desired results. It takes a lot of time and patience! As always, feel free to post questions and comments to the QA Forums.\n",
    "# Good job!"
   ]
  }
 ],
 "metadata": {
  "kernelspec": {
   "display_name": "Python 3 (ipykernel)",
   "language": "python",
   "name": "python3"
  },
  "language_info": {
   "codemirror_mode": {
    "name": "ipython",
    "version": 3
   },
   "file_extension": ".py",
   "mimetype": "text/x-python",
   "name": "python",
   "nbconvert_exporter": "python",
   "pygments_lexer": "ipython3",
   "version": "3.11.5"
  }
 },
 "nbformat": 4,
 "nbformat_minor": 4
}
