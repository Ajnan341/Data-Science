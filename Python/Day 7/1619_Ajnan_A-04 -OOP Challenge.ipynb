{
 "cells": [
  {
   "cell_type": "markdown",
   "metadata": {},
   "source": [
    "# <span style = \"color:CornflowerBlue\"> Object Oriented Programming Challenge </span>"
   ]
  },
  {
   "cell_type": "markdown",
   "metadata": {},
   "source": [
    "***"
   ]
  },
  {
   "cell_type": "markdown",
   "metadata": {},
   "source": [
    "1. For this challenge, create a bank account class that has two attributes:\n",
    "\n",
    "* owner\n",
    "* balance\n",
    "\n",
    "and two methods:\n",
    "\n",
    "* deposit\n",
    "* withdraw\n",
    "\n",
    "As an added requirement, withdrawals may not exceed the available balance.\n",
    "\n",
    "Instantiate your class, make several deposits and withdrawals, and test to make sure the account can't be overdrawn."
   ]
  },
  {
   "cell_type": "code",
   "execution_count": 13,
   "metadata": {},
   "outputs": [],
   "source": [
    "class Bankaccc():\n",
    "    def __init__(self,owner,balance):\n",
    "        self.owner=owner\n",
    "        self.balance=balance\n",
    "    def displayacc(self):\n",
    "        print('owner=',self.owner)\n",
    "        print('balance=',self.balance)\n",
    "    def deposit(self):\n",
    "        d=int(input('enter the amount to be deposited'))\n",
    "        self.balance=self.balance+d\n",
    "        print('amount credited and your balance is =',self.balance)\n",
    "    def withdraw(self):\n",
    "        w=int(input('enter the amount to be deposited'))\n",
    "        if w<=self.balance:\n",
    "            self.balance=self.balance-w\n",
    "            print('amount debited and your balance is =',self.balance)\n",
    "        else:\n",
    "            print('Insufficient Balance')"
   ]
  },
  {
   "cell_type": "code",
   "execution_count": 14,
   "metadata": {},
   "outputs": [],
   "source": [
    "a1=Bankaccc('varun',10000)\n",
    "a2=Bankaccc('arun',20000)"
   ]
  },
  {
   "cell_type": "code",
   "execution_count": 9,
   "metadata": {},
   "outputs": [
    {
     "name": "stdout",
     "output_type": "stream",
     "text": [
      "owner= varun\n",
      "balance= 10000\n",
      "owner= arun\n",
      "balance= 20000\n"
     ]
    }
   ],
   "source": [
    "# 2. Print the object\n",
    "a1.displayacc()\n",
    "a2.displayacc()"
   ]
  },
  {
   "cell_type": "code",
   "execution_count": 10,
   "metadata": {},
   "outputs": [
    {
     "name": "stdout",
     "output_type": "stream",
     "text": [
      "varun\n"
     ]
    }
   ],
   "source": [
    "# 3. Show the account owner attribute\n",
    "print(a1.owner)"
   ]
  },
  {
   "cell_type": "code",
   "execution_count": 11,
   "metadata": {},
   "outputs": [
    {
     "name": "stdout",
     "output_type": "stream",
     "text": [
      "10000\n"
     ]
    }
   ],
   "source": [
    "# 4. Show the account balance attribute\n",
    "print(a1.balance)"
   ]
  },
  {
   "cell_type": "code",
   "execution_count": 12,
   "metadata": {},
   "outputs": [
    {
     "name": "stdout",
     "output_type": "stream",
     "text": [
      "amount debited and your balance is = 9000\n"
     ]
    }
   ],
   "source": [
    "a1.withdraw()"
   ]
  },
  {
   "cell_type": "code",
   "execution_count": 10,
   "metadata": {},
   "outputs": [
    {
     "name": "stdout",
     "output_type": "stream",
     "text": [
      "Withdrawal Accepted\n"
     ]
    }
   ],
   "source": []
  },
  {
   "cell_type": "code",
   "execution_count": 15,
   "metadata": {},
   "outputs": [
    {
     "name": "stdout",
     "output_type": "stream",
     "text": [
      "Insufficient Balance\n"
     ]
    }
   ],
   "source": [
    "# 6. Make a withdrawal that exceeds the available balance\n",
    "a1.withdraw()"
   ]
  }
 ],
 "metadata": {
  "kernelspec": {
   "display_name": "Python 3 (ipykernel)",
   "language": "python",
   "name": "python3"
  },
  "language_info": {
   "codemirror_mode": {
    "name": "ipython",
    "version": 3
   },
   "file_extension": ".py",
   "mimetype": "text/x-python",
   "name": "python",
   "nbconvert_exporter": "python",
   "pygments_lexer": "ipython3",
   "version": "3.11.5"
  }
 },
 "nbformat": 4,
 "nbformat_minor": 4
}
