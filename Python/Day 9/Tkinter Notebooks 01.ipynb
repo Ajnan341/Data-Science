{
 "cells": [
  {
   "cell_type": "markdown",
   "metadata": {},
   "source": [
    "# <span style = \"color:CornflowerBlue;font-size:40px\"> Tkinter </span>"
   ]
  },
  {
   "cell_type": "markdown",
   "metadata": {},
   "source": [
    "***"
   ]
  },
  {
   "cell_type": "markdown",
   "metadata": {},
   "source": [
    "   * Used to build Graphical User Interface based application\n",
    "   * It is an Inbuild Python Library\n",
    "   * Normal Execution Procedure in Tkinter\n",
    "       1. Import the Tkinter Module\n",
    "       2. Create the Applicatio window\n",
    "       3. Add widgets\n",
    "       4. Enter the Main even Loop"
   ]
  },
  {
   "cell_type": "markdown",
   "metadata": {},
   "source": [
    "***"
   ]
  },
  {
   "cell_type": "markdown",
   "metadata": {},
   "source": [
    "**Tkinter Widgets**\n",
    "  * Labels\n",
    "  * Buttons\n",
    "  * Entry\n",
    "  * Combo Box\n",
    "  * Check Button\n",
    "  * Radio Button\n",
    "  * Scrolled Text\n",
    "  * Spin Box\n",
    "  * Menu Bar\n",
    "  * Notebook\n",
    "  "
   ]
  },
  {
   "cell_type": "markdown",
   "metadata": {},
   "source": [
    "**Creating Window**"
   ]
  },
  {
   "cell_type": "code",
   "execution_count": null,
   "metadata": {},
   "outputs": [],
   "source": [
    "from tkinter import *\n",
    "\n",
    "window = Tk()\n",
    "\n",
    "window.title(\"Edure\")\n",
    "\n",
    "window.mainloop()"
   ]
  },
  {
   "cell_type": "code",
   "execution_count": 1,
   "metadata": {},
   "outputs": [],
   "source": [
    "from tkinter import *\n",
    " \n",
    "w=Tk()\n",
    "w.title('Ajnan')\n",
    "w.mainloop()"
   ]
  },
  {
   "cell_type": "markdown",
   "metadata": {},
   "source": [
    "**Label**\n",
    ">lbl = Label(window, text=\"Hello\")\n",
    "<br>lbl.grid(column=0, row=0)\n",
    "<br>Grid sets the position for the label"
   ]
  },
  {
   "cell_type": "code",
   "execution_count": null,
   "metadata": {},
   "outputs": [],
   "source": [
    "from tkinter import *\n",
    "\n",
    "window = Tk()\n",
    "\n",
    "window.title(\"Edure\")\n",
    "\n",
    "lbl = Label(window, text=\"Hello\")\n",
    "\n",
    "lbl.grid(column=0, row=0)\n",
    "\n",
    "window.mainloop()"
   ]
  },
  {
   "cell_type": "code",
   "execution_count": 6,
   "metadata": {},
   "outputs": [],
   "source": [
    "from tkinter import *\n",
    " \n",
    "w=Tk()\n",
    "w.title('Ajnan')\n",
    "\n",
    "l=Label(w,text='hello world')\n",
    "l.grid(column=0,row=0)\n",
    "l2=Label(w,text='hello world')\n",
    "l2.grid(column=6,row=3)\n",
    "\n",
    "w.mainloop()"
   ]
  },
  {
   "cell_type": "markdown",
   "metadata": {},
   "source": [
    "**To set the font size**\n",
    ">lbl= Label(window, text=\"Hello\", font=(\"Arial Bold\", 50))"
   ]
  },
  {
   "cell_type": "code",
   "execution_count": 2,
   "metadata": {},
   "outputs": [],
   "source": [
    "from tkinter import *\n",
    "window = Tk()\n",
    "window.title(\"Edure\")\n",
    "lbl= Label(window, text=\"Hello World\", font=(\"Arial Bold\", 50))\n",
    "lbl.grid(column=0, row=0)\n",
    "window.mainloop()"
   ]
  },
  {
   "cell_type": "code",
   "execution_count": 11,
   "metadata": {},
   "outputs": [],
   "source": [
    "from tkinter import *\n",
    " \n",
    "w=Tk()\n",
    "w.title('Ajnan')\n",
    "\n",
    "l=Label(w,text='hello world')\n",
    "l.grid(column=0,row=0)\n",
    "l2=Label(w,text='hello world',font=(\"Arial Bold\",90),bg='red',fg='grey')\n",
    "l2.grid(column=6,row=3)\n",
    "\n",
    "w.mainloop()"
   ]
  },
  {
   "cell_type": "code",
   "execution_count": 12,
   "metadata": {},
   "outputs": [],
   "source": [
    "from tkinter import *\n",
    " \n",
    "w=Tk()\n",
    "w.title('Ajnan')\n",
    "\n",
    "l=Label(w,text='hello world')\n",
    "l.pack()\n",
    "l2=Label(w,text='hello world',font=(\"Arial Bold\",90),bg='red',fg='grey')\n",
    "l2.pack()\n",
    "\n",
    "w.mainloop()"
   ]
  },
  {
   "cell_type": "code",
   "execution_count": 15,
   "metadata": {},
   "outputs": [],
   "source": [
    "from tkinter import *\n",
    " \n",
    "w=Tk()\n",
    "w.title('Ajnan')\n",
    "\n",
    "l=Label(w,text='hello world')\n",
    "l.place(x=5,y=10)\n",
    "l2=Label(w,text='hello world',font=(\"Arial Bold\",90),bg='red',fg='grey')\n",
    "l2.place(x=20,y=35)\n",
    "\n",
    "w.mainloop()"
   ]
  },
  {
   "cell_type": "markdown",
   "metadata": {},
   "source": [
    "**Setting window size**\n",
    ">window.geometry('350x200')\n",
    "<br>The above line sets the window width to 350 pixels and the height to 200 pixels."
   ]
  },
  {
   "cell_type": "code",
   "execution_count": 17,
   "metadata": {},
   "outputs": [],
   "source": [
    "from tkinter import *\n",
    " \n",
    "w=Tk()\n",
    "w.title('Ajnan')\n",
    "w.geometry('600x800')\n",
    "\n",
    "l=Label(w,text='hello world')\n",
    "l.place(x=5,y=10)\n",
    "l2=Label(w,text='hello world',font=(\"Arial Bold\",90),bg='red',fg='grey')\n",
    "l2.place(x=20,y=35)\n",
    "\n",
    "w.mainloop()"
   ]
  },
  {
   "cell_type": "markdown",
   "metadata": {},
   "source": [
    "**Adding a button widget**\n",
    ">btn = Button(window, text=\"Click Me\")\n",
    "<br>btn.grid(column=1, row=0)"
   ]
  },
  {
   "cell_type": "code",
   "execution_count": null,
   "metadata": {},
   "outputs": [],
   "source": [
    "from tkinter import *\n",
    "window = Tk()\n",
    "window.title(\"Edure\")\n",
    "window.geometry('350x200')\n",
    "lbl = Label(window, text=\"Hello\")\n",
    "lbl.grid(column=0, row=0)\n",
    "btn = Button(window, text=\"Click Me\")\n",
    "btn.grid(column=1, row=0)\n",
    "window.mainloop()\n"
   ]
  },
  {
   "cell_type": "code",
   "execution_count": 26,
   "metadata": {},
   "outputs": [],
   "source": [
    "from tkinter import *\n",
    " \n",
    "w=Tk()\n",
    "w.title('Ajnan')\n",
    "w.geometry('600x800')\n",
    "\n",
    "l=Label(w,text='hello world')\n",
    "l.place(x=5,y=10)\n",
    "l2=Label(w,text='hello world',font=(\"Arial Bold\",90),bg='red',fg='grey')\n",
    "l2.place(x=20,y=35)\n",
    "\n",
    "btn=Button(w,text='submit',bg='red',fg='yellow',width=20, height=30)\n",
    "btn.pack()\n",
    "\n",
    "w.mainloop()"
   ]
  },
  {
   "cell_type": "markdown",
   "metadata": {},
   "source": [
    "**Change button foreground and background colors**\n",
    ">btn = Button(window, text=\"Click Me\", bg=\"orange\", fg=\"red\")"
   ]
  },
  {
   "cell_type": "markdown",
   "metadata": {},
   "source": [
    "**Handle button click event**\n",
    ">def clicked():\n",
    "    >>lbl.configure(text=\"Button was clicked !!\")"
   ]
  },
  {
   "cell_type": "code",
   "execution_count": 33,
   "metadata": {},
   "outputs": [],
   "source": [
    "from tkinter import *\n",
    "\n",
    "window = Tk()\n",
    "\n",
    "window.title(\"Edure\")\n",
    "\n",
    "window.geometry('350x200')\n",
    "\n",
    "lbl = Label(window, text=\"Hello\")\n",
    "lbl1= Label(window)\n",
    "lbl1.grid(column=1,row=1)\n",
    "lbl.grid(column=0, row=0)\n",
    "\n",
    "def clicked():\n",
    "\n",
    "    lbl1.configure(text=\"Button was clicked !!\")\n",
    "\n",
    "btn = Button(window, text=\"Click Me\", command=clicked)\n",
    "\n",
    "btn.grid(column=1, row=0)\n",
    "\n",
    "window.mainloop()"
   ]
  },
  {
   "cell_type": "code",
   "execution_count": 42,
   "metadata": {},
   "outputs": [],
   "source": [
    "from tkinter import *\n",
    " \n",
    "w=Tk()\n",
    "w.title('Ajnan')\n",
    "w.geometry('600x800')\n",
    "\n",
    "def click():\n",
    "    l1.configure(text='arada button njekkiye')\n",
    "\n",
    "\n",
    "l=Label(w,text='hello world')\n",
    "l.place(x=5,y=10)\n",
    "l2=Label(w,text='hello world',font=(\"Arial Bold\",90),bg='red',fg='grey')\n",
    "l2.place(x=20,y=35)\n",
    "l1=Label(w)\n",
    "l1.place(x=1, y=1)\n",
    "\n",
    "btn=Button(w,text='submit',bg='red',fg='yellow',command=click)\n",
    "btn.pack()\n",
    "\n",
    "w.mainloop()"
   ]
  },
  {
   "cell_type": "markdown",
   "metadata": {},
   "source": [
    "**Entry(Text Box)**\n",
    ">txt = Entry(window,width=10)\n",
    "<br>txt.grid(column=1, row=0)"
   ]
  },
  {
   "cell_type": "code",
   "execution_count": 36,
   "metadata": {},
   "outputs": [],
   "source": [
    "from tkinter import *\n",
    "\n",
    "window = Tk()\n",
    "\n",
    "window.title(\"Edure\")\n",
    "\n",
    "window.geometry('350x200')\n",
    "\n",
    "lbl = Label(window, text=\"Hello\")\n",
    "\n",
    "lbl.grid(column=0, row=0)\n",
    "\n",
    "txt = Entry(window,width=10)\n",
    "\n",
    "txt.grid(column=1, row=0)\n",
    "\n",
    "def clicked():\n",
    "\n",
    "    lbl.configure(text=\"Button was clicked !!\")\n",
    "\n",
    "btn = Button(window, text=\"Click Me\", command=clicked)\n",
    "\n",
    "btn.grid(column=2, row=0)\n",
    "\n",
    "window.mainloop()"
   ]
  },
  {
   "cell_type": "markdown",
   "metadata": {},
   "source": []
  },
  {
   "cell_type": "code",
   "execution_count": 15,
   "metadata": {},
   "outputs": [
    {
     "name": "stdout",
     "output_type": "stream",
     "text": [
      "Welcome to hi\n"
     ]
    }
   ],
   "source": [
    "from tkinter import *\n",
    "\n",
    "def clicked():\n",
    "\n",
    "    res = \"Welcome to \" + txt.get()\n",
    "    print(res)\n",
    "\n",
    "    l1.configure(text= res)\n",
    "\n",
    "w=Tk()\n",
    "w.title('Ajnan')\n",
    "w.geometry('600x800')\n",
    "\n",
    "def click():\n",
    "    l1.configure(text='arada button njekkiye')\n",
    "\n",
    "txt=Entry(w,width=50,bg='green')\n",
    "txt.place(x=400,y=10)\n",
    "\n",
    "l2=Label(w,text='hello world',font=(\"Arial Bold\",90),bg='red',fg='grey')\n",
    "l2.place(x=20,y=35)\n",
    "l1=Label(w)\n",
    "l1.place(x=100, y=10)\n",
    "\n",
    "\n",
    "btn=Button(w,text='submit',bg='red',fg='yellow',command=clicked)\n",
    "btn.place(x=25,y=0)\n",
    "\n",
    "w.mainloop()"
   ]
  },
  {
   "cell_type": "code",
   "execution_count": 12,
   "metadata": {},
   "outputs": [],
   "source": [
    "# Showing the result\n",
    "def clicked():\n",
    "\n",
    "    res = \"Welcome to \" + txt.get()\n",
    "    print(res)\n",
    "\n",
    "    l1.configure(text= res)"
   ]
  },
  {
   "cell_type": "code",
   "execution_count": 4,
   "metadata": {},
   "outputs": [],
   "source": [
    "from tkinter import *\n",
    "\n",
    "window = Tk()\n",
    "\n",
    "window.title(\"Edure\")\n",
    "\n",
    "window.geometry('350x200')\n",
    "\n",
    "lbl = Label(window, text=\"Hello\")\n",
    "\n",
    "lbl.grid(column=0, row=0)\n",
    "\n",
    "txt = Entry(window,width=10)\n",
    "txt.focus()\n",
    "\n",
    "txt.grid(column=1, row=0)\n",
    "\n",
    "def clicked():\n",
    "\n",
    "    res = \"Welcome to \" + txt.get()\n",
    "\n",
    "    lbl.configure(text= res)\n",
    "\n",
    "btn = Button(window, text=\"Click Me\", command=clicked)\n",
    "\n",
    "btn.grid(column=2, row=0)\n",
    "\n",
    "window.mainloop()"
   ]
  },
  {
   "cell_type": "markdown",
   "metadata": {},
   "source": [
    "**Disable entry widget**\n",
    ">txt = Entry(window,width=10, state='disabled')"
   ]
  },
  {
   "cell_type": "code",
   "execution_count": 17,
   "metadata": {},
   "outputs": [],
   "source": [
    "from tkinter import *\n",
    "\n",
    "def clicked():\n",
    "\n",
    "    res = \"Welcome to \" + txt.get()\n",
    "    print(res)\n",
    "\n",
    "    l1.configure(text= res)\n",
    "\n",
    "w=Tk()\n",
    "w.title('Ajnan')\n",
    "w.geometry('600x800')\n",
    "\n",
    "def click():\n",
    "    l1.configure(text='arada button njekkiye')\n",
    "\n",
    "txt=Entry(w,width=50,bg='green',state='disabled')\n",
    "txt.place(x=400,y=10)\n",
    "\n",
    "l2=Label(w,text='hello world',font=(\"Arial Bold\",90),bg='red',fg='grey')\n",
    "l2.place(x=20,y=35)\n",
    "l1=Label(w)\n",
    "l1.place(x=100, y=10)\n",
    "\n",
    "\n",
    "btn=Button(w,text='submit',bg='red',fg='yellow',command=clicked)\n",
    "btn.place(x=25,y=0)\n",
    "\n",
    "w.mainloop()"
   ]
  },
  {
   "cell_type": "markdown",
   "metadata": {},
   "source": [
    "**Add a combobox widget**\n",
    "* To add a combobox widget, you can use the Combobox class from ttk library like this:\n",
    "    > from tkinter.ttk import *\n",
    "    <BR>  combo = Combobox(window)"
   ]
  },
  {
   "cell_type": "code",
   "execution_count": 21,
   "metadata": {},
   "outputs": [],
   "source": [
    "from tkinter import *\n",
    "from tkinter.ttk import *\n",
    "window = Tk()\n",
    "window.title(\"Welcome to Edure\")\n",
    "window.geometry('350x200')\n",
    "combo = Combobox(window)\n",
    "combo['values']= (1, 2, 3, 4, 5, \"Text\")\n",
    "combo.current(1) #set the selected item\n",
    "combo.grid(column=0, row=0)\n",
    "window.mainloop()"
   ]
  },
  {
   "cell_type": "code",
   "execution_count": 19,
   "metadata": {},
   "outputs": [],
   "source": [
    "from tkinter import *\n",
    "from tkinter.ttk import *\n",
    "\n",
    "w=Tk()\n",
    "w.title('Home')\n",
    "w.geometry('600x600')\n",
    "\n",
    "combo=Combobox(w)\n",
    "combo['values']=('yes','no','Not applicable')\n",
    "combo.current(None)\n",
    "combo.grid(column=0,row=0)\n",
    "\n",
    "w.mainloop()"
   ]
  },
  {
   "cell_type": "markdown",
   "metadata": {},
   "source": [
    "**Add a Checkbutton widget**"
   ]
  },
  {
   "cell_type": "code",
   "execution_count": 4,
   "metadata": {},
   "outputs": [],
   "source": [
    "from tkinter import *\n",
    "\n",
    "from tkinter.ttk import *\n",
    "\n",
    "window = Tk()\n",
    "\n",
    "window.title(\"Welcome to Edure\")\n",
    "\n",
    "window.geometry('350x200')\n",
    "\n",
    "chk_state = BooleanVar()\n",
    "#or you can use IntVar()\n",
    "\n",
    "chk_state.set(False) #set check state\n",
    "\n",
    "chk = Checkbutton(window, text='Choose', var=chk_state)\n",
    "\n",
    "chk.grid(column=0, row=0)\n",
    "\n",
    "window.mainloop()"
   ]
  },
  {
   "cell_type": "code",
   "execution_count": 21,
   "metadata": {},
   "outputs": [],
   "source": [
    "from tkinter import *\n",
    "from tkinter.ttk import *\n",
    "\n",
    "w=Tk()\n",
    "w.title('Home')\n",
    "w.geometry('600x600')\n",
    "\n",
    "ch_state=BooleanVar\n",
    "ch_state=False\n",
    "ch=Checkbutton(w,text='choose',var=ch_state)\n",
    "ch.grid(column=0,row=0)\n",
    "\n",
    "w.mainloop()"
   ]
  },
  {
   "cell_type": "markdown",
   "metadata": {},
   "source": [
    "**Radio Button**"
   ]
  },
  {
   "cell_type": "code",
   "execution_count": null,
   "metadata": {},
   "outputs": [],
   "source": [
    "from tkinter import *\n",
    "\n",
    "from tkinter.ttk import *\n",
    "\n",
    "window = Tk()\n",
    "\n",
    "window.title(\"Welcome to Edure\")\n",
    "\n",
    "window.geometry('350x200')\n",
    "\n",
    "rad1 = Radiobutton(window,text='First', value=1)\n",
    "\n",
    "rad2 = Radiobutton(window,text='Second', value=2)\n",
    "\n",
    "rad3 = Radiobutton(window,text='Third', value=3)\n",
    "\n",
    "rad1.grid(column=0, row=0)\n",
    "\n",
    "rad2.grid(column=1, row=0)\n",
    "\n",
    "rad3.grid(column=2, row=0)\n",
    "\n",
    "window.mainloop()"
   ]
  },
  {
   "cell_type": "code",
   "execution_count": 26,
   "metadata": {},
   "outputs": [],
   "source": [
    "from tkinter import *\n",
    "from tkinter.ttk import *\n",
    "\n",
    "w=Tk()\n",
    "w.title('Home')\n",
    "w.geometry('600x600')\n",
    "\n",
    "ch_state=BooleanVar\n",
    "ch_state=False\n",
    "ch=Checkbutton(w,text='choose',var=ch_state)\n",
    "ch.grid(column=0,row=0)\n",
    "\n",
    "r1=Radiobutton(w,text='1',value=1)\n",
    "r1.grid(column=0,row=2)\n",
    "r2=Radiobutton(w,text='2',value=2)\n",
    "r2.grid(column=0,row=3)\n",
    "r3=Radiobutton(w,text='3',value=3)\n",
    "r3.grid(column=0,row=4)\n",
    "\n",
    "w.mainloop()"
   ]
  },
  {
   "cell_type": "markdown",
   "metadata": {},
   "source": [
    "Also, you can set the command of any of these radio buttons to a specific function, so if the user clicks on any one of them, it runs the function code.\n",
    "\n",
    "This is an example:\n",
    "\n",
    "rad1 = Radiobutton(window,text='First', value=1, command=clicked)\n",
    "\n",
    "def clicked():\n",
    "<br>Do what you need"
   ]
  },
  {
   "cell_type": "markdown",
   "metadata": {},
   "source": [
    "**To get the currently selected radio button or the radio button value, you can pass the variable parameter to the radio buttons, and later you can get its value**"
   ]
  },
  {
   "cell_type": "code",
   "execution_count": 2,
   "metadata": {},
   "outputs": [
    {
     "ename": "TclError",
     "evalue": "unknown option \"-bg\"",
     "output_type": "error",
     "traceback": [
      "\u001b[1;31m---------------------------------------------------------------------------\u001b[0m",
      "\u001b[1;31mTclError\u001b[0m                                  Traceback (most recent call last)",
      "Cell \u001b[1;32mIn[2], line 11\u001b[0m\n\u001b[0;32m      7\u001b[0m window\u001b[38;5;241m.\u001b[39mtitle(\u001b[38;5;124m\"\u001b[39m\u001b[38;5;124mWelcome to Edure\u001b[39m\u001b[38;5;124m\"\u001b[39m)\n\u001b[0;32m      9\u001b[0m selected \u001b[38;5;241m=\u001b[39m IntVar()\n\u001b[1;32m---> 11\u001b[0m rad1 \u001b[38;5;241m=\u001b[39m \u001b[43mRadiobutton\u001b[49m\u001b[43m(\u001b[49m\u001b[43mwindow\u001b[49m\u001b[43m,\u001b[49m\u001b[43mtext\u001b[49m\u001b[38;5;241;43m=\u001b[39;49m\u001b[38;5;124;43m'\u001b[39;49m\u001b[38;5;124;43mFirst\u001b[39;49m\u001b[38;5;124;43m'\u001b[39;49m\u001b[43m,\u001b[49m\u001b[43m \u001b[49m\u001b[43mvalue\u001b[49m\u001b[38;5;241;43m=\u001b[39;49m\u001b[38;5;241;43m1\u001b[39;49m\u001b[43m,\u001b[49m\u001b[43m \u001b[49m\u001b[43mvariable\u001b[49m\u001b[38;5;241;43m=\u001b[39;49m\u001b[43mselected\u001b[49m\u001b[43m,\u001b[49m\u001b[43mbg\u001b[49m\u001b[38;5;241;43m=\u001b[39;49m\u001b[38;5;124;43m'\u001b[39;49m\u001b[38;5;124;43mred\u001b[39;49m\u001b[38;5;124;43m'\u001b[39;49m\u001b[43m)\u001b[49m\n\u001b[0;32m     13\u001b[0m rad2 \u001b[38;5;241m=\u001b[39m Radiobutton(window,text\u001b[38;5;241m=\u001b[39m\u001b[38;5;124m'\u001b[39m\u001b[38;5;124mSecond\u001b[39m\u001b[38;5;124m'\u001b[39m, value\u001b[38;5;241m=\u001b[39m\u001b[38;5;241m2\u001b[39m, variable\u001b[38;5;241m=\u001b[39mselected)\n\u001b[0;32m     15\u001b[0m rad3 \u001b[38;5;241m=\u001b[39m Radiobutton(window,text\u001b[38;5;241m=\u001b[39m\u001b[38;5;124m'\u001b[39m\u001b[38;5;124mThird\u001b[39m\u001b[38;5;124m'\u001b[39m, value\u001b[38;5;241m=\u001b[39m\u001b[38;5;241m3\u001b[39m, variable\u001b[38;5;241m=\u001b[39mselected)\n",
      "File \u001b[1;32mc:\\Program Files\\Python311\\Lib\\tkinter\\ttk.py:1022\u001b[0m, in \u001b[0;36mRadiobutton.__init__\u001b[1;34m(self, master, **kw)\u001b[0m\n\u001b[0;32m   1010\u001b[0m \u001b[38;5;28;01mdef\u001b[39;00m \u001b[38;5;21m__init__\u001b[39m(\u001b[38;5;28mself\u001b[39m, master\u001b[38;5;241m=\u001b[39m\u001b[38;5;28;01mNone\u001b[39;00m, \u001b[38;5;241m*\u001b[39m\u001b[38;5;241m*\u001b[39mkw):\n\u001b[0;32m   1011\u001b[0m \u001b[38;5;250m    \u001b[39m\u001b[38;5;124;03m\"\"\"Construct a Ttk Radiobutton with parent master.\u001b[39;00m\n\u001b[0;32m   1012\u001b[0m \n\u001b[0;32m   1013\u001b[0m \u001b[38;5;124;03m    STANDARD OPTIONS\u001b[39;00m\n\u001b[1;32m   (...)\u001b[0m\n\u001b[0;32m   1020\u001b[0m \u001b[38;5;124;03m        command, value, variable\u001b[39;00m\n\u001b[0;32m   1021\u001b[0m \u001b[38;5;124;03m    \"\"\"\u001b[39;00m\n\u001b[1;32m-> 1022\u001b[0m     \u001b[43mWidget\u001b[49m\u001b[38;5;241;43m.\u001b[39;49m\u001b[38;5;21;43m__init__\u001b[39;49m\u001b[43m(\u001b[49m\u001b[38;5;28;43mself\u001b[39;49m\u001b[43m,\u001b[49m\u001b[43m \u001b[49m\u001b[43mmaster\u001b[49m\u001b[43m,\u001b[49m\u001b[43m \u001b[49m\u001b[38;5;124;43m\"\u001b[39;49m\u001b[38;5;124;43mttk::radiobutton\u001b[39;49m\u001b[38;5;124;43m\"\u001b[39;49m\u001b[43m,\u001b[49m\u001b[43m \u001b[49m\u001b[43mkw\u001b[49m\u001b[43m)\u001b[49m\n",
      "File \u001b[1;32mc:\\Program Files\\Python311\\Lib\\tkinter\\ttk.py:527\u001b[0m, in \u001b[0;36mWidget.__init__\u001b[1;34m(self, master, widgetname, kw)\u001b[0m\n\u001b[0;32m    507\u001b[0m \u001b[38;5;250m\u001b[39m\u001b[38;5;124;03m\"\"\"Constructs a Ttk Widget with the parent master.\u001b[39;00m\n\u001b[0;32m    508\u001b[0m \n\u001b[0;32m    509\u001b[0m \u001b[38;5;124;03mSTANDARD OPTIONS\u001b[39;00m\n\u001b[1;32m   (...)\u001b[0m\n\u001b[0;32m    524\u001b[0m \u001b[38;5;124;03m    readonly, alternate, invalid\u001b[39;00m\n\u001b[0;32m    525\u001b[0m \u001b[38;5;124;03m\"\"\"\u001b[39;00m\n\u001b[0;32m    526\u001b[0m master \u001b[38;5;241m=\u001b[39m setup_master(master)\n\u001b[1;32m--> 527\u001b[0m \u001b[43mtkinter\u001b[49m\u001b[38;5;241;43m.\u001b[39;49m\u001b[43mWidget\u001b[49m\u001b[38;5;241;43m.\u001b[39;49m\u001b[38;5;21;43m__init__\u001b[39;49m\u001b[43m(\u001b[49m\u001b[38;5;28;43mself\u001b[39;49m\u001b[43m,\u001b[49m\u001b[43m \u001b[49m\u001b[43mmaster\u001b[49m\u001b[43m,\u001b[49m\u001b[43m \u001b[49m\u001b[43mwidgetname\u001b[49m\u001b[43m,\u001b[49m\u001b[43m \u001b[49m\u001b[43mkw\u001b[49m\u001b[38;5;241;43m=\u001b[39;49m\u001b[43mkw\u001b[49m\u001b[43m)\u001b[49m\n",
      "File \u001b[1;32mc:\\Program Files\\Python311\\Lib\\tkinter\\__init__.py:2628\u001b[0m, in \u001b[0;36mBaseWidget.__init__\u001b[1;34m(self, master, widgetName, cnf, kw, extra)\u001b[0m\n\u001b[0;32m   2626\u001b[0m \u001b[38;5;28;01mfor\u001b[39;00m k, v \u001b[38;5;129;01min\u001b[39;00m classes:\n\u001b[0;32m   2627\u001b[0m     \u001b[38;5;28;01mdel\u001b[39;00m cnf[k]\n\u001b[1;32m-> 2628\u001b[0m \u001b[38;5;28;43mself\u001b[39;49m\u001b[38;5;241;43m.\u001b[39;49m\u001b[43mtk\u001b[49m\u001b[38;5;241;43m.\u001b[39;49m\u001b[43mcall\u001b[49m\u001b[43m(\u001b[49m\n\u001b[0;32m   2629\u001b[0m \u001b[43m    \u001b[49m\u001b[43m(\u001b[49m\u001b[43mwidgetName\u001b[49m\u001b[43m,\u001b[49m\u001b[43m \u001b[49m\u001b[38;5;28;43mself\u001b[39;49m\u001b[38;5;241;43m.\u001b[39;49m\u001b[43m_w\u001b[49m\u001b[43m)\u001b[49m\u001b[43m \u001b[49m\u001b[38;5;241;43m+\u001b[39;49m\u001b[43m \u001b[49m\u001b[43mextra\u001b[49m\u001b[43m \u001b[49m\u001b[38;5;241;43m+\u001b[39;49m\u001b[43m \u001b[49m\u001b[38;5;28;43mself\u001b[39;49m\u001b[38;5;241;43m.\u001b[39;49m\u001b[43m_options\u001b[49m\u001b[43m(\u001b[49m\u001b[43mcnf\u001b[49m\u001b[43m)\u001b[49m\u001b[43m)\u001b[49m\n\u001b[0;32m   2630\u001b[0m \u001b[38;5;28;01mfor\u001b[39;00m k, v \u001b[38;5;129;01min\u001b[39;00m classes:\n\u001b[0;32m   2631\u001b[0m     k\u001b[38;5;241m.\u001b[39mconfigure(\u001b[38;5;28mself\u001b[39m, v)\n",
      "\u001b[1;31mTclError\u001b[0m: unknown option \"-bg\""
     ]
    }
   ],
   "source": [
    "from tkinter import *\n",
    "\n",
    "from tkinter.ttk import *\n",
    "\n",
    "window = Tk()\n",
    "\n",
    "window.title(\"Welcome to Edure\")\n",
    "\n",
    "selected = IntVar()\n",
    "\n",
    "rad1 = Radiobutton(window,text='First', value=1, variable=selected)\n",
    "\n",
    "rad2 = Radiobutton(window,text='Second', value=2, variable=selected)\n",
    "\n",
    "rad3 = Radiobutton(window,text='Third', value=3, variable=selected)\n",
    "\n",
    "def clicked():\n",
    "\n",
    "   print(selected.get())\n",
    "\n",
    "btn = Button(window, text=\"Click Me\", command=clicked)\n",
    "\n",
    "rad1.grid(column=0, row=0)\n",
    "\n",
    "rad2.grid(column=1, row=0)\n",
    "\n",
    "rad3.grid(column=2, row=0)\n",
    "\n",
    "btn.grid(column=3, row=0)\n",
    "\n",
    "window.mainloop()"
   ]
  },
  {
   "cell_type": "code",
   "execution_count": 32,
   "metadata": {},
   "outputs": [
    {
     "name": "stdout",
     "output_type": "stream",
     "text": [
      "1\n",
      "2\n",
      "1\n"
     ]
    }
   ],
   "source": [
    "from tkinter import *\n",
    "\n",
    "from tkinter.ttk import *\n",
    "\n",
    "w = Tk()\n",
    "\n",
    "w.title(\"Welcome to Edure\")\n",
    "w.geometry('360x360')\n",
    "\n",
    "\n",
    "selected=IntVar()\n",
    "def clicked():\n",
    "\n",
    "   print(selected.get())\n",
    "\n",
    "r1=Radiobutton(w,text='1',value=1,variable=selected)\n",
    "r1.grid(column=0,row=2)\n",
    "r2=Radiobutton(w,text='2',value=2,variable=selected)\n",
    "r2.grid(column=0,row=3)\n",
    "r3=Radiobutton(w,text='3',value=3,variable=selected)\n",
    "r2.grid(column=0,row=4)\n",
    "\n",
    "btn = Button(w, text=\"Click Me\", command=clicked)\n",
    "btn.grid(column=0, row=1)\n",
    "\n",
    "\n",
    "w.mainloop()\n"
   ]
  },
  {
   "cell_type": "markdown",
   "metadata": {},
   "source": [
    "**Add a ScrolledText widget (Tkinter textarea)**"
   ]
  },
  {
   "cell_type": "code",
   "execution_count": null,
   "metadata": {},
   "outputs": [],
   "source": [
    "from tkinter import *\n",
    "\n",
    "from tkinter import scrolledtext\n",
    "\n",
    "window = Tk()\n",
    "\n",
    "window.title(\"Welcome to Edure\")\n",
    "\n",
    "window.geometry('350x200')\n",
    "\n",
    "txt = scrolledtext.ScrolledText(window,width=40,height=10)\n",
    "txt.insert(INSERT,'You text goes here') #:-To insert text contents in the text area \n",
    "#txt.delete(1.0,END):- To clear the text contents\n",
    "\n",
    "txt.grid(column=0,row=0)\n",
    "#txt.get(1,2)\n",
    "\n",
    "window.mainloop()"
   ]
  },
  {
   "cell_type": "code",
   "execution_count": 35,
   "metadata": {},
   "outputs": [],
   "source": [
    "from tkinter import *\n",
    "from tkinter import scrolledtext\n",
    "\n",
    "from tkinter.ttk import *\n",
    "\n",
    "w = Tk()\n",
    "\n",
    "w.title(\"Welcome to Edure\")\n",
    "w.geometry('360x360')\n",
    "\n",
    "\n",
    "selected=IntVar()\n",
    "txt=scrolledtext.ScrolledText(w,width=40,height=5)\n",
    "txt.insert(INSERT,'hellow world')\n",
    "txt.grid(column=0,row=4)\n",
    "\n",
    "btn = Button(w, text=\"Click Me\", command=clicked)\n",
    "btn.grid(column=0, row=1)\n",
    "\n",
    "\n",
    "w.mainloop()"
   ]
  },
  {
   "cell_type": "markdown",
   "metadata": {},
   "source": [
    "**Create a MessageBox**\n",
    "\n",
    "To show a message box using Tkinter, you can use the messagebox library like this:\n",
    "\n",
    "from tkinter import messagebox\n",
    "\n",
    "messagebox.showinfo('Message title','Message content')"
   ]
  },
  {
   "cell_type": "code",
   "execution_count": null,
   "metadata": {},
   "outputs": [],
   "source": [
    "from tkinter import *\n",
    "\n",
    "from tkinter import messagebox\n",
    "\n",
    "window = Tk()\n",
    "\n",
    "window.title(\"Welcome to Edure\")\n",
    "\n",
    "window.geometry('350x200')\n",
    "\n",
    "def clicked():\n",
    "\n",
    "    messagebox.showinfo('Message title', 'Message content')\n",
    "\n",
    "btn = Button(window,text='Click here', command=clicked)\n",
    "\n",
    "btn.grid(column=0,row=0)\n",
    "\n",
    "window.mainloop()\n"
   ]
  },
  {
   "cell_type": "code",
   "execution_count": 58,
   "metadata": {},
   "outputs": [],
   "source": [
    "from tkinter import *\n",
    "from tkinter import messagebox\n",
    "\n",
    "\n",
    "w = Tk()\n",
    "\n",
    "w.title(\"Welcome to Edure\")\n",
    "w.geometry('360x360')\n",
    "\n",
    "def clicked():\n",
    "    messagebox.showinfo('Tipper vasu','pookayi polayadi mowne')\n",
    "\n",
    "btn=Button(w,text='njekkada mowne',font=(\"Arial Bold\",90),bg='red',fg='yellow',command=clicked,width=15,height=5)\n",
    "\n",
    "#btn=Button(w,text='njekkada mowne',fg='red',bg='yellow', command=clicked)\n",
    "btn.place(x=0,y=0)\n",
    "\n",
    "w.mainloop()\n"
   ]
  },
  {
   "cell_type": "markdown",
   "metadata": {},
   "source": [
    "**Show warning**\n",
    "<br>You can show a warning message or error message in the same way. The only thing that needs to be changed is the message function\n",
    "\n",
    "messagebox.showwarning('Message title', 'Message content')  #shows warning message\n",
    "\n"
   ]
  },
  {
   "cell_type": "code",
   "execution_count": null,
   "metadata": {},
   "outputs": [],
   "source": [
    "from tkinter import *\n",
    "\n",
    "from tkinter import messagebox\n",
    "\n",
    "window = Tk()\n",
    "\n",
    "window.title(\"Welcome to Edure\")\n",
    "\n",
    "window.geometry('350x200')\n",
    "\n",
    "def clicked():\n",
    "\n",
    "    messagebox.showwarning('Message title', 'Message content')\n",
    "\n",
    "btn = Button(window,text='Click here', command=clicked)\n",
    "\n",
    "btn.grid(column=0,row=0)\n",
    "\n",
    "window.mainloop()"
   ]
  },
  {
   "cell_type": "code",
   "execution_count": 59,
   "metadata": {},
   "outputs": [],
   "source": [
    "from tkinter import *\n",
    "from tkinter import messagebox\n",
    "\n",
    "\n",
    "w = Tk()\n",
    "\n",
    "w.title(\"Welcome to Edure\")\n",
    "w.geometry('360x360')\n",
    "\n",
    "def clicked():\n",
    "    messagebox.showwarning('Tipper vasu','pookayi polayadi mowne')\n",
    "\n",
    "btn=Button(w,text='njekkada mowne',font=(\"Arial Bold\",90),bg='red',fg='yellow',command=clicked,width=15,height=5)\n",
    "\n",
    "#btn=Button(w,text='njekkada mowne',fg='red',bg='yellow', command=clicked)\n",
    "btn.place(x=0,y=0)\n",
    "\n",
    "w.mainloop()\n"
   ]
  },
  {
   "cell_type": "markdown",
   "metadata": {},
   "source": [
    "**Showerror**\n",
    "<br>messagebox.showerror('Message title', 'Message content')"
   ]
  },
  {
   "cell_type": "code",
   "execution_count": null,
   "metadata": {},
   "outputs": [],
   "source": [
    "from tkinter import *\n",
    "\n",
    "from tkinter import messagebox\n",
    "\n",
    "window = Tk()\n",
    "\n",
    "window.title(\"Welcome to Edure\")\n",
    "\n",
    "window.geometry('350x200')\n",
    "\n",
    "def clicked():\n",
    "\n",
    "    messagebox.showerror('Message title', 'Message content')\n",
    "\n",
    "btn = Button(window,text='Click here', command=clicked)\n",
    "\n",
    "btn.grid(column=0,row=0)\n",
    "\n",
    "window.mainloop()"
   ]
  },
  {
   "cell_type": "markdown",
   "metadata": {},
   "source": [
    "**Different askquestion dialogs**"
   ]
  },
  {
   "cell_type": "code",
   "execution_count": 63,
   "metadata": {},
   "outputs": [],
   "source": [
    "from tkinter import *\n",
    "from tkinter import messagebox\n",
    "window = Tk()\n",
    "res = messagebox.askquestion('Message title','Message content')\n",
    "window.mainloop()"
   ]
  },
  {
   "cell_type": "code",
   "execution_count": 62,
   "metadata": {},
   "outputs": [],
   "source": [
    "from tkinter import *\n",
    "window = Tk()\n",
    "from tkinter import messagebox\n",
    "res = messagebox.askyesno('Message title','Message content')\n",
    "window.mainloop()"
   ]
  },
  {
   "cell_type": "code",
   "execution_count": 64,
   "metadata": {},
   "outputs": [],
   "source": [
    "from tkinter import *\n",
    "window = Tk()\n",
    "from tkinter import messagebox\n",
    "res = messagebox.askyesnocancel('Message title','Message content')\n",
    "window.mainloop()"
   ]
  },
  {
   "cell_type": "code",
   "execution_count": 65,
   "metadata": {},
   "outputs": [],
   "source": [
    "from tkinter import *\n",
    "window = Tk()\n",
    "from tkinter import messagebox\n",
    "res = messagebox.askokcancel('Message title','Message content')\n",
    "window.mainloop()"
   ]
  },
  {
   "cell_type": "code",
   "execution_count": 66,
   "metadata": {},
   "outputs": [],
   "source": [
    "from tkinter import *\n",
    "window = Tk()\n",
    "from tkinter import messagebox\n",
    "res = messagebox.askretrycancel('Message title','Message content')\n",
    "window.mainloop()"
   ]
  },
  {
   "cell_type": "markdown",
   "metadata": {},
   "source": [
    "**Add a SpinBox** (numbers widget)"
   ]
  },
  {
   "cell_type": "code",
   "execution_count": 67,
   "metadata": {},
   "outputs": [],
   "source": [
    "from tkinter import *\n",
    "\n",
    "window = Tk()\n",
    "\n",
    "window.title(\"Welcome to Edure\")\n",
    "\n",
    "window.geometry('350x200')\n",
    "\n",
    "spin = Spinbox(window, from_=0, to=100, width=5)\n",
    "\n",
    "spin.grid(column=0,row=0)\n",
    "\n",
    "window.mainloop()"
   ]
  },
  {
   "cell_type": "code",
   "execution_count": 68,
   "metadata": {},
   "outputs": [],
   "source": [
    "from tkinter import *\n",
    "from tkinter import messagebox\n",
    "\n",
    "\n",
    "w = Tk()\n",
    "\n",
    "w.title(\"Welcome to Edure\")\n",
    "w.geometry('360x360')\n",
    "\n",
    "spin=Spinbox(w,from_=0,to=200,width=20)\n",
    "\n",
    "spin.grid(column=0,row=0)\n",
    "\n",
    "window.mainloop()"
   ]
  },
  {
   "cell_type": "markdown",
   "metadata": {},
   "source": [
    "You can specify the numbers for the Spinbox instead of using the whole range like this:\n",
    "\n",
    "spin = Spinbox(window, values=(3, 8, 11), width=5)"
   ]
  },
  {
   "cell_type": "code",
   "execution_count": 69,
   "metadata": {},
   "outputs": [],
   "source": [
    "from tkinter import *\n",
    "\n",
    "window = Tk()\n",
    "\n",
    "window.title(\"Welcome to Edure\")\n",
    "\n",
    "window.geometry('350x200')\n",
    "\n",
    "spin = Spinbox(window, values=(3, 8, 11,15), width=3)\n",
    "\n",
    "spin.grid(column=0,row=0)\n",
    "\n",
    "window.mainloop()"
   ]
  },
  {
   "cell_type": "markdown",
   "metadata": {},
   "source": [
    "**Set default value for Spinbox**\n",
    "<br>To set the Spinbox default value, you can pass the value to the textvariable parameter"
   ]
  },
  {
   "cell_type": "code",
   "execution_count": 70,
   "metadata": {},
   "outputs": [],
   "source": [
    "from tkinter import *\n",
    "\n",
    "window = Tk()\n",
    "\n",
    "window.title(\"Welcome to Edure\")\n",
    "\n",
    "window.geometry('350x200')\n",
    "\n",
    "var =IntVar()\n",
    "\n",
    "var.set(36)\n",
    "\n",
    "spin = Spinbox(window, from_=0, to=100, width=5, textvariable=var)\n",
    "\n",
    "spin.grid(column=0,row=0)\n",
    "\n",
    "window.mainloop()"
   ]
  }
 ],
 "metadata": {
  "kernelspec": {
   "display_name": "Python 3 (ipykernel)",
   "language": "python",
   "name": "python3"
  },
  "language_info": {
   "codemirror_mode": {
    "name": "ipython",
    "version": 3
   },
   "file_extension": ".py",
   "mimetype": "text/x-python",
   "name": "python",
   "nbconvert_exporter": "python",
   "pygments_lexer": "ipython3",
   "version": "3.11.5"
  }
 },
 "nbformat": 4,
 "nbformat_minor": 4
}
