{
 "cells": [
  {
   "cell_type": "markdown",
   "metadata": {},
   "source": [
    "**Add a Progressbar widget**"
   ]
  },
  {
   "cell_type": "markdown",
   "metadata": {},
   "source": [
    "\n",
    "from tkinter.ttk import Progressbar\n",
    "<br>bar = Progressbar(window, length=200)"
   ]
  },
  {
   "cell_type": "code",
   "execution_count": 1,
   "metadata": {},
   "outputs": [],
   "source": [
    "from tkinter import *\n",
    "from tkinter.ttk import Progressbar\n",
    "\n",
    "from tkinter import ttk\n",
    "\n",
    "window = Tk()\n",
    "\n",
    "window.title(\"Welcome to Edure\")\n",
    "\n",
    "window.geometry('350x200')\n",
    "\n",
    "style = ttk.Style()\n",
    "\n",
    "style.theme_use('default')\n",
    "\n",
    "style.configure(\"black.Horizontal.TProgressbar\", background='black')\n",
    "\n",
    "bar = Progressbar(window, length=200, style='black.Horizontal.TProgressbar')\n",
    "\n",
    "bar['value'] = 20\n",
    "\n",
    "bar.grid(column=0, row=0)\n",
    "\n",
    "window.mainloop()"
   ]
  },
  {
   "cell_type": "markdown",
   "metadata": {},
   "source": [
    "**Add a filedialog (file & directory chooser)**"
   ]
  },
  {
   "cell_type": "code",
   "execution_count": 2,
   "metadata": {},
   "outputs": [],
   "source": [
    "from tkinter import *\n",
    "from tkinter import filedialog\n",
    "window = Tk()\n",
    "file = filedialog.askopenfilename()\n",
    "window.mainloop()"
   ]
  },
  {
   "cell_type": "markdown",
   "metadata": {},
   "source": [
    "You can even ask multiple file dialog"
   ]
  },
  {
   "cell_type": "code",
   "execution_count": 4,
   "metadata": {},
   "outputs": [],
   "source": [
    "from tkinter import *\n",
    "from tkinter import filedialog\n",
    "window = Tk()\n",
    "file = filedialog.askopenfilename()\n",
    "file1 = filedialog.askopenfilename()\n",
    "window.mainloop()"
   ]
  },
  {
   "cell_type": "markdown",
   "metadata": {},
   "source": [
    "**Specify file types**"
   ]
  },
  {
   "cell_type": "code",
   "execution_count": 6,
   "metadata": {},
   "outputs": [],
   "source": [
    "from tkinter import *\n",
    "window = Tk()\n",
    "file = filedialog.askopenfilename(filetypes = ((\"Text files\",\"*.txt\"),(\"all files\",\"*.*\")))\n",
    "window.mainloop()"
   ]
  },
  {
   "cell_type": "markdown",
   "metadata": {},
   "source": [
    "**Open Only Directories**"
   ]
  },
  {
   "cell_type": "code",
   "execution_count": 7,
   "metadata": {},
   "outputs": [],
   "source": [
    "from tkinter import *\n",
    "window = Tk()\n",
    "dir = filedialog.askdirectory()\n",
    "window.mainloop()"
   ]
  },
  {
   "cell_type": "markdown",
   "metadata": {},
   "source": [
    "**Initial Directory to Open**"
   ]
  },
  {
   "cell_type": "code",
   "execution_count": 14,
   "metadata": {},
   "outputs": [],
   "source": [
    "from tkinter import *\n",
    "window = Tk()\n",
    "from os import path\n",
    "file = filedialog.askopenfilename(initialdir= path.dirname(\"C:/\"))\n",
    "window.mainloop()"
   ]
  },
  {
   "cell_type": "markdown",
   "metadata": {},
   "source": [
    "**Add a Menu bar**"
   ]
  },
  {
   "cell_type": "code",
   "execution_count": 2,
   "metadata": {},
   "outputs": [],
   "source": [
    "from tkinter import *\n",
    "window = Tk()\n",
    "from tkinter import Menu\n",
    "menu = Menu(window)\n",
    "menu.add_command(label='File')\n",
    "menu.add_command(label='Edit')\n",
    "window.config(menu=menu)\n",
    "window.mainloop()"
   ]
  },
  {
   "cell_type": "markdown",
   "metadata": {},
   "source": [
    "**You can add menu items under any menu by using add_cascade() function**\n",
    "\n",
    "menu.add_cascade(label='File', menu=new_item)"
   ]
  },
  {
   "cell_type": "code",
   "execution_count": 8,
   "metadata": {},
   "outputs": [],
   "source": [
    "from tkinter import *\n",
    "from tkinter import Menu\n",
    "window = Tk()\n",
    "window.title(\"Welcome to Edure\")\n",
    "menu = Menu(window)\n",
    "new_item = Menu(menu)\n",
    "new_item.add_command(label='New')\n",
    "menu.add_cascade(label='File', menu=new_item)\n",
    "window.config(menu=menu)\n",
    "window.mainloop()"
   ]
  },
  {
   "cell_type": "markdown",
   "metadata": {},
   "source": [
    "**Adding Many Sub Menus**"
   ]
  },
  {
   "cell_type": "code",
   "execution_count": 7,
   "metadata": {},
   "outputs": [],
   "source": [
    "from tkinter import *\n",
    "\n",
    "from tkinter import Menu\n",
    "\n",
    "window = Tk()\n",
    "\n",
    "window.title(\"Welcome to Edure\")\n",
    "\n",
    "menu = Menu(window)\n",
    "\n",
    "new_item = Menu(menu)\n",
    "\n",
    "new_item.add_command(label='New')\n",
    "\n",
    "#new_item.add_separator()\n",
    "\n",
    "new_item.add_command(label='Open')\n",
    "\n",
    "menu.add_cascade(label='File', menu=new_item)\n",
    "\n",
    "window.config(menu=menu)\n",
    "\n",
    "window.mainloop()"
   ]
  },
  {
   "cell_type": "markdown",
   "metadata": {},
   "source": [
    "**Adding Seperator Between Menus**"
   ]
  },
  {
   "cell_type": "code",
   "execution_count": 6,
   "metadata": {},
   "outputs": [],
   "source": [
    "from tkinter import *\n",
    "\n",
    "from tkinter import Menu\n",
    "\n",
    "window = Tk()\n",
    "\n",
    "window.title(\"Welcome to Edure\")\n",
    "\n",
    "menu = Menu(window)\n",
    "\n",
    "new_item = Menu(menu)\n",
    "\n",
    "new_item.add_command(label='New')\n",
    "\n",
    "new_item.add_separator()\n",
    "\n",
    "new_item.add_command(label='Open')\n",
    "\n",
    "menu.add_cascade(label='File', menu=new_item)\n",
    "\n",
    "window.config(menu=menu)\n",
    "\n",
    "window.mainloop()"
   ]
  },
  {
   "cell_type": "markdown",
   "metadata": {},
   "source": [
    "**Removing Dashed Lines**"
   ]
  },
  {
   "cell_type": "code",
   "execution_count": 5,
   "metadata": {},
   "outputs": [],
   "source": [
    "from tkinter import *\n",
    "\n",
    "from tkinter import Menu\n",
    "\n",
    "window = Tk()\n",
    "\n",
    "window.title(\"Welcome to Edure\")\n",
    "\n",
    "menu = Menu(window)\n",
    "\n",
    "new_item = Menu(menu, tearoff=0)\n",
    "\n",
    "new_item.add_command(label='New')\n",
    "\n",
    "#new_item.add_separator()\n",
    "\n",
    "new_item.add_command(label='Open')\n",
    "#new_item.add_command(label='New', command=clicked)\n",
    "\n",
    "menu.add_cascade(label='File', menu=new_item)\n",
    "\n",
    "window.config(menu=menu)\n",
    "\n",
    "window.mainloop()"
   ]
  },
  {
   "cell_type": "markdown",
   "metadata": {},
   "source": [
    "**Adding Commands to Menu**"
   ]
  },
  {
   "cell_type": "code",
   "execution_count": 4,
   "metadata": {},
   "outputs": [],
   "source": [
    "from tkinter import *\n",
    "\n",
    "from tkinter import Menu\n",
    "\n",
    "window = Tk()\n",
    "\n",
    "window.title(\"Welcome to Edure\")\n",
    "\n",
    "menu = Menu(window)\n",
    "def clicked():\n",
    "\n",
    "   print(selected.get())\n",
    "\n",
    "new_item = Menu(menu, tearoff=0)\n",
    "\n",
    "new_item.add_command(label='New')\n",
    "\n",
    "new_item.add_command(label='Open', command=clicked)\n",
    "\n",
    "menu.add_cascade(label='File', menu=new_item)\n",
    "\n",
    "window.config(menu=menu)\n",
    "\n",
    "window.mainloop()"
   ]
  },
  {
   "cell_type": "markdown",
   "metadata": {},
   "source": [
    "**Creating Tabs**\n",
    "<br>To create a tab control, there are 3 steps to do so.\n",
    "\n",
    "* First, we create a tab control using Notebook class\n",
    "* Create a tab using Frame class.\n",
    "* Add that tab to the tab control.\n",
    "* Pack the tab control so it becomes visible in the window."
   ]
  },
  {
   "cell_type": "code",
   "execution_count": 3,
   "metadata": {},
   "outputs": [],
   "source": [
    "from tkinter import *\n",
    "\n",
    "from tkinter import ttk\n",
    "\n",
    "window = Tk()\n",
    "\n",
    "window.title(\"Welcome to Edure\")\n",
    "\n",
    "tab_control = ttk.Notebook(window)\n",
    "\n",
    "tab1 = ttk.Frame(tab_control)\n",
    "\n",
    "tab_control.add(tab1, text='First')\n",
    "\n",
    "tab_control.pack(expand=1, fill='both')\n",
    "\n",
    "window.mainloop()"
   ]
  },
  {
   "cell_type": "markdown",
   "metadata": {},
   "source": [
    "After creating tabs, you can put widgets inside these tabs by assigning the parent property to the desired tab"
   ]
  },
  {
   "cell_type": "code",
   "execution_count": 1,
   "metadata": {},
   "outputs": [],
   "source": [
    "from tkinter import *\n",
    "\n",
    "from tkinter import ttk\n",
    "\n",
    "window = Tk()\n",
    "\n",
    "window.title(\"Welcome to Edure\")\n",
    "\n",
    "tab_control = ttk.Notebook(window)\n",
    "\n",
    "tab1 = ttk.Frame(tab_control)\n",
    "\n",
    "tab2 = ttk.Frame(tab_control)\n",
    "\n",
    "tab_control.add(tab1, text='File')\n",
    "\n",
    "tab_control.add(tab2, text='Edit')\n",
    "\n",
    "lbl1 = Label(tab1, text= 'New')\n",
    "\n",
    "lbl1.grid(column=0, row=0)\n",
    "\n",
    "lbl2 = Label(tab2, text= 'Undo')\n",
    "\n",
    "lbl2.grid(column=0, row=0)\n",
    "\n",
    "tab_control.pack(expand=1, fill='both')\n",
    "\n",
    "window.mainloop()"
   ]
  },
  {
   "cell_type": "markdown",
   "metadata": {},
   "source": [
    "**You can add padding for your controls to make it looks well organized using padx and pady properties.\n",
    "Just pass padx and pady to any widget and give them a value.**"
   ]
  },
  {
   "cell_type": "code",
   "execution_count": null,
   "metadata": {},
   "outputs": [],
   "source": [
    "lbl1 = Label(tab1, text= 'label1', padx=5, pady=5)"
   ]
  },
  {
   "cell_type": "code",
   "execution_count": 4,
   "metadata": {},
   "outputs": [],
   "source": [
    "from tkinter import *\n",
    "\n",
    "from tkinter import ttk\n",
    "\n",
    "window = Tk()\n",
    "\n",
    "window.title(\"Edure\")\n",
    "\n",
    "tab_control = ttk.Notebook(window)\n",
    "\n",
    "tab1 = ttk.Frame(tab_control)\n",
    "\n",
    "tab2 = ttk.Frame(tab_control)\n",
    "\n",
    "tab_control.add(tab1, text='File')\n",
    "\n",
    "tab_control.add(tab2, text='Edit')\n",
    "\n",
    "lbl1 = Label(tab1, text= 'label1', padx=5, pady=5)\n",
    "\n",
    "lbl1.grid(column=0, row=0)\n",
    "\n",
    "lbl2 = Label(tab2, text= 'Undo')\n",
    "\n",
    "lbl2.grid(column=0, row=0)\n",
    "\n",
    "tab_control.pack(expand=1, fill='both')\n",
    "\n",
    "window.mainloop()"
   ]
  }
 ],
 "metadata": {
  "kernelspec": {
   "display_name": "Python 3 (ipykernel)",
   "language": "python",
   "name": "python3"
  },
  "language_info": {
   "codemirror_mode": {
    "name": "ipython",
    "version": 3
   },
   "file_extension": ".py",
   "mimetype": "text/x-python",
   "name": "python",
   "nbconvert_exporter": "python",
   "pygments_lexer": "ipython3",
   "version": "3.9.7"
  }
 },
 "nbformat": 4,
 "nbformat_minor": 4
}
