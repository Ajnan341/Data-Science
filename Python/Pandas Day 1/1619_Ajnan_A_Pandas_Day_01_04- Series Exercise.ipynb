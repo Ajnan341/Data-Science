{
 "cells": [
  {
   "cell_type": "markdown",
   "metadata": {},
   "source": [
    "Convert Pandas Series to List?"
   ]
  },
  {
   "cell_type": "code",
   "execution_count": 1,
   "metadata": {},
   "outputs": [],
   "source": [
    "import pandas as pd\n",
    "import numpy as np\n",
    "df=pd.Series([25,36,79,48,60])"
   ]
  },
  {
   "cell_type": "code",
   "execution_count": 4,
   "metadata": {},
   "outputs": [
    {
     "name": "stdout",
     "output_type": "stream",
     "text": [
      "0    7\n",
      "1    5\n",
      "2    4\n",
      "3    6\n",
      "4    8\n",
      "5    9\n",
      "6    0\n",
      "dtype: int64\n"
     ]
    }
   ],
   "source": [
    "l=[7,5,4,6,8,9,0]\n",
    "s=pd.Series(l)\n",
    "print(s)"
   ]
  },
  {
   "cell_type": "markdown",
   "metadata": {},
   "source": [
    "Write a program to add,subract,mulitple and divide and compare two programs?"
   ]
  },
  {
   "cell_type": "code",
   "execution_count": 6,
   "metadata": {},
   "outputs": [],
   "source": [
    "ds1=pd.Series([25,36,79,48,60])\n",
    "ds2=pd.Series([11,45,58,79,97])\n"
   ]
  },
  {
   "cell_type": "code",
   "execution_count": 8,
   "metadata": {},
   "outputs": [
    {
     "name": "stdout",
     "output_type": "stream",
     "text": [
      "0     275\n",
      "1    1620\n",
      "2    4582\n",
      "3    3792\n",
      "4    5820\n",
      "dtype: int64\n"
     ]
    }
   ],
   "source": [
    "#Multiplication\n",
    "m=ds1*ds2\n",
    "print(m)"
   ]
  },
  {
   "cell_type": "code",
   "execution_count": 10,
   "metadata": {},
   "outputs": [
    {
     "name": "stdout",
     "output_type": "stream",
     "text": [
      "0    14\n",
      "1    -9\n",
      "2    21\n",
      "3   -31\n",
      "4   -37\n",
      "dtype: int64\n"
     ]
    }
   ],
   "source": [
    "# Subtraction\n",
    "sub=ds1-ds2\n",
    "print(sub)"
   ]
  },
  {
   "cell_type": "code",
   "execution_count": 12,
   "metadata": {},
   "outputs": [
    {
     "name": "stdout",
     "output_type": "stream",
     "text": [
      "0    2.272727\n",
      "1    0.800000\n",
      "2    1.362069\n",
      "3    0.607595\n",
      "4    0.618557\n",
      "dtype: float64\n"
     ]
    }
   ],
   "source": [
    "#Division\n",
    "divi=ds1/ds2\n",
    "print(divi)"
   ]
  },
  {
   "cell_type": "markdown",
   "metadata": {},
   "source": [
    "Convert numpy array to Series"
   ]
  },
  {
   "cell_type": "code",
   "execution_count": 13,
   "metadata": {},
   "outputs": [
    {
     "data": {
      "text/plain": [
       "0    0\n",
       "1    1\n",
       "2    2\n",
       "3    3\n",
       "4    4\n",
       "5    5\n",
       "6    6\n",
       "7    7\n",
       "8    8\n",
       "9    9\n",
       "dtype: int32"
      ]
     },
     "execution_count": 13,
     "metadata": {},
     "output_type": "execute_result"
    }
   ],
   "source": [
    "np_array=np.arange(10)\n",
    "pd.Series(np_array)"
   ]
  },
  {
   "cell_type": "markdown",
   "metadata": {},
   "source": [
    "Convert Series to Array"
   ]
  },
  {
   "cell_type": "code",
   "execution_count": 14,
   "metadata": {},
   "outputs": [
    {
     "data": {
      "text/plain": [
       "array(['100', '200', 'Python', 300.12], dtype=object)"
      ]
     },
     "execution_count": 14,
     "metadata": {},
     "output_type": "execute_result"
    }
   ],
   "source": [
    "s1=pd.Series(['100','200','Python',300.12])\n",
    "np.array(s1)"
   ]
  },
  {
   "cell_type": "markdown",
   "metadata": {},
   "source": [
    "Find the index position of the smallest and the largest number in given series?"
   ]
  },
  {
   "cell_type": "code",
   "execution_count": 18,
   "metadata": {},
   "outputs": [
    {
     "name": "stdout",
     "output_type": "stream",
     "text": [
      "maximum elemente at the index 2\n",
      "minimum elemente at the index 7\n"
     ]
    }
   ],
   "source": [
    "nums=pd.Series([1,7,92,12,43,82,1,0,18])\n",
    "m=nums.idxmax()\n",
    "s=nums.idxmin()\n",
    "print('maximum elemente at the index',m)\n",
    "print('minimum elemente at the index',s)"
   ]
  },
  {
   "cell_type": "markdown",
   "metadata": {},
   "source": [
    "Write a program to stack given 2 series horizonatally and vertically"
   ]
  },
  {
   "cell_type": "code",
   "execution_count": 20,
   "metadata": {},
   "outputs": [
    {
     "name": "stdout",
     "output_type": "stream",
     "text": [
      "horizonatally\n",
      "    0   1\n",
      "0  25  11\n",
      "1  36  45\n",
      "2  79  58\n",
      "3  48  79\n",
      "4  60  97\n",
      "vertically\n",
      "0    25\n",
      "1    36\n",
      "2    79\n",
      "3    48\n",
      "4    60\n",
      "0    11\n",
      "1    45\n",
      "2    58\n",
      "3    79\n",
      "4    97\n",
      "dtype: int64\n"
     ]
    }
   ],
   "source": [
    "h=pd.concat([ds1, ds2], axis=1)\n",
    "print('horizonatally')\n",
    "print(h)\n",
    "v=pd.concat([ds1, ds2], axis=0)\n",
    "print('vertically')\n",
    "print(v)"
   ]
  },
  {
   "cell_type": "markdown",
   "metadata": {},
   "source": [
    "Write a program to display all sunday of 2020:"
   ]
  },
  {
   "cell_type": "code",
   "execution_count": 2,
   "metadata": {},
   "outputs": [
    {
     "name": "stdout",
     "output_type": "stream",
     "text": [
      "DatetimeIndex(['2020-01-05', '2020-01-12', '2020-01-19', '2020-01-26',\n",
      "               '2020-02-02', '2020-02-09', '2020-02-16', '2020-02-23',\n",
      "               '2020-03-01', '2020-03-08', '2020-03-15', '2020-03-22',\n",
      "               '2020-03-29', '2020-04-05', '2020-04-12', '2020-04-19',\n",
      "               '2020-04-26', '2020-05-03', '2020-05-10', '2020-05-17',\n",
      "               '2020-05-24', '2020-05-31', '2020-06-07', '2020-06-14',\n",
      "               '2020-06-21', '2020-06-28', '2020-07-05', '2020-07-12',\n",
      "               '2020-07-19', '2020-07-26', '2020-08-02', '2020-08-09',\n",
      "               '2020-08-16', '2020-08-23', '2020-08-30', '2020-09-06',\n",
      "               '2020-09-13', '2020-09-20', '2020-09-27', '2020-10-04',\n",
      "               '2020-10-11', '2020-10-18', '2020-10-25', '2020-11-01',\n",
      "               '2020-11-08', '2020-11-15', '2020-11-22', '2020-11-29',\n",
      "               '2020-12-06', '2020-12-13', '2020-12-20', '2020-12-27'],\n",
      "              dtype='datetime64[ns]', freq=None)\n"
     ]
    }
   ],
   "source": [
    "DATES=pd.date_range(start='2020-01-01', end='2020-12-31')\n",
    "sundays=DATES[DATES.weekday==6]\n",
    "print(sundays)"
   ]
  },
  {
   "cell_type": "markdown",
   "metadata": {},
   "source": [
    "Convert first character of each word in a Series to Upper Case"
   ]
  },
  {
   "cell_type": "code",
   "execution_count": 3,
   "metadata": {},
   "outputs": [
    {
     "name": "stdout",
     "output_type": "stream",
     "text": [
      "0                Hello World\n",
      "1         Python Programming\n",
      "2              Pandas Series\n",
      "3    Convert First Character\n",
      "dtype: object\n"
     ]
    }
   ],
   "source": [
    "\n",
    "data = pd.Series(['hello world', 'python programming', 'pandas series', 'convert first character'])\n",
    "result = data.str.title()\n",
    "\n",
    "print(result)\n"
   ]
  },
  {
   "cell_type": "code",
   "execution_count": null,
   "metadata": {},
   "outputs": [],
   "source": []
  }
 ],
 "metadata": {
  "kernelspec": {
   "display_name": "Python 3 (ipykernel)",
   "language": "python",
   "name": "python3"
  },
  "language_info": {
   "codemirror_mode": {
    "name": "ipython",
    "version": 3
   },
   "file_extension": ".py",
   "mimetype": "text/x-python",
   "name": "python",
   "nbconvert_exporter": "python",
   "pygments_lexer": "ipython3",
   "version": "3.11.5"
  }
 },
 "nbformat": 4,
 "nbformat_minor": 4
}
