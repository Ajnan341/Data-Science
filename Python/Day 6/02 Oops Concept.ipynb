{
 "cells": [
  {
   "cell_type": "markdown",
   "metadata": {},
   "source": [
    "# <span style = \"color:green;font-size:40px\"> OOPS Concept </span>"
   ]
  },
  {
   "cell_type": "markdown",
   "metadata": {},
   "source": [
    "***"
   ]
  },
  {
   "cell_type": "markdown",
   "metadata": {},
   "source": [
    "**<div style =\"font-size:16px\">Inheritance:-** \n",
    "   * A mechanism in which one class acquires the property of another class\n",
    "   * Inheritance helps to reuse the attributes and methods of an existing class\n",
    "   * Eg:- A Child( Sub class) inherits traits of his/her parent class( Super Class)"
   ]
  },
  {
   "cell_type": "markdown",
   "metadata": {},
   "source": [
    "**<div style =\"font-size:16px\">Types of Inheritance**\n",
    " * Single Inheritance:- Parent giving property to child\n",
    " * Multi Level Inheritance:-  Parent giving property to a child and child giving to grandchild\n",
    " * Heirachichal Inheritance:- Parent giving to multiple child\n",
    " * Muliple Inheritance:- Child getting property of both father and mother"
   ]
  },
  {
   "cell_type": "markdown",
   "metadata": {},
   "source": [
    "**<div style =\"font-size:14px\">Single Inheritance Example**"
   ]
  },
  {
   "cell_type": "code",
   "execution_count": 2,
   "metadata": {},
   "outputs": [],
   "source": [
    "class Parent():\n",
    "    def m1(self):\n",
    "        print(\"parent method\")\n",
    "class Child(Parent):\n",
    "    pass"
   ]
  },
  {
   "cell_type": "code",
   "execution_count": 3,
   "metadata": {},
   "outputs": [],
   "source": [
    "c=Child()"
   ]
  },
  {
   "cell_type": "code",
   "execution_count": 4,
   "metadata": {},
   "outputs": [
    {
     "name": "stdout",
     "output_type": "stream",
     "text": [
      "parent method\n"
     ]
    }
   ],
   "source": [
    "c.m1()"
   ]
  },
  {
   "cell_type": "markdown",
   "metadata": {},
   "source": [
    "**Above Code Explanation**\n",
    "<font color=green>\n",
    "- In the above example child class is been created without any functionalities and parent class is created with a method \"m1\" with prints \"parent method\"\n",
    "- When we pass the \"parent\" in the paranthesis of child class it inherits all the properties of the class \"parent\" and thereby the object of the child class ,\"c\" get the method \"m1 \" which is defined inside the parent class</font>"
   ]
  },
  {
   "cell_type": "code",
   "execution_count": 5,
   "metadata": {},
   "outputs": [],
   "source": [
    "class Parent():\n",
    "    def m1(self):\n",
    "        print(\"parent method\")\n",
    "class Child(Parent):\n",
    "    def m2(self):\n",
    "        print(\"child method\")"
   ]
  },
  {
   "cell_type": "markdown",
   "metadata": {},
   "source": [
    "**Above Code Explanation**\n",
    "- In the above example child class is been created with a method m2 which prints the \"child method\" and parent class is created with a method \"m1\" with prints \"parent method\"\n",
    "- When we pass the \"parent\" in the paranthesis of child class it inherits all the properties of the class \"parent\" and thereby the object of the child class ,\"c\" get the method \"m1 \" which is defined inside the parent class"
   ]
  },
  {
   "cell_type": "code",
   "execution_count": 6,
   "metadata": {},
   "outputs": [
    {
     "name": "stdout",
     "output_type": "stream",
     "text": [
      "parent method\n",
      "child method\n"
     ]
    }
   ],
   "source": [
    "c=Child()\n",
    "c.m1()\n",
    "c.m2()"
   ]
  },
  {
   "cell_type": "markdown",
   "metadata": {},
   "source": [
    "**Above Code Explanation**\n",
    "\n",
    "Create a class object \"c\" and calling the method \"m1\" of parent class and \"m2\" of child class"
   ]
  },
  {
   "cell_type": "markdown",
   "metadata": {},
   "source": [
    "**<div style =\"font-size:14px\">Multi Level Inheritance Example**"
   ]
  },
  {
   "cell_type": "code",
   "execution_count": 7,
   "metadata": {},
   "outputs": [],
   "source": [
    "class Parent:\n",
    "    def m1(self):\n",
    "        print(\"Parent method\")\n",
    "class Child(Parent):\n",
    "    def m2(self):\n",
    "        print(\"Child method\")\n",
    "class Grand_child(Child):\n",
    "    def m3(self):\n",
    "        print(\"Grand Child Method\")"
   ]
  },
  {
   "cell_type": "markdown",
   "metadata": {},
   "source": [
    "**Above Code Explanation**\n",
    "- In the above example child class is been created with a method m2 which prints the \"child method\" and parent class is created with a method \"m1\" with prints \"parent method\" and a grand_child is create which prints \"Grand Child Method\"\n",
    "- When we pass the \"parent\" in the paranthesis of child class it inherits all the properties of the class \"parent\" and thereby the object of the child class ,\"c\" get the method \"m1 \" which is defined inside the parent class\n",
    "- When we create grand_child and passing the \"child\" class in the paranthesis it inherits the property of both child class and parent class"
   ]
  },
  {
   "cell_type": "code",
   "execution_count": 8,
   "metadata": {},
   "outputs": [
    {
     "name": "stdout",
     "output_type": "stream",
     "text": [
      "Parent method\n",
      "Child method\n",
      "Grand Child Method\n"
     ]
    }
   ],
   "source": [
    "gc=Grand_child()\n",
    "gc.m1()\n",
    "gc.m2()\n",
    "gc.m3()"
   ]
  },
  {
   "cell_type": "markdown",
   "metadata": {},
   "source": [
    "**Above Code Explanation**\n",
    "\n",
    "* In the above an object name \"gc\" is created for the class \"grand_child\" and since grand_child has inherited the feature of child class and which implies inherits the features of parent class we were able to get the methods of both parent and child class in \"gc\" object\n"
   ]
  },
  {
   "cell_type": "markdown",
   "metadata": {},
   "source": [
    "**<div style =\"font-size:14px\">Heirarchical Inheritance Example**"
   ]
  },
  {
   "cell_type": "code",
   "execution_count": 7,
   "metadata": {},
   "outputs": [],
   "source": [
    "class Parent():\n",
    "    def m1(self):\n",
    "        print(\"parent method\")\n",
    "class Child1(Parent):\n",
    "    def m2(self):\n",
    "        print(\"child1 method\")\n",
    "class Child2(Parent):\n",
    "    def m3(self):\n",
    "        print(\"child2 method\")\n",
    "        "
   ]
  },
  {
   "cell_type": "code",
   "execution_count": null,
   "metadata": {},
   "outputs": [],
   "source": [
    "c1=Child1()\n",
    "c1.m1()"
   ]
  },
  {
   "cell_type": "code",
   "execution_count": 10,
   "metadata": {},
   "outputs": [
    {
     "name": "stdout",
     "output_type": "stream",
     "text": [
      "parent method\n"
     ]
    }
   ],
   "source": [
    "c2=Child2()\n",
    "c2.m1()"
   ]
  },
  {
   "cell_type": "markdown",
   "metadata": {},
   "source": [
    "**<div style =\"font-size:14px\">Multiple Inheritance Example**"
   ]
  },
  {
   "cell_type": "code",
   "execution_count": 9,
   "metadata": {},
   "outputs": [],
   "source": [
    "class Parent():\n",
    "    def m1(self):\n",
    "        print(\"parent method\")\n",
    "class Child1():\n",
    "    def m2(self):\n",
    "        print(\"child1 method\")\n",
    "class Child2(Parent,Child1):\n",
    "    def m3(self):\n",
    "        print(\"child2 method\")"
   ]
  },
  {
   "cell_type": "code",
   "execution_count": 10,
   "metadata": {},
   "outputs": [
    {
     "name": "stdout",
     "output_type": "stream",
     "text": [
      "child1 method\n",
      "parent method\n",
      "child2 method\n"
     ]
    }
   ],
   "source": [
    "c2=Child2()\n",
    "c2.m2()\n",
    "c2.m1()\n",
    "c2.m3()"
   ]
  },
  {
   "cell_type": "markdown",
   "metadata": {},
   "source": [
    "**<div style =\"font-size:16px\">Encapsulation:-** \n",
    "It is a protective shield that prevents the data from being accessed by the code outside this shield\n",
    "\n",
    "    \n",
    "Private Attribute"
   ]
  },
  {
   "cell_type": "code",
   "execution_count": 11,
   "metadata": {},
   "outputs": [],
   "source": [
    "class Student():\n",
    "    def __init__(self,name,age):\n",
    "        self.name=name\n",
    "        self.age=age"
   ]
  },
  {
   "cell_type": "code",
   "execution_count": 13,
   "metadata": {},
   "outputs": [
    {
     "data": {
      "text/plain": [
       "'rahul'"
      ]
     },
     "execution_count": 13,
     "metadata": {},
     "output_type": "execute_result"
    }
   ],
   "source": [
    "student1=Student(\"rahul\",21)\n",
    "student1.name"
   ]
  },
  {
   "cell_type": "code",
   "execution_count": 3,
   "metadata": {},
   "outputs": [],
   "source": [
    "#Changing the name attribute of the student1 to akshay\n",
    "student1.name=\"akshay\""
   ]
  },
  {
   "cell_type": "markdown",
   "metadata": {},
   "source": [
    "**Above Code Explanation**\n",
    "\n",
    "Here the attribute name is change from rahul to akshay which should not happen. since it might affect the data"
   ]
  },
  {
   "cell_type": "code",
   "execution_count": 4,
   "metadata": {},
   "outputs": [
    {
     "name": "stdout",
     "output_type": "stream",
     "text": [
      "akshay\n"
     ]
    },
    {
     "data": {
      "text/plain": [
       "21"
      ]
     },
     "execution_count": 4,
     "metadata": {},
     "output_type": "execute_result"
    }
   ],
   "source": [
    "print(student1.name)\n",
    "student1.age"
   ]
  },
  {
   "cell_type": "code",
   "execution_count": 5,
   "metadata": {},
   "outputs": [
    {
     "name": "stdout",
     "output_type": "stream",
     "text": [
      "23\n"
     ]
    }
   ],
   "source": [
    "student1.name=23\n",
    "print(student1.name)\n"
   ]
  },
  {
   "cell_type": "markdown",
   "metadata": {},
   "source": [
    "**Above Code Explanation**\n",
    "\n",
    "Here the attribute name of student class is change from string to and integer which should not happen. since it might affect the function"
   ]
  },
  {
   "cell_type": "code",
   "execution_count": 14,
   "metadata": {},
   "outputs": [],
   "source": [
    "class Student():\n",
    "    #def __init__(self):\n",
    "        #self.name=name\n",
    "        #self.age=age\n",
    "    def set_value(self,name,age):\n",
    "        self.name=name\n",
    "        self.age=age\n",
    "    def get_name(self):\n",
    "        return self.name\n",
    "    def get_age(self):\n",
    "        return self.age"
   ]
  },
  {
   "cell_type": "code",
   "execution_count": 16,
   "metadata": {},
   "outputs": [],
   "source": [
    "st=Student()\n",
    "st.set_value(\"rahul\",23)"
   ]
  },
  {
   "cell_type": "code",
   "execution_count": 17,
   "metadata": {},
   "outputs": [],
   "source": [
    "st.name=\"akshay\""
   ]
  },
  {
   "cell_type": "code",
   "execution_count": 18,
   "metadata": {},
   "outputs": [
    {
     "name": "stdout",
     "output_type": "stream",
     "text": [
      "akshay\n"
     ]
    }
   ],
   "source": [
    "print(st.name)"
   ]
  },
  {
   "cell_type": "markdown",
   "metadata": {},
   "source": [
    "* Then too data is not protected inorder to do that you need to make attribute private using __\n",
    "* Private members are accessible only through methods inside a class"
   ]
  },
  {
   "cell_type": "code",
   "execution_count": 19,
   "metadata": {},
   "outputs": [],
   "source": [
    "class Student():\n",
    "    #def __init__(self):\n",
    "        #self.name=name\n",
    "        #self.age=age\n",
    "    def set_value(self,name,age):\n",
    "        self.__name=name\n",
    "        self.__age=age\n",
    "    def get_name(self):\n",
    "        return self.__name\n",
    "    def get_age(self):\n",
    "        return self.__age"
   ]
  },
  {
   "cell_type": "code",
   "execution_count": 20,
   "metadata": {},
   "outputs": [],
   "source": [
    "st=Student()\n",
    "st.set_value(\"rahul\",23)"
   ]
  },
  {
   "cell_type": "code",
   "execution_count": 18,
   "metadata": {},
   "outputs": [
    {
     "ename": "AttributeError",
     "evalue": "'student' object has no attribute '_name'",
     "output_type": "error",
     "traceback": [
      "\u001b[1;31m---------------------------------------------------------------------------\u001b[0m",
      "\u001b[1;31mAttributeError\u001b[0m                            Traceback (most recent call last)",
      "\u001b[1;32m<ipython-input-18-16ef83abb1a4>\u001b[0m in \u001b[0;36m<module>\u001b[1;34m\u001b[0m\n\u001b[0;32m      1\u001b[0m \u001b[1;31m# Cant access the class attribute directly to the object\u001b[0m\u001b[1;33m\u001b[0m\u001b[1;33m\u001b[0m\u001b[1;33m\u001b[0m\u001b[0m\n\u001b[1;32m----> 2\u001b[1;33m \u001b[0mst\u001b[0m\u001b[1;33m.\u001b[0m\u001b[0m_name\u001b[0m\u001b[1;33m\u001b[0m\u001b[1;33m\u001b[0m\u001b[0m\n\u001b[0m",
      "\u001b[1;31mAttributeError\u001b[0m: 'student' object has no attribute '_name'"
     ]
    }
   ],
   "source": [
    "# Cant access the class attribute directly to the object\n",
    "st._name"
   ]
  },
  {
   "cell_type": "code",
   "execution_count": 23,
   "metadata": {},
   "outputs": [
    {
     "name": "stdout",
     "output_type": "stream",
     "text": [
      "rahul\n"
     ]
    }
   ],
   "source": [
    "\"\"\"Now inorder to access the data of a class we should get the get_method,\n",
    "this type of restricting data is called Encapsulation\"\"\"\n",
    "print(st.get_name())"
   ]
  },
  {
   "cell_type": "markdown",
   "metadata": {},
   "source": [
    "**Private method**"
   ]
  },
  {
   "cell_type": "code",
   "execution_count": 21,
   "metadata": {},
   "outputs": [],
   "source": [
    "class Student():\n",
    "    def __init__(self,name):\n",
    "        self.name=name\n",
    "    def __private_method(self):\n",
    "        print(\"Private\")"
   ]
  },
  {
   "cell_type": "code",
   "execution_count": 22,
   "metadata": {},
   "outputs": [
    {
     "data": {
      "text/plain": [
       "'hari'"
      ]
     },
     "execution_count": 22,
     "metadata": {},
     "output_type": "execute_result"
    }
   ],
   "source": [
    "st=Student(\"hari\")\n",
    "st.name"
   ]
  },
  {
   "cell_type": "code",
   "execution_count": 21,
   "metadata": {},
   "outputs": [
    {
     "ename": "AttributeError",
     "evalue": "'student' object has no attribute '__private_method'",
     "output_type": "error",
     "traceback": [
      "\u001b[1;31m---------------------------------------------------------------------------\u001b[0m",
      "\u001b[1;31mAttributeError\u001b[0m                            Traceback (most recent call last)",
      "\u001b[1;32m<ipython-input-21-6c5e4d64a4ec>\u001b[0m in \u001b[0;36m<module>\u001b[1;34m\u001b[0m\n\u001b[1;32m----> 1\u001b[1;33m \u001b[0mst\u001b[0m\u001b[1;33m.\u001b[0m\u001b[0m__private_method\u001b[0m\u001b[1;33m(\u001b[0m\u001b[1;33m)\u001b[0m\u001b[1;33m\u001b[0m\u001b[1;33m\u001b[0m\u001b[0m\n\u001b[0m",
      "\u001b[1;31mAttributeError\u001b[0m: 'student' object has no attribute '__private_method'"
     ]
    }
   ],
   "source": [
    "st.__private_method()"
   ]
  },
  {
   "cell_type": "markdown",
   "metadata": {},
   "source": [
    "**Above Code Explanation**\n",
    "\n",
    "In the above code __private_method cant be directly accessible by the object inorder to that you need to create a method inside the class which could access the __private_method"
   ]
  },
  {
   "cell_type": "code",
   "execution_count": 22,
   "metadata": {},
   "outputs": [],
   "source": [
    "class student():\n",
    "    def __private_method(self):\n",
    "        print(\"Private\")\n",
    "    def public_method(self):\n",
    "        self.__private_method()"
   ]
  },
  {
   "cell_type": "code",
   "execution_count": 23,
   "metadata": {},
   "outputs": [
    {
     "name": "stdout",
     "output_type": "stream",
     "text": [
      "Private\n"
     ]
    }
   ],
   "source": [
    "st=student()\n",
    "st.public_method()"
   ]
  }
 ],
 "metadata": {
  "kernelspec": {
   "display_name": "Python 3 (ipykernel)",
   "language": "python",
   "name": "python3"
  },
  "language_info": {
   "codemirror_mode": {
    "name": "ipython",
    "version": 3
   },
   "file_extension": ".py",
   "mimetype": "text/x-python",
   "name": "python",
   "nbconvert_exporter": "python",
   "pygments_lexer": "ipython3",
   "version": "3.9.7"
  }
 },
 "nbformat": 4,
 "nbformat_minor": 4
}
