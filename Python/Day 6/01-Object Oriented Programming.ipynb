{
 "cells": [
  {
   "cell_type": "markdown",
   "metadata": {},
   "source": [
    "# <span style = \"color:coral; font-size:40px\"> Object Oriented Programming </span>"
   ]
  },
  {
   "cell_type": "markdown",
   "metadata": {},
   "source": [
    "***"
   ]
  },
  {
   "cell_type": "markdown",
   "metadata": {},
   "source": [
    "### Procedure Oriented Programming and Objected Oriented Programming"
   ]
  },
  {
   "cell_type": "markdown",
   "metadata": {},
   "source": [
    "<div style =\"font-size:16px\">* Procedure oriented programming and object oriented programming are two commonly used programming approach. This approach in technical term is called as Programming Paradigm\n",
    "\n",
    "<div style =\"font-size:16px\">* The main difference is data security , In OOP data is more secure"
   ]
  },
  {
   "cell_type": "markdown",
   "metadata": {},
   "source": [
    "#### Why OOP is secure"
   ]
  },
  {
   "cell_type": "markdown",
   "metadata": {},
   "source": [
    "<div style =\"font-size:16px\">* OOP have access modifiers , that is we can specify access permission like private ,public and protect on the data with which we can restrict the visibilty of the data\n",
    "\n",
    "<div style =\"font-size:16px\">* For Eg:- header file <stdio.h>, when ever you connect the header file stdio.h using # include then you can access all the details of stdio.h like how many functions it have what are the variables  insides function and many more.\n",
    "\n",
    "<div style =\"font-size:16px\">* To be more precise, suppose you are outside and you are visible to near by persons but they wont be able to know your mobile number or your bank account number. Inorder to know your mobil enumber or account number that  means your information is private if you want to get such information you have to ask me.One person cant access the the info of other person . The same thing we implement in OOP. its impossible in POP. Due to this feature we call OOP is based on real world "
   ]
  },
  {
   "cell_type": "markdown",
   "metadata": {},
   "source": [
    "#### Why Use POP\n",
    "\n",
    "<div style =\"font-size:16px\">* For every application security is not important \n",
    "<div style =\"font-size:16px\">     * For example:- Calculator, in calculator we are not dealing with sensibe data so we dont need security\n",
    "<div style =\"font-size:16px\">     * C,Pascal, Fortan<div style =\"font-size:16px\">"
   ]
  },
  {
   "cell_type": "markdown",
   "metadata": {},
   "source": [
    "#### Why the name object oriented programming?\n",
    " <div style =\"font-size:16px\"> In OOP a program is divided into small chunks called objects"
   ]
  },
  {
   "cell_type": "markdown",
   "metadata": {},
   "source": [
    "**What is object?**\n",
    " <div style =\"font-size:16px\">It is an instance of a class ,that is, it contains all the variables and functions defined in the class\n",
    " "
   ]
  },
  {
   "cell_type": "markdown",
   "metadata": {},
   "source": [
    "**What is a Class**\n",
    "\n",
    "<div style =\"font-size:16px\">  A Class is a template for creating objects\n",
    "    \n",
    "\n",
    "<div style =\"font-size:16px\">For Eg:- Motorola mobile may be manufactured in china but we wont tell it as china phone because it is designed by motorola and recreated that design multiple times by a manufacturer in china.Here motorola is called the class and the manufacturer in china can be considered as an object of the class motorola.\n",
    "    \n",
    "You can consider class as the blueprint. So if you have blueprints you can create thousands or millions of the objects.\n",
    "- Syntax:- **class classname():** \n",
    "* Class will have two things. One is Attribute and the other one is Method  \n",
    "> * Attributes are nothing variable inside the class\n",
    "  * Methods are functions inside the class \n",
    "    \n"
   ]
  },
  {
   "cell_type": "markdown",
   "metadata": {},
   "source": [
    "**Functions vs Class**\n",
    "<div style =\"font-size:16px\">\n",
    "In general, OOP allows us to create code that is repeatable and organized we have previously learned that functions are group of code that can be used repeatedly but in larger scripts functions by themselves arent enough for organization\n",
    "  \n",
    "- Class can be considered as group of functions \n",
    "- Function is group of statements to perfrom a particular task\n",
    "> For example:- We can think addition as a function but to create a calculator we need many functions like addition , subtraction, multiplication etc. That is where class comes in  , we can create multiple functions inside the class and all we need to is create an object say \"x\" and use any function like addition , etc belonging to the class\n",
    "\n",
    "- With Class we get additional features like polymorphism,encapsulation,inheritance etc\n"
   ]
  },
  {
   "cell_type": "code",
   "execution_count": 1,
   "metadata": {},
   "outputs": [],
   "source": [
    "#EG1:-\n",
    "class Computer:\n",
    "    def config(self):\n",
    "        print(\"i5\",\"16gb\",\"1TB\")\n",
    "        "
   ]
  },
  {
   "cell_type": "code",
   "execution_count": 2,
   "metadata": {},
   "outputs": [],
   "source": [
    "com1=Computer()"
   ]
  },
  {
   "cell_type": "code",
   "execution_count": 3,
   "metadata": {},
   "outputs": [
    {
     "name": "stdout",
     "output_type": "stream",
     "text": [
      "i5 16gb 1TB\n"
     ]
    }
   ],
   "source": [
    "com1.config()"
   ]
  },
  {
   "cell_type": "markdown",
   "metadata": {},
   "source": [
    "<div style =\"font-size:15px\">In the above example class computer is assigned to a variable called com1. This is called object instantiation. You will then be able to access the attributes that are present inside the class using the \"dot\" . operator. For example, in the computer example, you can access the attribute of the class using \n",
    "<font color=red>com1.config()</font>"
   ]
  },
  {
   "cell_type": "code",
   "execution_count": 5,
   "metadata": {},
   "outputs": [],
   "source": [
    "#EG2:-\n",
    "class Computer:\n",
    "    def __init__(self):\n",
    "        print(\"i5\",\"16gb\",\"1TB\")\n"
   ]
  },
  {
   "cell_type": "code",
   "execution_count": 6,
   "metadata": {},
   "outputs": [
    {
     "name": "stdout",
     "output_type": "stream",
     "text": [
      "i5 16gb 1TB\n"
     ]
    }
   ],
   "source": [
    "# Creating object\n",
    "com1=Computer()"
   ]
  },
  {
   "cell_type": "markdown",
   "metadata": {},
   "source": [
    "**--init--**\n",
    "- init is used to initialise variable or attributes inside a class\n",
    "- it will be called automatically\n",
    "- we can pass in the arguments or variables of the class inside the paranthesis itself\n",
    "- it is a constructor whose function is to assign values to the data of the class when an object of the class is created\n",
    "\n"
   ]
  },
  {
   "cell_type": "markdown",
   "metadata": {},
   "source": [
    "**Self**\n",
    "- With this keyword, you can access the attributes and methods of the class in python. \n",
    "- It binds the attributes with the given arguments. \n",
    "- user can use another parameter name in place of it\n",
    "- But it is advisable to use self because it increase the readability of code.\n"
   ]
  },
  {
   "cell_type": "code",
   "execution_count": 10,
   "metadata": {},
   "outputs": [],
   "source": [
    "class Car:\n",
    "    def __init__(vehicle):\n",
    "        vehicle.name=\"bmw\"\n",
    "a=Car()"
   ]
  },
  {
   "cell_type": "code",
   "execution_count": 11,
   "metadata": {},
   "outputs": [
    {
     "data": {
      "text/plain": [
       "'bmw'"
      ]
     },
     "execution_count": 11,
     "metadata": {},
     "output_type": "execute_result"
    }
   ],
   "source": [
    "a.name"
   ]
  },
  {
   "cell_type": "code",
   "execution_count": 1,
   "metadata": {},
   "outputs": [],
   "source": [
    "class Car:\n",
    "    pass"
   ]
  },
  {
   "cell_type": "code",
   "execution_count": 2,
   "metadata": {},
   "outputs": [],
   "source": [
    "honda=car()\n",
    "tata=car()"
   ]
  },
  {
   "cell_type": "code",
   "execution_count": 3,
   "metadata": {},
   "outputs": [],
   "source": [
    "honda.model=\"amaze\"\n",
    "honda.price=800000\n",
    "tata.model=\"Harrier\"\n",
    "tata.price=120000"
   ]
  },
  {
   "cell_type": "markdown",
   "metadata": {},
   "source": [
    "__*Here  the model and price are same for both objects so rather than defining it everytime we can give it inside the class car()*__"
   ]
  },
  {
   "cell_type": "code",
   "execution_count": 16,
   "metadata": {},
   "outputs": [],
   "source": [
    "#EG1:-\n",
    "class Car1():\n",
    "    def __init__(self,model,price):\n",
    "        print(model)\n",
    "        print(price)\n",
    "    "
   ]
  },
  {
   "cell_type": "code",
   "execution_count": 19,
   "metadata": {},
   "outputs": [
    {
     "name": "stdout",
     "output_type": "stream",
     "text": [
      "amaze\n",
      "800000\n",
      "Harrier\n",
      "120000\n"
     ]
    }
   ],
   "source": [
    "honda=Car1(\"amaze\",800000)\n",
    "tata=Car1(\"Harrier\",120000)"
   ]
  },
  {
   "cell_type": "markdown",
   "metadata": {},
   "source": [
    "\n",
    "__*Inorder to remove the error you have to assign model attribute inside the class*__"
   ]
  },
  {
   "cell_type": "code",
   "execution_count": 21,
   "metadata": {},
   "outputs": [],
   "source": [
    "class Car1():\n",
    "    def __init__(self,model,price):\n",
    "        self.model=model\n",
    "        self.price=price"
   ]
  },
  {
   "cell_type": "code",
   "execution_count": 22,
   "metadata": {},
   "outputs": [],
   "source": [
    "honda=Car1(\"amaze\",800000)\n",
    "tata=Car1(\"Harrier\",120000)"
   ]
  },
  {
   "cell_type": "code",
   "execution_count": 23,
   "metadata": {},
   "outputs": [
    {
     "data": {
      "text/plain": [
       "'amaze'"
      ]
     },
     "execution_count": 23,
     "metadata": {},
     "output_type": "execute_result"
    }
   ],
   "source": [
    "honda.model"
   ]
  },
  {
   "cell_type": "code",
   "execution_count": 24,
   "metadata": {},
   "outputs": [],
   "source": [
    "class Rectangle:\n",
    "    def __init__(self,height,width):\n",
    "        self.height=height\n",
    "        self.width=width"
   ]
  },
  {
   "cell_type": "code",
   "execution_count": 25,
   "metadata": {},
   "outputs": [
    {
     "name": "stdout",
     "output_type": "stream",
     "text": [
      "1200\n"
     ]
    }
   ],
   "source": [
    "rect1=Rectangle(20,60)\n",
    "print(rect1.height*rect1.width)"
   ]
  },
  {
   "cell_type": "markdown",
   "metadata": {},
   "source": [
    "**Types of Variables or Attributes in Class**\n",
    "1. Instance Variable: A variable which is assigned inside class methods are called instance variables. It is called instance variable because thesea are accessible to instance or objects of the class\n",
    "2. Class Variable: A variable which is assigned a value inside the class declaration is called class variables. A change in class variable changes in all other objects. It is usually been declared for variables whose value stays same for all the objects"
   ]
  },
  {
   "cell_type": "markdown",
   "metadata": {},
   "source": [
    "__*Below is an eg: of Instance variable here model and price are instance variables,which is accessed by instance of the car1*__"
   ]
  },
  {
   "cell_type": "code",
   "execution_count": null,
   "metadata": {},
   "outputs": [],
   "source": [
    "\n",
    "class Car1():\n",
    "    def __init__(self,model,price):\n",
    "        self.model=model\n",
    "        self.price=price"
   ]
  },
  {
   "cell_type": "markdown",
   "metadata": {},
   "source": []
  },
  {
   "cell_type": "code",
   "execution_count": null,
   "metadata": {},
   "outputs": [],
   "source": [
    "honda=Car1('amaze',80000)"
   ]
  },
  {
   "cell_type": "code",
   "execution_count": null,
   "metadata": {},
   "outputs": [],
   "source": [
    "# Instance variable is been accessing by the object honda for the class car1\n",
    "honda.model"
   ]
  },
  {
   "cell_type": "markdown",
   "metadata": {},
   "source": [
    "__*Below is the example of class variable*__"
   ]
  },
  {
   "cell_type": "code",
   "execution_count": 27,
   "metadata": {},
   "outputs": [],
   "source": [
    "class Car2:\n",
    "    wheels=4\n",
    "    def __init__(self,color,brand):\n",
    "        self.color=color\n",
    "        self.brand=brand"
   ]
  },
  {
   "cell_type": "code",
   "execution_count": 28,
   "metadata": {},
   "outputs": [],
   "source": [
    "c1= Car2(\"white\",'BMW')\n",
    "c2= Car2(\"Black\",\"Audi\")"
   ]
  },
  {
   "cell_type": "code",
   "execution_count": 29,
   "metadata": {},
   "outputs": [
    {
     "data": {
      "text/plain": [
       "4"
      ]
     },
     "execution_count": 29,
     "metadata": {},
     "output_type": "execute_result"
    }
   ],
   "source": [
    "# Can be changed for a particular classs but it should be called with classname to make its effect impact the entire class\n",
    "c1.wheels"
   ]
  },
  {
   "cell_type": "code",
   "execution_count": 30,
   "metadata": {},
   "outputs": [
    {
     "data": {
      "text/plain": [
       "4"
      ]
     },
     "execution_count": 30,
     "metadata": {},
     "output_type": "execute_result"
    }
   ],
   "source": [
    "c2.wheels"
   ]
  },
  {
   "cell_type": "code",
   "execution_count": 31,
   "metadata": {},
   "outputs": [],
   "source": [
    "car2.wheels=5"
   ]
  },
  {
   "cell_type": "code",
   "execution_count": 32,
   "metadata": {},
   "outputs": [
    {
     "data": {
      "text/plain": [
       "5"
      ]
     },
     "execution_count": 32,
     "metadata": {},
     "output_type": "execute_result"
    }
   ],
   "source": [
    "c2.wheels"
   ]
  },
  {
   "cell_type": "code",
   "execution_count": 33,
   "metadata": {},
   "outputs": [],
   "source": [
    "car2.color='black'"
   ]
  },
  {
   "cell_type": "code",
   "execution_count": 34,
   "metadata": {},
   "outputs": [
    {
     "data": {
      "text/plain": [
       "'white'"
      ]
     },
     "execution_count": 34,
     "metadata": {},
     "output_type": "execute_result"
    }
   ],
   "source": [
    "c1.color"
   ]
  },
  {
   "cell_type": "code",
   "execution_count": 35,
   "metadata": {},
   "outputs": [
    {
     "data": {
      "text/plain": [
       "'Black'"
      ]
     },
     "execution_count": 35,
     "metadata": {},
     "output_type": "execute_result"
    }
   ],
   "source": [
    "c2.color"
   ]
  },
  {
   "cell_type": "markdown",
   "metadata": {},
   "source": [
    "__In the above example it is clear that \"car2.wheels =5\" changed the value of wheels in both the objects of the class c1,c2 . While car2.color , which is an instance variable doesnt made any changes in the instance in either c1 or c2"
   ]
  }
 ],
 "metadata": {
  "kernelspec": {
   "display_name": "Python 3 (ipykernel)",
   "language": "python",
   "name": "python3"
  },
  "language_info": {
   "codemirror_mode": {
    "name": "ipython",
    "version": 3
   },
   "file_extension": ".py",
   "mimetype": "text/x-python",
   "name": "python",
   "nbconvert_exporter": "python",
   "pygments_lexer": "ipython3",
   "version": "3.9.7"
  }
 },
 "nbformat": 4,
 "nbformat_minor": 4
}
