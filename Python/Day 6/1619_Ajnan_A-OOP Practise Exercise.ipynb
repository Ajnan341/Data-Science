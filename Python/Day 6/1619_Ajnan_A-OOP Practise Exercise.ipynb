{
 "cells": [
  {
   "cell_type": "markdown",
   "metadata": {},
   "source": [
    "**1. Create a class circle and initialise it with radius . Make two methods get_Area and get_circumference inside the class**"
   ]
  },
  {
   "cell_type": "code",
   "execution_count": 3,
   "metadata": {},
   "outputs": [],
   "source": [
    "class Circle():\n",
    "\n",
    "    def get_area(self,radius):\n",
    "        return 3.14 * (radius ** 2)\n",
    "    \n",
    "    def get_circumference(self,radius):\n",
    "        return 2*(3.14*radius)"
   ]
  },
  {
   "cell_type": "code",
   "execution_count": 4,
   "metadata": {},
   "outputs": [
    {
     "name": "stdout",
     "output_type": "stream",
     "text": [
      "314.0\n",
      "62.800000000000004\n"
     ]
    }
   ],
   "source": [
    "c=Circle()\n",
    "print(c.get_area(10))\n",
    "print(c.get_circumference(10))"
   ]
  },
  {
   "cell_type": "code",
   "execution_count": 2,
   "metadata": {},
   "outputs": [],
   "source": [
    "class Circle():\n",
    "    def __init__(self, radius):\n",
    "        self.radius = radius\n",
    "    \n",
    "    def get_area(self):\n",
    "        return 3.14 * (self.radius ** 2)\n",
    "    \n",
    "    def get_circumference(self):\n",
    "        return 2*(3.14*self.radius)"
   ]
  },
  {
   "cell_type": "code",
   "execution_count": 3,
   "metadata": {},
   "outputs": [
    {
     "name": "stdout",
     "output_type": "stream",
     "text": [
      "314.0\n",
      "62.800000000000004\n"
     ]
    }
   ],
   "source": [
    "c=Circle(10)\n",
    "print(c.get_area())\n",
    "print(c.get_circumference())"
   ]
  },
  {
   "cell_type": "markdown",
   "metadata": {},
   "source": [
    "**2.Create a class to find area and perimeter of triangle**"
   ]
  },
  {
   "cell_type": "code",
   "execution_count": 4,
   "metadata": {},
   "outputs": [],
   "source": [
    "class Triangle():\n",
    "    def __init__(self, base,height):\n",
    "        self.base =base\n",
    "        self.height=height \n",
    "    \n",
    "    def get_area(self):\n",
    "        return 0.5*(self.base*self.height)\n",
    "    \n",
    "    def get_perimeter(self):\n",
    "        a=int(input('enter the side a'))\n",
    "        b=int(input('enter the side b'))\n",
    "        return a+b+self.base"
   ]
  },
  {
   "cell_type": "code",
   "execution_count": 5,
   "metadata": {},
   "outputs": [
    {
     "name": "stdout",
     "output_type": "stream",
     "text": [
      "25.0\n",
      "21\n"
     ]
    }
   ],
   "source": [
    "t=Triangle(10,5)\n",
    "print(t.get_area())\n",
    "print(t.get_perimeter())"
   ]
  },
  {
   "cell_type": "markdown",
   "metadata": {},
   "source": [
    "**3.Create a Temprature class. Make two methods :**\n",
    "1. convertFahrenheit - It will take celsius and will print it into Fahrenheit.\n",
    "2. convertCelsius - It will take Fahrenheit and will convert it into Celsius"
   ]
  },
  {
   "cell_type": "code",
   "execution_count": 5,
   "metadata": {},
   "outputs": [],
   "source": [
    "class Temprature:\n",
    "    def convertFahrenheit(self,cel):\n",
    "        return (cel*9/5) + 32\n",
    "    def convertCelsius(self,far):\n",
    "        return (far-32)*5/9"
   ]
  },
  {
   "cell_type": "code",
   "execution_count": 6,
   "metadata": {},
   "outputs": [
    {
     "name": "stdout",
     "output_type": "stream",
     "text": [
      "In celsius= 15.555555555555555\n",
      "In fahrenheit= 194.0\n"
     ]
    }
   ],
   "source": [
    "tp=Temprature()\n",
    "print('In celsius=',tp.convertCelsius(60))\n",
    "print('In fahrenheit=',tp.convertFahrenheit(90))"
   ]
  },
  {
   "cell_type": "markdown",
   "metadata": {},
   "source": [
    "##### 4.Create a student class and initialize it with and roll number.Make methods to \n",
    "  * It should display all information of student\n",
    "  * It should assign age to student\n",
    "  * it should assign marks to the student"
   ]
  },
  {
   "cell_type": "code",
   "execution_count": 1,
   "metadata": {},
   "outputs": [],
   "source": [
    "class student:\n",
    "    def __init__(self,rollno):\n",
    "        self.rollno=rollno\n",
    "    def displaystdetails(self,name,standard,course,divi):\n",
    "        print('name=',name)\n",
    "        print('student ID((roll no)=',self.rollno)\n",
    "        print('standard=',standard)\n",
    "        print('course name=',course)\n",
    "        print('division=',divi)\n",
    "\n",
    "    def stdage(self):\n",
    "        age=int(input('enter the age'))\n",
    "        print('roll no:',self.rollno)\n",
    "        print('Age=',age)\n",
    "\n",
    "    def marks(self):\n",
    "        pmark=int(input('enter the physics mark'))\n",
    "        cmark=int(input('enter the chemistry mark'))\n",
    "        Emark=int(input('enter the english mark'))\n",
    "        mmark=int(input('enter the maths mark'))\n",
    "        tmark=pmark+cmark+Emark+mmark\n",
    "        print('roll no:',self.rollno)\n",
    "        print('physics=',pmark)\n",
    "        print('chemistry=',cmark)\n",
    "        print('english=',Emark)\n",
    "        print('maths=',mmark)\n",
    "        print('total mark=',tmark)\n"
   ]
  },
  {
   "cell_type": "code",
   "execution_count": 3,
   "metadata": {},
   "outputs": [
    {
     "name": "stdout",
     "output_type": "stream",
     "text": [
      "name= Athul\n",
      "student ID((roll no)= 15\n",
      "standard= 12\n",
      "course name= Science\n",
      "division= A\n",
      "roll no: 15\n",
      "Age= 17\n",
      "roll no: 15\n",
      "physics= 55\n",
      "chemistry= 28\n",
      "english= 46\n",
      "maths= 51\n",
      "total mark= 180\n"
     ]
    }
   ],
   "source": [
    "name=input('enter student name')\n",
    "course=input('enter the course')\n",
    "standard=input('student class')\n",
    "divi=input('enter the division')\n",
    "s=student(15)\n",
    "s.displaystdetails(name,standard,course,divi)\n",
    "s.stdage()\n",
    "s.marks()\n"
   ]
  },
  {
   "cell_type": "markdown",
   "metadata": {},
   "source": [
    "##### 5. Create a Time class and initialize it with hours and minutes\n",
    "  * Make a method add time which should take time object and add them\n",
    "       \n",
    "       Eg:- (2hr and 50 min)+(1 hr and 20 min) is (4hr 10min)\n",
    "  * Make a method display which should print the time\n",
    "  * Make a method Display minute which should display minutes in the time\n",
    "  \n",
    "      Eg:- 1 hr 2 min should display 62 min"
   ]
  },
  {
   "cell_type": "code",
   "execution_count": 8,
   "metadata": {},
   "outputs": [],
   "source": [
    "class Time:\n",
    "    def __init__(self,hr,mini):\n",
    "        self.hr=hr\n",
    "        self.mini=mini\n",
    "    def addtime(self,t):\n",
    "        total_hr=self.hr+t.hr\n",
    "        total_min=self.mini+t.mini\n",
    "        return Time(total_hr,total_min)\n",
    "    def displays(self):\n",
    "        print(self.hr,'hr and ',self.mini,' minutes')\n",
    "    def display_in_miniutes(self):\n",
    "        hr_in_min=self.hr*60\n",
    "        total_minutes=self.mini+hr_in_min\n",
    "        print('minutes=',total_minutes)\n"
   ]
  },
  {
   "cell_type": "code",
   "execution_count": 9,
   "metadata": {},
   "outputs": [
    {
     "name": "stdout",
     "output_type": "stream",
     "text": [
      "7 hr and  47  minutes\n",
      "2 hr and  35  minutes\n",
      "minutes= 155\n"
     ]
    }
   ],
   "source": [
    "t1=Time(2,35)\n",
    "t2=Time(5,12)\n",
    "t3=t1.addtime(t2)\n",
    "print(t3.hr,'hr and ',t3.mini,' minutes')\n",
    "t1.displays()\n",
    "t1.display_in_miniutes()"
   ]
  },
  {
   "cell_type": "markdown",
   "metadata": {},
   "source": [
    "##### 6. Convert minutes to seconds\n"
   ]
  },
  {
   "cell_type": "code",
   "execution_count": 10,
   "metadata": {},
   "outputs": [],
   "source": [
    "class Time:\n",
    "    def __init__(self,hr,mini):\n",
    "        self.hr=hr\n",
    "        self.mini=mini\n",
    "    def addtime(self,t):\n",
    "        total_hr=self.hr+t.hr\n",
    "        total_min=self.mini+t.mini\n",
    "        return Time(total_hr,total_min)\n",
    "    def displays(self):\n",
    "        print(self.hr,'hr and ',self.mini,' minutes')\n",
    "    def display_in_seconds(self):\n",
    "        hr_in_min=self.hr*60\n",
    "        total_minutes=self.mini+hr_in_min\n",
    "        print('minutes=',total_minutes)\n",
    "        in_seconds=total_minutes*60\n",
    "        print('seconds=',in_seconds)\n"
   ]
  },
  {
   "cell_type": "code",
   "execution_count": 11,
   "metadata": {},
   "outputs": [
    {
     "name": "stdout",
     "output_type": "stream",
     "text": [
      "7 hr and  47  minutes\n",
      "2 hr and  35  minutes\n",
      "minutes= 155\n",
      "seconds= 9300\n"
     ]
    }
   ],
   "source": [
    "t1=Time(2,35)\n",
    "t2=Time(5,12)\n",
    "t3=t1.addtime(t2)\n",
    "print(t3.hr,'hr and ',t3.mini,' minutes')\n",
    "t1.displays()\n",
    "t1.display_in_seconds()"
   ]
  },
  {
   "cell_type": "markdown",
   "metadata": {},
   "source": [
    "##### 7. Fill in the Line class methods to accept coordinates as a pair of tuples and return the slope and distance of the line."
   ]
  },
  {
   "cell_type": "code",
   "execution_count": 4,
   "metadata": {},
   "outputs": [],
   "source": [
    "import math\n",
    "\n",
    "class Line:\n",
    "    def __init__(self, c1, c2):\n",
    "        self.c1 = c1\n",
    "        self.c2 = c2\n",
    "\n",
    "    def slope(self):\n",
    "        x1,y1=self.c1\n",
    "        x2,y2=self.c2\n",
    "        if self.x2 == self.x1:  \n",
    "            return float('infinite slope')  \n",
    "        return (y2 - y1) / (x2 - x1)\n",
    "\n",
    "    def distance(self):\n",
    "        x1, y1 = self.c1\n",
    "        x2, y2 = self.c2\n",
    "        return math.sqrt((x2 - x1)**2 + (y2 - y1)**2)\n"
   ]
  },
  {
   "cell_type": "code",
   "execution_count": 5,
   "metadata": {},
   "outputs": [],
   "source": [
    "coordinate1 = (5,2)\n",
    "coordinate2 = (8,10)\n",
    "\n",
    "li = Line(coordinate1,coordinate2)"
   ]
  },
  {
   "cell_type": "code",
   "execution_count": 6,
   "metadata": {},
   "outputs": [
    {
     "data": {
      "text/plain": [
       "8.54400374531753"
      ]
     },
     "execution_count": 6,
     "metadata": {},
     "output_type": "execute_result"
    }
   ],
   "source": [
    "li.distance()"
   ]
  },
  {
   "cell_type": "code",
   "execution_count": null,
   "metadata": {},
   "outputs": [],
   "source": [
    "li.slope()"
   ]
  },
  {
   "cell_type": "markdown",
   "metadata": {},
   "source": [
    "##### 8. Find the volume and surface area of a cylinder using class methods"
   ]
  },
  {
   "cell_type": "code",
   "execution_count": 8,
   "metadata": {},
   "outputs": [],
   "source": [
    "import math\n",
    "class Cylinder:\n",
    "    def __init__(self,h,r):\n",
    "        self.h=h\n",
    "        self.r=r\n",
    "    def volume(self):\n",
    "        return math.pi*(self.r**2)*self.h\n",
    "    def surface_area(self):\n",
    "        return 2*(math.pi)*self.r(self.r+self.h)"
   ]
  },
  {
   "cell_type": "code",
   "execution_count": 9,
   "metadata": {},
   "outputs": [],
   "source": [
    "c = Cylinder(2,3)"
   ]
  },
  {
   "cell_type": "code",
   "execution_count": 10,
   "metadata": {},
   "outputs": [
    {
     "data": {
      "text/plain": [
       "56.548667764616276"
      ]
     },
     "execution_count": 10,
     "metadata": {},
     "output_type": "execute_result"
    }
   ],
   "source": [
    "c.volume()"
   ]
  },
  {
   "cell_type": "code",
   "execution_count": 11,
   "metadata": {},
   "outputs": [
    {
     "ename": "TypeError",
     "evalue": "'int' object is not callable",
     "output_type": "error",
     "traceback": [
      "\u001b[1;31m---------------------------------------------------------------------------\u001b[0m",
      "\u001b[1;31mTypeError\u001b[0m                                 Traceback (most recent call last)",
      "Cell \u001b[1;32mIn[11], line 1\u001b[0m\n\u001b[1;32m----> 1\u001b[0m \u001b[43mc\u001b[49m\u001b[38;5;241;43m.\u001b[39;49m\u001b[43msurface_area\u001b[49m\u001b[43m(\u001b[49m\u001b[43m)\u001b[49m\n",
      "Cell \u001b[1;32mIn[8], line 9\u001b[0m, in \u001b[0;36mCylinder.surface_area\u001b[1;34m(self)\u001b[0m\n\u001b[0;32m      8\u001b[0m \u001b[38;5;28;01mdef\u001b[39;00m \u001b[38;5;21msurface_area\u001b[39m(\u001b[38;5;28mself\u001b[39m):\n\u001b[1;32m----> 9\u001b[0m     \u001b[38;5;28;01mreturn\u001b[39;00m \u001b[38;5;241m2\u001b[39m\u001b[38;5;241m*\u001b[39m(math\u001b[38;5;241m.\u001b[39mpi)\u001b[38;5;241m*\u001b[39m\u001b[38;5;28;43mself\u001b[39;49m\u001b[38;5;241;43m.\u001b[39;49m\u001b[43mr\u001b[49m\u001b[43m(\u001b[49m\u001b[38;5;28;43mself\u001b[39;49m\u001b[38;5;241;43m.\u001b[39;49m\u001b[43mr\u001b[49m\u001b[38;5;241;43m+\u001b[39;49m\u001b[38;5;28;43mself\u001b[39;49m\u001b[38;5;241;43m.\u001b[39;49m\u001b[43mh\u001b[49m\u001b[43m)\u001b[49m\n",
      "\u001b[1;31mTypeError\u001b[0m: 'int' object is not callable"
     ]
    }
   ],
   "source": [
    "c.surface_area()"
   ]
  }
 ],
 "metadata": {
  "kernelspec": {
   "display_name": "Python 3 (ipykernel)",
   "language": "python",
   "name": "python3"
  },
  "language_info": {
   "codemirror_mode": {
    "name": "ipython",
    "version": 3
   },
   "file_extension": ".py",
   "mimetype": "text/x-python",
   "name": "python",
   "nbconvert_exporter": "python",
   "pygments_lexer": "ipython3",
   "version": "3.11.5"
  }
 },
 "nbformat": 4,
 "nbformat_minor": 4
}
