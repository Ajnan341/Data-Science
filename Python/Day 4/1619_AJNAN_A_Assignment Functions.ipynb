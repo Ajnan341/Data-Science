{
 "cells": [
  {
   "cell_type": "markdown",
   "metadata": {},
   "source": [
    "## ASSIGNMENT FUNCTION\n"
   ]
  },
  {
   "cell_type": "markdown",
   "metadata": {},
   "source": [
    "1) wrtie a program to find the fibonacii series using function"
   ]
  },
  {
   "cell_type": "code",
   "execution_count": 11,
   "metadata": {},
   "outputs": [],
   "source": [
    "def fib():\n",
    "    n=int(input('enter value'))\n",
    "    f=[0,1]\n",
    "    a=f[0]\n",
    "    b=f[1]\n",
    "    if n==1:\n",
    "        print(a)\n",
    "    elif n==2:\n",
    "        print(b)\n",
    "    else:\n",
    "        i=2\n",
    "        while(i<n):\n",
    "            f.append(a+b)\n",
    "            a=f[i-1]\n",
    "            b=f[i]\n",
    "            i=i+1\n",
    "        print(f)\n"
   ]
  },
  {
   "cell_type": "code",
   "execution_count": 12,
   "metadata": {},
   "outputs": [
    {
     "name": "stdout",
     "output_type": "stream",
     "text": [
      "[0, 1, 1, 2, 3, 5, 8, 13]\n"
     ]
    }
   ],
   "source": [
    "fib()"
   ]
  },
  {
   "cell_type": "code",
   "execution_count": null,
   "metadata": {},
   "outputs": [],
   "source": []
  },
  {
   "cell_type": "markdown",
   "metadata": {},
   "source": [
    "2) find the factorial of a number"
   ]
  },
  {
   "cell_type": "code",
   "execution_count": 15,
   "metadata": {},
   "outputs": [],
   "source": [
    "def facto():\n",
    "    n=int(input('enter the number'))\n",
    "    f=1\n",
    "    for i in range(1,n+1):\n",
    "        f=f*i\n",
    "    print(f)\n"
   ]
  },
  {
   "cell_type": "code",
   "execution_count": 16,
   "metadata": {},
   "outputs": [
    {
     "name": "stdout",
     "output_type": "stream",
     "text": [
      "40320\n"
     ]
    }
   ],
   "source": [
    "facto()"
   ]
  },
  {
   "cell_type": "code",
   "execution_count": null,
   "metadata": {},
   "outputs": [],
   "source": []
  },
  {
   "cell_type": "markdown",
   "metadata": {},
   "source": [
    "3) print the prime numbers within a range"
   ]
  },
  {
   "cell_type": "code",
   "execution_count": 23,
   "metadata": {},
   "outputs": [],
   "source": [
    "def primes():\n",
    "    x=int(input('enter the ending point'))\n",
    "    a=0\n",
    "    b=[]\n",
    "    for i in range(2,x+1):\n",
    "        c=0\n",
    "        for j in range(1,i+1):\n",
    "            if i%j==0 :\n",
    "                c=c+1\n",
    "        if c<=2:\n",
    "            b.append(i)\n",
    "            a=a+1\n",
    "    print('count=',a)\n",
    "    print(b)"
   ]
  },
  {
   "cell_type": "code",
   "execution_count": 24,
   "metadata": {},
   "outputs": [
    {
     "name": "stdout",
     "output_type": "stream",
     "text": [
      "count= 25\n",
      "[2, 3, 5, 7, 11, 13, 17, 19, 23, 29, 31, 37, 41, 43, 47, 53, 59, 61, 67, 71, 73, 79, 83, 89, 97]\n"
     ]
    }
   ],
   "source": [
    "primes()"
   ]
  },
  {
   "cell_type": "markdown",
   "metadata": {},
   "source": [
    "4) Palindrome check using slicing"
   ]
  },
  {
   "cell_type": "code",
   "execution_count": 26,
   "metadata": {},
   "outputs": [],
   "source": [
    "def palindrome():\n",
    "    s=input('enter the string').lower()\n",
    "    srev=s[::-1]\n",
    "    if s==srev:\n",
    "        print(s,' is palindrome')\n",
    "    else:\n",
    "        print(s,' is not palindrome')"
   ]
  },
  {
   "cell_type": "code",
   "execution_count": 27,
   "metadata": {},
   "outputs": [
    {
     "name": "stdout",
     "output_type": "stream",
     "text": [
      "malayalam  is palindrome\n"
     ]
    }
   ],
   "source": [
    "palindrome()"
   ]
  },
  {
   "cell_type": "code",
   "execution_count": 28,
   "metadata": {},
   "outputs": [
    {
     "name": "stdout",
     "output_type": "stream",
     "text": [
      "hello  is not palindrome\n"
     ]
    }
   ],
   "source": [
    "palindrome()"
   ]
  },
  {
   "cell_type": "markdown",
   "metadata": {},
   "source": [
    "5) find the occurrence of a character in a given string."
   ]
  },
  {
   "cell_type": "code",
   "execution_count": 29,
   "metadata": {},
   "outputs": [],
   "source": [
    "def occofchar():\n",
    "    s=input('enter the character')\n",
    "    k=input('enter the key to count')\n",
    "    c=0\n",
    "    for i in s:\n",
    "        if k==i:\n",
    "            c=c+1\n",
    "    print('occarance of ',k,' is ',c)\n"
   ]
  },
  {
   "cell_type": "code",
   "execution_count": 30,
   "metadata": {},
   "outputs": [
    {
     "name": "stdout",
     "output_type": "stream",
     "text": [
      "occarance of  l  is  2\n"
     ]
    }
   ],
   "source": [
    "occofchar()"
   ]
  },
  {
   "cell_type": "markdown",
   "metadata": {},
   "source": [
    "7)  find the armstrong numbers in an interval"
   ]
  },
  {
   "cell_type": "code",
   "execution_count": 1,
   "metadata": {},
   "outputs": [],
   "source": [
    "def armstrong():\n",
    "    s=int(input('enter the starting point')) \n",
    "    n=s\n",
    "    a=0\n",
    "    while (s>0):\n",
    "        r=s%10\n",
    "        a=a+(r**3)\n",
    "        s=s//10\n",
    "    if a==n:\n",
    "        print(n,' is armstrong number ')\n",
    "    else:\n",
    "        print(n,' is not armstrong number ')\n",
    "\n",
    "        \n"
   ]
  },
  {
   "cell_type": "code",
   "execution_count": 3,
   "metadata": {},
   "outputs": [
    {
     "name": "stdout",
     "output_type": "stream",
     "text": [
      "123  is not armstrong number \n"
     ]
    }
   ],
   "source": [
    "armstrong()"
   ]
  }
 ],
 "metadata": {
  "kernelspec": {
   "display_name": "Python 3 (ipykernel)",
   "language": "python",
   "name": "python3"
  },
  "language_info": {
   "codemirror_mode": {
    "name": "ipython",
    "version": 3
   },
   "file_extension": ".py",
   "mimetype": "text/x-python",
   "name": "python",
   "nbconvert_exporter": "python",
   "pygments_lexer": "ipython3",
   "version": "3.11.5"
  }
 },
 "nbformat": 4,
 "nbformat_minor": 4
}
