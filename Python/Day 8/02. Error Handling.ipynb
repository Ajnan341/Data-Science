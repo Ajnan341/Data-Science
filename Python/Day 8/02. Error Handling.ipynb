{
 "cells": [
  {
   "cell_type": "markdown",
   "id": "4387a111",
   "metadata": {},
   "source": [
    "# <span style = \"color:coral;font-size:40px\"> Error and Exception Handling </span>"
   ]
  },
  {
   "cell_type": "markdown",
   "id": "6b39513e",
   "metadata": {},
   "source": [
    "***"
   ]
  },
  {
   "cell_type": "markdown",
   "id": "2aa72e9e",
   "metadata": {},
   "source": [
    "### In the below code we can see that a name error has occured"
   ]
  },
  {
   "cell_type": "code",
   "execution_count": 40,
   "id": "3bb8e629",
   "metadata": {},
   "outputs": [
    {
     "ename": "NameError",
     "evalue": "name 'b' is not defined",
     "output_type": "error",
     "traceback": [
      "\u001b[1;31m---------------------------------------------------------------------------\u001b[0m",
      "\u001b[1;31mNameError\u001b[0m                                 Traceback (most recent call last)",
      "\u001b[1;32m<ipython-input-40-df4f518564b5>\u001b[0m in \u001b[0;36m<module>\u001b[1;34m\u001b[0m\n\u001b[0;32m      1\u001b[0m \u001b[0ma\u001b[0m\u001b[1;33m=\u001b[0m\u001b[1;36m1001\u001b[0m\u001b[1;33m\u001b[0m\u001b[1;33m\u001b[0m\u001b[0m\n\u001b[0;32m      2\u001b[0m \u001b[1;32mif\u001b[0m \u001b[0ma\u001b[0m\u001b[1;33m>\u001b[0m\u001b[1;36m1000\u001b[0m\u001b[1;33m:\u001b[0m\u001b[1;33m\u001b[0m\u001b[1;33m\u001b[0m\u001b[0m\n\u001b[1;32m----> 3\u001b[1;33m     \u001b[0mprint\u001b[0m\u001b[1;33m(\u001b[0m\u001b[0mb\u001b[0m\u001b[1;33m)\u001b[0m\u001b[1;33m\u001b[0m\u001b[1;33m\u001b[0m\u001b[0m\n\u001b[0m",
      "\u001b[1;31mNameError\u001b[0m: name 'b' is not defined"
     ]
    }
   ],
   "source": [
    "a=1001\n",
    "if a>1000:\n",
    "    print(b)"
   ]
  },
  {
   "cell_type": "markdown",
   "id": "6b322013",
   "metadata": {},
   "source": [
    "This happened because we failed to define the variable 'b'"
   ]
  },
  {
   "cell_type": "markdown",
   "id": "0e91ebf2",
   "metadata": {},
   "source": [
    "***"
   ]
  },
  {
   "cell_type": "markdown",
   "id": "c1f4a0bf",
   "metadata": {},
   "source": [
    "### Here a ZeroDivisionError has occured because we cannot divide a number by 0"
   ]
  },
  {
   "cell_type": "code",
   "execution_count": 46,
   "id": "e25164c9",
   "metadata": {},
   "outputs": [
    {
     "name": "stdout",
     "output_type": "stream",
     "text": [
      "enter a number 100\n",
      "enter a number 0\n"
     ]
    },
    {
     "ename": "ZeroDivisionError",
     "evalue": "division by zero",
     "output_type": "error",
     "traceback": [
      "\u001b[1;31m---------------------------------------------------------------------------\u001b[0m",
      "\u001b[1;31mZeroDivisionError\u001b[0m                         Traceback (most recent call last)",
      "\u001b[1;32m<ipython-input-46-d09a6394bbae>\u001b[0m in \u001b[0;36m<module>\u001b[1;34m\u001b[0m\n\u001b[0;32m      1\u001b[0m \u001b[0ma\u001b[0m\u001b[1;33m=\u001b[0m\u001b[0mint\u001b[0m\u001b[1;33m(\u001b[0m\u001b[0minput\u001b[0m\u001b[1;33m(\u001b[0m\u001b[1;34m\"enter a number\"\u001b[0m\u001b[1;33m)\u001b[0m\u001b[1;33m)\u001b[0m\u001b[1;33m\u001b[0m\u001b[1;33m\u001b[0m\u001b[0m\n\u001b[0;32m      2\u001b[0m \u001b[0mb\u001b[0m\u001b[1;33m=\u001b[0m\u001b[0mint\u001b[0m\u001b[1;33m(\u001b[0m\u001b[0minput\u001b[0m\u001b[1;33m(\u001b[0m\u001b[1;34m\"enter a number\"\u001b[0m\u001b[1;33m)\u001b[0m\u001b[1;33m)\u001b[0m\u001b[1;33m\u001b[0m\u001b[1;33m\u001b[0m\u001b[0m\n\u001b[1;32m----> 3\u001b[1;33m \u001b[0mprint\u001b[0m\u001b[1;33m(\u001b[0m\u001b[0ma\u001b[0m\u001b[1;33m/\u001b[0m\u001b[0mb\u001b[0m\u001b[1;33m)\u001b[0m\u001b[1;33m\u001b[0m\u001b[1;33m\u001b[0m\u001b[0m\n\u001b[0m",
      "\u001b[1;31mZeroDivisionError\u001b[0m: division by zero"
     ]
    }
   ],
   "source": [
    "a=int(input(\"enter a number\"))\n",
    "b=int(input(\"enter a number\"))\n",
    "print(a/b)"
   ]
  },
  {
   "cell_type": "markdown",
   "id": "26fed550",
   "metadata": {},
   "source": [
    "***"
   ]
  },
  {
   "cell_type": "markdown",
   "id": "b230d3a7",
   "metadata": {},
   "source": [
    "### Try"
   ]
  },
  {
   "cell_type": "markdown",
   "id": "2a5b686d",
   "metadata": {},
   "source": [
    "This is the group of code that is attempted which may or may not lead to an error.\n",
    "\n",
    "**except** : if try blocks returns an error except block wille execute\n",
    "\n",
    "**finally** : finally will execute always"
   ]
  },
  {
   "cell_type": "code",
   "execution_count": 1,
   "id": "f7185d49",
   "metadata": {},
   "outputs": [
    {
     "name": "stdout",
     "output_type": "stream",
     "text": [
      "enter a number15\n",
      "enter a number25\n",
      "0.6\n"
     ]
    }
   ],
   "source": [
    "try:\n",
    "    a=int(input(\"enter a number\"))\n",
    "    b=int(input(\"enter a number\"))\n",
    "except:\n",
    "    print(\"Division by zero not possible\")\n",
    "else:\n",
    "    print(a/b)"
   ]
  },
  {
   "cell_type": "code",
   "execution_count": 2,
   "id": "677b0f71",
   "metadata": {},
   "outputs": [
    {
     "name": "stdout",
     "output_type": "stream",
     "text": [
      "enter a number25\n",
      "enter a number35\n",
      "0.7142857142857143\n",
      "HELLO WORLD\n"
     ]
    }
   ],
   "source": [
    "try:\n",
    "    a=int(input(\"enter a number\"))\n",
    "    b=int(input(\"enter a number\"))\n",
    "    print(a/b)\n",
    "except:\n",
    "    print(\"Division by zero not possible\")  \n",
    "finally:\n",
    "    print(\"HELLO WORLD\")"
   ]
  },
  {
   "cell_type": "markdown",
   "id": "e99973f4",
   "metadata": {},
   "source": [
    "***"
   ]
  },
  {
   "cell_type": "markdown",
   "id": "e83bb7bd",
   "metadata": {},
   "source": [
    "### Multiple Except"
   ]
  },
  {
   "cell_type": "code",
   "execution_count": 4,
   "id": "613af58d",
   "metadata": {},
   "outputs": [
    {
     "name": "stdout",
     "output_type": "stream",
     "text": [
      "please define the variable\n",
      "HELLO WORLD\n"
     ]
    }
   ],
   "source": [
    "try:\n",
    "    a=20\n",
    "    if a<20:\n",
    "        b1=a/(a-20)\n",
    "    print(\"value of b is \",b1)\n",
    "except ZeroDivisionError:\n",
    "    print(\"division with zero not possible\")\n",
    "except NameError:\n",
    "    print(\"please define the variable\")\n",
    "finally:\n",
    "    print(\"HELLO WORLD\")"
   ]
  },
  {
   "cell_type": "code",
   "execution_count": 6,
   "id": "06cfc343",
   "metadata": {},
   "outputs": [
    {
     "name": "stdout",
     "output_type": "stream",
     "text": [
      "enter a number53\n",
      "enter a numberd\n",
      "type error\n",
      "Done\n"
     ]
    }
   ],
   "source": [
    "a=input(\"enter a number\")\n",
    "b=input(\"enter a number\")\n",
    "try:\n",
    "    result=(a/b)\n",
    "except ZeroDivisionError:\n",
    "    print(\"Division by zero not possible\") \n",
    "except ValueError:\n",
    "    print(\"Both Values should be an Integer\")\n",
    "except TypeError:\n",
    "    print(\"type error\")\n",
    "finally:\n",
    "    print('Done')"
   ]
  }
 ],
 "metadata": {
  "kernelspec": {
   "display_name": "Python 3 (ipykernel)",
   "language": "python",
   "name": "python3"
  },
  "language_info": {
   "codemirror_mode": {
    "name": "ipython",
    "version": 3
   },
   "file_extension": ".py",
   "mimetype": "text/x-python",
   "name": "python",
   "nbconvert_exporter": "python",
   "pygments_lexer": "ipython3",
   "version": "3.9.7"
  }
 },
 "nbformat": 4,
 "nbformat_minor": 5
}
