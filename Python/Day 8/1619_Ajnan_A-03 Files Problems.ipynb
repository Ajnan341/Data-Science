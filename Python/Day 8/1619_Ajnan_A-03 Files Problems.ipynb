{
 "cells": [
  {
   "cell_type": "markdown",
   "metadata": {},
   "source": [
    "**1. Create a file with the following content**\n",
    "<br>Erle is the enabling technology for the \n",
    "<br>next generation of aerial and terrestrial \n",
    "<br>robots that will be used in cities solving \n",
    "<br>tasks such as surveillance, enviromental \n",
    "<br>monitoring or even providing aid at catastrophes.\n"
   ]
  },
  {
   "cell_type": "code",
   "execution_count": 3,
   "metadata": {},
   "outputs": [
    {
     "name": "stdout",
     "output_type": "stream",
     "text": [
      "Overwriting file1.txt\n"
     ]
    }
   ],
   "source": [
    "%%writefile file1.txt\n",
    "Erle is the enabling technology for the \n",
    "next generation of aerial and terrestrial \n",
    "robots that will be used in cities solving \n",
    "tasks such as surveillance, enviromental \n",
    "monitoring or even providing aid at catastrophes."
   ]
  },
  {
   "cell_type": "markdown",
   "metadata": {},
   "source": [
    "**2.Read the content of that file**"
   ]
  },
  {
   "cell_type": "code",
   "execution_count": 2,
   "metadata": {},
   "outputs": [
    {
     "data": {
      "text/plain": [
       "'Erle is the enabling technology for the \\nnext generation of aerial and terrestrial \\nrobots that will be used in cities solving \\ntasks such as surveillance, enviromental \\nmonitoring or even providing aid at catastrophes.\\n'"
      ]
     },
     "execution_count": 2,
     "metadata": {},
     "output_type": "execute_result"
    }
   ],
   "source": [
    "a=open(\"file1.txt\")\n",
    "a.read()"
   ]
  },
  {
   "cell_type": "markdown",
   "metadata": {},
   "source": [
    "**3.Write a Python program to read a file line by line and store it into a list**"
   ]
  },
  {
   "cell_type": "code",
   "execution_count": 4,
   "metadata": {},
   "outputs": [
    {
     "name": "stdout",
     "output_type": "stream",
     "text": [
      "Erle is the enabling technology for the\n",
      "next generation of aerial and terrestrial\n",
      "robots that will be used in cities solving\n",
      "tasks such as surveillance, enviromental\n",
      "monitoring or even providing aid at catastrophes.\n"
     ]
    }
   ],
   "source": [
    "def read_file_to_list(filename):\n",
    "    lines = []\n",
    "    try:\n",
    "        with open(filename, 'r') as file:\n",
    "            for line in file:\n",
    "                lines.append(line.strip()) \n",
    "    except FileNotFoundError:\n",
    "        print(f\"Error: The file '{filename}' was not found.\")\n",
    "    except IOError:\n",
    "        print(f\"Error: An IOError occurred while trying to read the file '{filename}'.\")\n",
    "    \n",
    "    return lines\n",
    "\n",
    "filename = 'file1.txt'  \n",
    "lines = read_file_to_list(filename)\n",
    "\n",
    "for line in lines:\n",
    "    print(line)\n"
   ]
  },
  {
   "cell_type": "markdown",
   "metadata": {},
   "source": [
    "**4.Write a Python program to count the number of lines in a text file.**"
   ]
  },
  {
   "cell_type": "code",
   "execution_count": 5,
   "metadata": {},
   "outputs": [
    {
     "name": "stdout",
     "output_type": "stream",
     "text": [
      "the total no of lines 5\n",
      "Erle is the enabling technology for the\n",
      "next generation of aerial and terrestrial\n",
      "robots that will be used in cities solving\n",
      "tasks such as surveillance, enviromental\n",
      "monitoring or even providing aid at catastrophes.\n"
     ]
    }
   ],
   "source": [
    "def read_file_to_list(filename):\n",
    "    lines = []\n",
    "    try:\n",
    "        line_count=0\n",
    "        with open(filename, 'r') as file:\n",
    "            for line in file:\n",
    "                line_count+=1\n",
    "                lines.append(line.strip()) \n",
    "    except FileNotFoundError:\n",
    "        print(f\"Error: The file '{filename}' was not found.\")\n",
    "    except IOError:\n",
    "        print(f\"Error: An IOError occurred while trying to read the file '{filename}'.\")\n",
    "    \n",
    "    return lines,line_count\n",
    "\n",
    "filename = 'file1.txt'  \n",
    "lines,no_of_lines = read_file_to_list(filename)\n",
    "print('the total no of lines',no_of_lines)\n",
    "for line in lines:\n",
    "    print(line)\n"
   ]
  },
  {
   "cell_type": "markdown",
   "metadata": {},
   "source": [
    "**5.Write a Python program to read a random line from a file.**"
   ]
  },
  {
   "cell_type": "code",
   "execution_count": 8,
   "metadata": {},
   "outputs": [
    {
     "name": "stdout",
     "output_type": "stream",
     "text": [
      "['Erle is the enabling technology for the \\n', 'next generation of aerial and terrestrial \\n', 'robots that will be used in cities solving \\n', 'tasks such as surveillance, enviromental \\n', 'monitoring or even providing aid at catastrophes.\\n']\n",
      "\n",
      "random line : next generation of aerial and terrestrial\n"
     ]
    }
   ],
   "source": [
    "import random\n",
    "f=open('file1.txt','r')\n",
    "lines=f.readlines()\n",
    "print(lines)\n",
    "random_line=random.choice(lines).strip()\n",
    "print()\n",
    "print('random line :',random_line)"
   ]
  },
  {
   "cell_type": "markdown",
   "metadata": {},
   "source": [
    "**6.Write a Python program that takes a text file as input and returns the number of words of a given text file.**"
   ]
  },
  {
   "cell_type": "code",
   "execution_count": 13,
   "metadata": {},
   "outputs": [
    {
     "name": "stdout",
     "output_type": "stream",
     "text": [
      "Erle is the enabling technology for the \n",
      "next generation of aerial and terrestrial \n",
      "robots that will be used in cities solving \n",
      "tasks such as surveillance, enviromental \n",
      "monitoring or even providing aid at catastrophes.\n",
      "\n",
      "['Erle', 'is', 'the', 'enabling', 'technology', 'for', 'the', 'next', 'generation', 'of', 'aerial', 'and', 'terrestrial', 'robots', 'that', 'will', 'be', 'used', 'in', 'cities', 'solving', 'tasks', 'such', 'as', 'surveillance,', 'enviromental', 'monitoring', 'or', 'even', 'providing', 'aid', 'at', 'catastrophes.']\n",
      "33\n"
     ]
    }
   ],
   "source": [
    "\n",
    "f=open('file1.txt','r')\n",
    "text = f.read()\n",
    "print(text)\n",
    "words = text.split()  \n",
    "word_count = len(words)\n",
    "print(words)\n",
    "print(word_count)"
   ]
  },
  {
   "cell_type": "markdown",
   "metadata": {},
   "source": [
    "**7.Write a program in Python which allows you to insert at the 3rd position of an existing file called myFile.txt, the line \"This line was inserted via Python code! \" without changing the existing content file**"
   ]
  },
  {
   "cell_type": "code",
   "execution_count": 7,
   "metadata": {},
   "outputs": [
    {
     "name": "stdout",
     "output_type": "stream",
     "text": [
      "Overwriting myFile.txt\n"
     ]
    }
   ],
   "source": [
    "%%writefile myFile.txt\n",
    "Erle is the enabling technology for the \n",
    "next generation of aerial and terrestrial \n",
    "robots that will be used in cities solving \n",
    "tasks such as surveillance, enviromental \n",
    "monitoring or even providing aid at catastrophes."
   ]
  },
  {
   "cell_type": "code",
   "execution_count": 8,
   "metadata": {},
   "outputs": [
    {
     "name": "stdout",
     "output_type": "stream",
     "text": [
      "Erle is the enabling technology for the \n",
      "next generation of aerial and terrestrial \n",
      "This line was inserted via Python code! \n",
      "robots that will be used in cities solving \n",
      "tasks such as surveillance, enviromental \n",
      "monitoring or even providing aid at catastrophes.\n"
     ]
    }
   ],
   "source": [
    "def lineinsert():\n",
    "    \n",
    "    f=open('myFile.txt','r')\n",
    "    lines=f.readlines()\n",
    "    position=int(input('enter the position'))\n",
    "    if position < 1:\n",
    "        print(\"Position should be greater than 0.\")\n",
    "        return\n",
    "    \n",
    "    position -= 1\n",
    "\n",
    "    if position > len(lines):\n",
    "        print(f\"Position {position + 1} is beyond the end of the file.\")\n",
    "        return\n",
    "\n",
    "    lines.insert(position, \"This line was inserted via Python code! \" + '\\n')\n",
    "    f=open('myFile.txt','w')\n",
    "    f.writelines(lines)\n",
    "    f=open('myFile.txt','r')\n",
    "    lines=f.read()\n",
    "    print(lines.strip())\n",
    "    \n",
    "\n",
    "lineinsert()\n"
   ]
  },
  {
   "cell_type": "markdown",
   "metadata": {},
   "source": [
    "**8.Write a program to prompt for a file name, and then read through the file line-by-line. Note: the file name is Erle.txtand its content is,**\n",
    "\n",
    "<br>Erle is the enabling technology for the\n",
    "<br>next generation of aerial and terrestrial\n",
    "<br>robots that will be used in cities solving\n",
    "<br>tasks such as surveillance, enviromental\n",
    "<br>monitoring or even providing aid at catastrophes."
   ]
  },
  {
   "cell_type": "code",
   "execution_count": 9,
   "metadata": {},
   "outputs": [
    {
     "name": "stdout",
     "output_type": "stream",
     "text": [
      "Writing Erle.txt\n"
     ]
    }
   ],
   "source": [
    "%%writefile Erle.txt\n",
    "Erle is the enabling technology for the \n",
    "next generation of aerial and terrestrial \n",
    "This line was inserted via Python code! \n",
    "robots that will be used in cities solving \n",
    "tasks such as surveillance, enviromental \n",
    "monitoring or even providing aid at catastrophes."
   ]
  },
  {
   "cell_type": "code",
   "execution_count": 10,
   "metadata": {},
   "outputs": [
    {
     "name": "stdout",
     "output_type": "stream",
     "text": [
      "Erle is the enabling technology for the\n",
      "next generation of aerial and terrestrial\n",
      "This line was inserted via Python code!\n",
      "robots that will be used in cities solving\n",
      "tasks such as surveillance, enviromental\n",
      "monitoring or even providing aid at catastrophes.\n"
     ]
    }
   ],
   "source": [
    "filename=input('enter the file name')\n",
    "f=open(filename,'r')\n",
    "for line in f:\n",
    "    print(line.strip())"
   ]
  },
  {
   "cell_type": "markdown",
   "metadata": {},
   "source": [
    "**9.Write a Python program that displays the longest word found in a text file**"
   ]
  },
  {
   "cell_type": "code",
   "execution_count": 11,
   "metadata": {},
   "outputs": [
    {
     "name": "stdout",
     "output_type": "stream",
     "text": [
      "longest word is: surveillance,\n"
     ]
    }
   ],
   "source": [
    "def find_longest_word(filename):\n",
    "    f=open(filename,'r')\n",
    "    text=f.read()\n",
    "    words = text.split()\n",
    "    \n",
    "    # Initialize variables to keep track of the longest word\n",
    "    longest_word = \"\"\n",
    "    \n",
    "    # Iterate through each word to find the longest one\n",
    "    for word in words:\n",
    "        if len(word) > len(longest_word):\n",
    "            longest_word = word\n",
    "    \n",
    "    return longest_word\n",
    "print('longest word is:', find_longest_word('Erle.txt'))"
   ]
  }
 ],
 "metadata": {
  "kernelspec": {
   "display_name": "Python 3 (ipykernel)",
   "language": "python",
   "name": "python3"
  },
  "language_info": {
   "codemirror_mode": {
    "name": "ipython",
    "version": 3
   },
   "file_extension": ".py",
   "mimetype": "text/x-python",
   "name": "python",
   "nbconvert_exporter": "python",
   "pygments_lexer": "ipython3",
   "version": "3.11.5"
  }
 },
 "nbformat": 4,
 "nbformat_minor": 4
}
