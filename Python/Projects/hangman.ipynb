{
 "cells": [
  {
   "cell_type": "code",
   "execution_count": 1,
   "metadata": {},
   "outputs": [
    {
     "name": "stdout",
     "output_type": "stream",
     "text": [
      "Welcome to Hangman!\n",
      "\n",
      "_ _ _ _\n",
      "That letter doesn't appear in the word.\n",
      "\n",
      "_ _ _ _\n",
      "That letter doesn't appear in the word.\n",
      "\n",
      "_ _ _ _\n",
      "\n",
      "r _ _ _\n"
     ]
    }
   ],
   "source": [
    "\n",
    "import random\n",
    "\n",
    "# List of words to guess\n",
    "words = ['python', 'java', 'kotlin', 'javascript', 'ruby', 'swift']\n",
    "\n",
    "# Randomly choose a word from the list\n",
    "chosen_word = random.choice(words)\n",
    "word_display = ['_' for _ in chosen_word]  # Create a list of underscores\n",
    "attempts = 8  # Number of allowed attempts\n",
    "\n",
    "print(\"Welcome to Hangman!\")\n",
    "\n",
    "while attempts > 0 and '_' in word_display:\n",
    "    print(\"\\n\" + ' '.join(word_display))\n",
    "    guess = input(\"Guess a letter: \").lower()\n",
    "\n",
    "    # Check if the guessed letter is in the chosen word\n",
    "    if guess in chosen_word:\n",
    "        for index, letter in enumerate(chosen_word):\n",
    "            if letter == guess:\n",
    "                word_display[index] = guess  # Reveal the letter\n",
    "    else:\n",
    "        print(\"That letter doesn't appear in the word.\")\n",
    "        attempts -= 1\n",
    "\n",
    "    # Check for repeated guesses or invalid input\n",
    "    # Note: This simple version does not handle repeated guesses or validate input.\n",
    "    # Consider adding these features for a more complete game experience.\n",
    "\n",
    "# Game conclusion\n",
    "if '_' not in word_display:\n",
    "    print(\"You guessed the word!\")\n",
    "    print(' '.join(word_display))\n",
    "    print(\"You survived!\")\n",
    "else:\n",
    "    print(\"You ran out of attempts. The word was: \" + chosen_word)\n",
    "    print(\"You lost!\")\n"
   ]
  }
 ],
 "metadata": {
  "kernelspec": {
   "display_name": "Python 3",
   "language": "python",
   "name": "python3"
  },
  "language_info": {
   "codemirror_mode": {
    "name": "ipython",
    "version": 3
   },
   "file_extension": ".py",
   "mimetype": "text/x-python",
   "name": "python",
   "nbconvert_exporter": "python",
   "pygments_lexer": "ipython3",
   "version": "3.11.5"
  }
 },
 "nbformat": 4,
 "nbformat_minor": 2
}
